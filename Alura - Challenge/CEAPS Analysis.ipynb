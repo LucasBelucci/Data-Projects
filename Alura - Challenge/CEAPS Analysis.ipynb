{
 "cells": [
  {
   "cell_type": "code",
   "execution_count": 1,
   "id": "4a8bea08",
   "metadata": {},
   "outputs": [
    {
     "name": "stdout",
     "output_type": "stream",
     "text": [
      "Python version: 3.10.6 (tags/v3.10.6:9c7b4bd, Aug  1 2022, 21:53:49) [MSC v.1932 64 bit (AMD64)]\n",
      "pandas version: 1.4.3\n",
      "matplotlib version: 3.6.3\n",
      "NumPy version: 1.23.0\n",
      "SciPy version: 1.10.0\n",
      "IPython version: 8.9.0\n",
      "scikit-learn version: 1.2.1\n",
      "-------------------------\n"
     ]
    }
   ],
   "source": [
    "\"\"\"\n",
    "Python 3.10 Best models Spaceship_Titanic program will you survive on the spaceship titanic or not\n",
    "File name Titanic_eda.py\n",
    "\n",
    "Version: 0.1\n",
    "Author: MLCV\n",
    "Date: 2023-06-25\n",
    "\"\"\"\n",
    "\n",
    "# This Python 3 environment comes with many helpful analytics libraries installed\n",
    "# It is defined by the kaggle/python docker image: https://github.com/kaggle/docker-python\n",
    "\n",
    "#load packages\n",
    "import sys #access to system parameters https://docs.python.org/3/library/sys.html\n",
    "print(\"Python version: {}\". format(sys.version))\n",
    "\n",
    "import pandas as pd #collection of functions for data processing and analysis modeled after R dataframes with SQL like features\n",
    "print(\"pandas version: {}\". format(pd.__version__))\n",
    "\n",
    "import matplotlib #collection of functions for scientific and publication-ready visualization\n",
    "print(\"matplotlib version: {}\". format(matplotlib.__version__))\n",
    "\n",
    "import numpy as np #foundational package for scientific computing\n",
    "print(\"NumPy version: {}\". format(np.__version__))\n",
    "\n",
    "import scipy as sp #collection of functions for scientific computing and advance mathematics\n",
    "print(\"SciPy version: {}\". format(sp.__version__)) \n",
    "\n",
    "import IPython\n",
    "from IPython import display #pretty printing of dataframes in Jupyter notebook\n",
    "print(\"IPython version: {}\". format(IPython.__version__)) \n",
    "\n",
    "import sklearn #collection of machine learning algorithms\n",
    "print(\"scikit-learn version: {}\". format(sklearn.__version__))\n",
    "\n",
    "\n",
    "\n",
    "#misc libraries\n",
    "import random\n",
    "import time\n",
    "\n",
    "\n",
    "#ignore warnings\n",
    "import warnings\n",
    "warnings.filterwarnings('ignore')\n",
    "print('-'*25)"
   ]
  },
  {
   "cell_type": "code",
   "execution_count": 2,
   "id": "1467ab8e",
   "metadata": {},
   "outputs": [],
   "source": [
    "#Common Model Algorithms\n",
    "from sklearn import svm, tree, linear_model, neighbors, naive_bayes, ensemble, discriminant_analysis, gaussian_process\n",
    "from xgboost import XGBClassifier\n",
    "\n",
    "#Common Model Helpers\n",
    "from category_encoders import OneHotEncoder, MEstimateEncoder, GLMMEncoder, OrdinalEncoder\n",
    "from sklearn.model_selection import RepeatedStratifiedKFold, StratifiedKFold, KFold\n",
    "from sklearn.ensemble import ExtraTreesRegressor, RandomForestRegressor, GradientBoostingRegressor\n",
    "from sklearn.ensemble import HistGradientBoostingRegressor, VotingRegressor, StackingRegressor\n",
    "from sklearn.svm import SVR, LinearSVR\n",
    "from sklearn.neighbors import KNeighborsRegressor\n",
    "from sklearn.linear_model import LinearRegression, Ridge, Lasso, ElasticNet\n",
    "from sklearn.linear_model import PassiveAggressiveRegressor, ARDRegression\n",
    "from sklearn.linear_model import TheilSenRegressor, HuberRegressor\n",
    "from sklearn.neural_network import MLPRegressor\n",
    "from sklearn.metrics import mean_absolute_error, roc_auc_score, roc_curve\n",
    "from sklearn.metrics.pairwise import euclidean_distances\n",
    "from sklearn.pipeline import Pipeline, make_pipeline\n",
    "from sklearn.base import BaseEstimator, TransformerMixin\n",
    "from sklearn.preprocessing import FunctionTransformer, StandardScaler, MinMaxScaler\n",
    "from sklearn.compose import ColumnTransformer\n",
    "from scipy.cluster.hierarchy import dendrogram, linkage\n",
    "from scipy.spatial.distance import squareform\n",
    "from xgboost import XGBRegressor, XGBClassifier\n",
    "from lightgbm import LGBMRegressor\n",
    "from catboost import CatBoostRegressor\n",
    "\n",
    "#Visualization\n",
    "import matplotlib as mpl\n",
    "import matplotlib.pyplot as plt\n",
    "import matplotlib.pylab as pylab\n",
    "import seaborn as sns\n",
    "from pandas.plotting import scatter_matrix\n",
    "\n",
    "\n",
    "#Configure Visualization Defaults\n",
    "#%matplotlib inline = show plots in Jupyter Notebook browser\n",
    "%matplotlib inline\n",
    "mpl.style.use('ggplot')\n",
    "sns.set_style('white')\n",
    "pylab.rcParams['figure.figsize'] = 12,8"
   ]
  },
  {
   "cell_type": "code",
   "execution_count": 78,
   "id": "129ef1fe",
   "metadata": {},
   "outputs": [],
   "source": [
    "df_2008 = pd.read_csv('Data/CEAPS_2008.csv', sep=';', encoding = 'ISO-8859-1', skiprows=1)\n",
    "df_2019 = pd.read_csv('Data/CEAPS_2019.csv', sep=';', encoding = 'ISO-8859-1', skiprows=1)\n",
    "df_2020 = pd.read_csv('Data/CEAPS_2020.csv', sep=';', encoding = 'ISO-8859-1', skiprows=1)\n",
    "df_2021 = pd.read_csv('Data/CEAPS_2021.csv', sep=';', encoding = 'ISO-8859-1', skiprows=1)\n",
    "df_2022 = pd.read_csv('Data/CEAPS_2022.csv', sep=';', encoding = 'ISO-8859-1', skiprows=1)\n",
    "df_exercicio = pd.read_csv('Data/parla_inter.csv', sep=';', encoding = 'ISO-8859-1', skiprows=1)"
   ]
  },
  {
   "cell_type": "code",
   "execution_count": 50,
   "id": "c02276fe",
   "metadata": {},
   "outputs": [
    {
     "name": "stdout",
     "output_type": "stream",
     "text": [
      "<class 'pandas.core.frame.DataFrame'>\n",
      "RangeIndex: 2449 entries, 0 to 2448\n",
      "Data columns (total 11 columns):\n",
      " #   Column             Non-Null Count  Dtype  \n",
      "---  ------             --------------  -----  \n",
      " 0   ANO                2449 non-null   int64  \n",
      " 1   MES                2449 non-null   int64  \n",
      " 2   SENADOR            2449 non-null   object \n",
      " 3   TIPO_DESPESA       2449 non-null   object \n",
      " 4   CNPJ_CPF           0 non-null      float64\n",
      " 5   FORNECEDOR         0 non-null      float64\n",
      " 6   DOCUMENTO          0 non-null      float64\n",
      " 7   DATA               0 non-null      float64\n",
      " 8   DETALHAMENTO       0 non-null      float64\n",
      " 9   VALOR_REEMBOLSADO  2449 non-null   object \n",
      " 10  COD_DOCUMENTO      2449 non-null   int64  \n",
      "dtypes: float64(5), int64(3), object(3)\n",
      "memory usage: 210.6+ KB\n"
     ]
    }
   ],
   "source": [
    "df_2008.info()"
   ]
  },
  {
   "cell_type": "code",
   "execution_count": 5,
   "id": "9d10a1e4",
   "metadata": {},
   "outputs": [
    {
     "data": {
      "text/html": [
       "<div>\n",
       "<style scoped>\n",
       "    .dataframe tbody tr th:only-of-type {\n",
       "        vertical-align: middle;\n",
       "    }\n",
       "\n",
       "    .dataframe tbody tr th {\n",
       "        vertical-align: top;\n",
       "    }\n",
       "\n",
       "    .dataframe thead th {\n",
       "        text-align: right;\n",
       "    }\n",
       "</style>\n",
       "<table border=\"1\" class=\"dataframe\">\n",
       "  <thead>\n",
       "    <tr style=\"text-align: right;\">\n",
       "      <th></th>\n",
       "      <th>ANO</th>\n",
       "      <th>MES</th>\n",
       "      <th>CNPJ_CPF</th>\n",
       "      <th>FORNECEDOR</th>\n",
       "      <th>DOCUMENTO</th>\n",
       "      <th>DATA</th>\n",
       "      <th>DETALHAMENTO</th>\n",
       "      <th>COD_DOCUMENTO</th>\n",
       "    </tr>\n",
       "  </thead>\n",
       "  <tbody>\n",
       "    <tr>\n",
       "      <th>count</th>\n",
       "      <td>2449.0</td>\n",
       "      <td>2449.000000</td>\n",
       "      <td>0.0</td>\n",
       "      <td>0.0</td>\n",
       "      <td>0.0</td>\n",
       "      <td>0.0</td>\n",
       "      <td>0.0</td>\n",
       "      <td>2.449000e+03</td>\n",
       "    </tr>\n",
       "    <tr>\n",
       "      <th>mean</th>\n",
       "      <td>2008.0</td>\n",
       "      <td>7.000817</td>\n",
       "      <td>NaN</td>\n",
       "      <td>NaN</td>\n",
       "      <td>NaN</td>\n",
       "      <td>NaN</td>\n",
       "      <td>NaN</td>\n",
       "      <td>2.008070e+12</td>\n",
       "    </tr>\n",
       "    <tr>\n",
       "      <th>std</th>\n",
       "      <td>0.0</td>\n",
       "      <td>3.245912</td>\n",
       "      <td>NaN</td>\n",
       "      <td>NaN</td>\n",
       "      <td>NaN</td>\n",
       "      <td>NaN</td>\n",
       "      <td>NaN</td>\n",
       "      <td>3.245635e+07</td>\n",
       "    </tr>\n",
       "    <tr>\n",
       "      <th>min</th>\n",
       "      <td>2008.0</td>\n",
       "      <td>2.000000</td>\n",
       "      <td>NaN</td>\n",
       "      <td>NaN</td>\n",
       "      <td>NaN</td>\n",
       "      <td>NaN</td>\n",
       "      <td>NaN</td>\n",
       "      <td>2.008020e+12</td>\n",
       "    </tr>\n",
       "    <tr>\n",
       "      <th>25%</th>\n",
       "      <td>2008.0</td>\n",
       "      <td>4.000000</td>\n",
       "      <td>NaN</td>\n",
       "      <td>NaN</td>\n",
       "      <td>NaN</td>\n",
       "      <td>NaN</td>\n",
       "      <td>NaN</td>\n",
       "      <td>2.008040e+12</td>\n",
       "    </tr>\n",
       "    <tr>\n",
       "      <th>50%</th>\n",
       "      <td>2008.0</td>\n",
       "      <td>7.000000</td>\n",
       "      <td>NaN</td>\n",
       "      <td>NaN</td>\n",
       "      <td>NaN</td>\n",
       "      <td>NaN</td>\n",
       "      <td>NaN</td>\n",
       "      <td>2.008070e+12</td>\n",
       "    </tr>\n",
       "    <tr>\n",
       "      <th>75%</th>\n",
       "      <td>2008.0</td>\n",
       "      <td>10.000000</td>\n",
       "      <td>NaN</td>\n",
       "      <td>NaN</td>\n",
       "      <td>NaN</td>\n",
       "      <td>NaN</td>\n",
       "      <td>NaN</td>\n",
       "      <td>2.008100e+12</td>\n",
       "    </tr>\n",
       "    <tr>\n",
       "      <th>max</th>\n",
       "      <td>2008.0</td>\n",
       "      <td>12.000000</td>\n",
       "      <td>NaN</td>\n",
       "      <td>NaN</td>\n",
       "      <td>NaN</td>\n",
       "      <td>NaN</td>\n",
       "      <td>NaN</td>\n",
       "      <td>2.008121e+12</td>\n",
       "    </tr>\n",
       "  </tbody>\n",
       "</table>\n",
       "</div>"
      ],
      "text/plain": [
       "          ANO          MES  CNPJ_CPF  FORNECEDOR  DOCUMENTO  DATA  \\\n",
       "count  2449.0  2449.000000       0.0         0.0        0.0   0.0   \n",
       "mean   2008.0     7.000817       NaN         NaN        NaN   NaN   \n",
       "std       0.0     3.245912       NaN         NaN        NaN   NaN   \n",
       "min    2008.0     2.000000       NaN         NaN        NaN   NaN   \n",
       "25%    2008.0     4.000000       NaN         NaN        NaN   NaN   \n",
       "50%    2008.0     7.000000       NaN         NaN        NaN   NaN   \n",
       "75%    2008.0    10.000000       NaN         NaN        NaN   NaN   \n",
       "max    2008.0    12.000000       NaN         NaN        NaN   NaN   \n",
       "\n",
       "       DETALHAMENTO  COD_DOCUMENTO  \n",
       "count           0.0   2.449000e+03  \n",
       "mean            NaN   2.008070e+12  \n",
       "std             NaN   3.245635e+07  \n",
       "min             NaN   2.008020e+12  \n",
       "25%             NaN   2.008040e+12  \n",
       "50%             NaN   2.008070e+12  \n",
       "75%             NaN   2.008100e+12  \n",
       "max             NaN   2.008121e+12  "
      ]
     },
     "execution_count": 5,
     "metadata": {},
     "output_type": "execute_result"
    }
   ],
   "source": [
    "df_2008.describe()"
   ]
  },
  {
   "cell_type": "code",
   "execution_count": 6,
   "id": "58411ec4",
   "metadata": {},
   "outputs": [
    {
     "name": "stdout",
     "output_type": "stream",
     "text": [
      "Null values in CEAPS 2008:\n",
      " ANO                     0\n",
      "MES                     0\n",
      "SENADOR                 0\n",
      "TIPO_DESPESA            0\n",
      "CNPJ_CPF             2449\n",
      "FORNECEDOR           2449\n",
      "DOCUMENTO            2449\n",
      "DATA                 2449\n",
      "DETALHAMENTO         2449\n",
      "VALOR_REEMBOLSADO       0\n",
      "COD_DOCUMENTO           0\n",
      "dtype: int64\n"
     ]
    }
   ],
   "source": [
    "print('Null values in CEAPS 2008:\\n', df_2008.isna().sum())"
   ]
  },
  {
   "cell_type": "code",
   "execution_count": 7,
   "id": "3f9ae1aa",
   "metadata": {},
   "outputs": [
    {
     "data": {
      "text/plain": [
       "CRISTOVAM BUARQUE        47\n",
       "PATRÍCIA SABOYA GOMES    46\n",
       "IDELI SALVATTI           45\n",
       "HERÁCLITO FORTES         45\n",
       "JOSÉ NERY                45\n",
       "                         ..\n",
       "GILVAM BORGES             7\n",
       "CARLOS DUNGA              5\n",
       "GEOVANI BORGES            4\n",
       "ARTHUR VIRGÍLIO           4\n",
       "MARIA DO CARMO ALVES      4\n",
       "Name: SENADOR, Length: 85, dtype: int64"
      ]
     },
     "execution_count": 7,
     "metadata": {},
     "output_type": "execute_result"
    }
   ],
   "source": [
    "df_2008.SENADOR.value_counts()"
   ]
  },
  {
   "cell_type": "code",
   "execution_count": 8,
   "id": "5b4d73da",
   "metadata": {},
   "outputs": [
    {
     "data": {
      "text/plain": [
       "SENADOR\n",
       "ADA MELLO                          8\n",
       "ADELMIR SANTANA                   22\n",
       "ALMEIDA LIMA                      36\n",
       "ALOIZIO MERCADANTE                44\n",
       "ALVARO DIAS                       39\n",
       "                                  ..\n",
       "TIÃO VIANA                        39\n",
       "VALDIR RAUPP                      15\n",
       "VALTER PEREIRA                    32\n",
       "VIRGINIO DE CARVALHO              23\n",
       "WELLINGTON SALGADO DE OLIVEIRA    43\n",
       "Name: TIPO_DESPESA, Length: 85, dtype: int64"
      ]
     },
     "execution_count": 8,
     "metadata": {},
     "output_type": "execute_result"
    }
   ],
   "source": [
    "df_2008.groupby('SENADOR')['TIPO_DESPESA'].count()"
   ]
  },
  {
   "cell_type": "code",
   "execution_count": 9,
   "id": "ff58291c",
   "metadata": {},
   "outputs": [],
   "source": [
    "df_2008['VALOR_REEMBOLSADO'].replace(',','.', inplace=True, regex=True)"
   ]
  },
  {
   "cell_type": "code",
   "execution_count": 10,
   "id": "09992ff6",
   "metadata": {},
   "outputs": [],
   "source": [
    "df_2008['VALOR_REEMBOLSADO'] = df_2008['VALOR_REEMBOLSADO'].astype(float)"
   ]
  },
  {
   "cell_type": "code",
   "execution_count": 11,
   "id": "7cf7af07",
   "metadata": {},
   "outputs": [
    {
     "name": "stdout",
     "output_type": "stream",
     "text": [
      "<class 'pandas.core.frame.DataFrame'>\n",
      "RangeIndex: 2449 entries, 0 to 2448\n",
      "Data columns (total 11 columns):\n",
      " #   Column             Non-Null Count  Dtype  \n",
      "---  ------             --------------  -----  \n",
      " 0   ANO                2449 non-null   int64  \n",
      " 1   MES                2449 non-null   int64  \n",
      " 2   SENADOR            2449 non-null   object \n",
      " 3   TIPO_DESPESA       2449 non-null   object \n",
      " 4   CNPJ_CPF           0 non-null      float64\n",
      " 5   FORNECEDOR         0 non-null      float64\n",
      " 6   DOCUMENTO          0 non-null      float64\n",
      " 7   DATA               0 non-null      float64\n",
      " 8   DETALHAMENTO       0 non-null      float64\n",
      " 9   VALOR_REEMBOLSADO  2449 non-null   float64\n",
      " 10  COD_DOCUMENTO      2449 non-null   int64  \n",
      "dtypes: float64(6), int64(3), object(2)\n",
      "memory usage: 210.6+ KB\n"
     ]
    }
   ],
   "source": [
    "df_2008.info()"
   ]
  },
  {
   "cell_type": "code",
   "execution_count": 12,
   "id": "4dc8fc33",
   "metadata": {},
   "outputs": [
    {
     "data": {
      "text/plain": [
       "SENADOR\n",
       "ROMEU TUMA              179192.22\n",
       "VALDIR RAUPP            178862.67\n",
       "JOÃO RIBEIRO            173496.20\n",
       "PAULO DUQUE             170078.86\n",
       "JOSÉ AGRIPINO           169906.44\n",
       "                          ...    \n",
       "MARCO ANTÔNIO COSTA      45354.64\n",
       "EDUARDO SUPLICY          33053.55\n",
       "TASSO JEREISSATI         27865.00\n",
       "ARTHUR VIRGÍLIO          15696.94\n",
       "MARIA DO CARMO ALVES     14862.24\n",
       "Name: VALOR_REEMBOLSADO, Length: 85, dtype: float64"
      ]
     },
     "execution_count": 12,
     "metadata": {},
     "output_type": "execute_result"
    }
   ],
   "source": [
    "df_2008.groupby('SENADOR')['VALOR_REEMBOLSADO'].sum().sort_values(ascending=False)"
   ]
  },
  {
   "cell_type": "code",
   "execution_count": 13,
   "id": "61993b69",
   "metadata": {},
   "outputs": [],
   "source": [
    "# PRECISO AGRUPAR 4 ANOS DO MESMO MANDATO PARA TER O VALOR TOTAL"
   ]
  },
  {
   "cell_type": "code",
   "execution_count": 14,
   "id": "fef79543",
   "metadata": {},
   "outputs": [
    {
     "name": "stdout",
     "output_type": "stream",
     "text": [
      "<class 'pandas.core.frame.DataFrame'>\n",
      "RangeIndex: 21634 entries, 0 to 21633\n",
      "Data columns (total 11 columns):\n",
      " #   Column             Non-Null Count  Dtype \n",
      "---  ------             --------------  ----- \n",
      " 0   ANO                21634 non-null  int64 \n",
      " 1   MES                21634 non-null  int64 \n",
      " 2   SENADOR            21634 non-null  object\n",
      " 3   TIPO_DESPESA       21634 non-null  object\n",
      " 4   CNPJ_CPF           21634 non-null  object\n",
      " 5   FORNECEDOR         21634 non-null  object\n",
      " 6   DOCUMENTO          20900 non-null  object\n",
      " 7   DATA               21634 non-null  object\n",
      " 8   DETALHAMENTO       13092 non-null  object\n",
      " 9   VALOR_REEMBOLSADO  21634 non-null  object\n",
      " 10  COD_DOCUMENTO      21634 non-null  int64 \n",
      "dtypes: int64(3), object(8)\n",
      "memory usage: 1.8+ MB\n",
      "CEAPS 2019:\n",
      " None\n",
      "<class 'pandas.core.frame.DataFrame'>\n",
      "RangeIndex: 14090 entries, 0 to 14089\n",
      "Data columns (total 11 columns):\n",
      " #   Column             Non-Null Count  Dtype \n",
      "---  ------             --------------  ----- \n",
      " 0   ANO                14090 non-null  int64 \n",
      " 1   MES                14090 non-null  int64 \n",
      " 2   SENADOR            14090 non-null  object\n",
      " 3   TIPO_DESPESA       14090 non-null  object\n",
      " 4   CNPJ_CPF           14090 non-null  object\n",
      " 5   FORNECEDOR         14090 non-null  object\n",
      " 6   DOCUMENTO          13470 non-null  object\n",
      " 7   DATA               14090 non-null  object\n",
      " 8   DETALHAMENTO       7228 non-null   object\n",
      " 9   VALOR_REEMBOLSADO  14090 non-null  object\n",
      " 10  COD_DOCUMENTO      14090 non-null  int64 \n",
      "dtypes: int64(3), object(8)\n",
      "memory usage: 1.2+ MB\n",
      "CEAPS 2020:\n",
      " None\n",
      "<class 'pandas.core.frame.DataFrame'>\n",
      "RangeIndex: 16827 entries, 0 to 16826\n",
      "Data columns (total 11 columns):\n",
      " #   Column             Non-Null Count  Dtype \n",
      "---  ------             --------------  ----- \n",
      " 0   ANO                16827 non-null  int64 \n",
      " 1   MES                16827 non-null  int64 \n",
      " 2   SENADOR            16827 non-null  object\n",
      " 3   TIPO_DESPESA       16827 non-null  object\n",
      " 4   CNPJ_CPF           16827 non-null  object\n",
      " 5   FORNECEDOR         16827 non-null  object\n",
      " 6   DOCUMENTO          16152 non-null  object\n",
      " 7   DATA               16827 non-null  object\n",
      " 8   DETALHAMENTO       9201 non-null   object\n",
      " 9   VALOR_REEMBOLSADO  16827 non-null  object\n",
      " 10  COD_DOCUMENTO      16827 non-null  int64 \n",
      "dtypes: int64(3), object(8)\n",
      "memory usage: 1.4+ MB\n",
      "CEAPS 2021:\n",
      " None\n",
      "<class 'pandas.core.frame.DataFrame'>\n",
      "RangeIndex: 16782 entries, 0 to 16781\n",
      "Data columns (total 11 columns):\n",
      " #   Column             Non-Null Count  Dtype \n",
      "---  ------             --------------  ----- \n",
      " 0   ANO                16782 non-null  int64 \n",
      " 1   MES                16782 non-null  int64 \n",
      " 2   SENADOR            16782 non-null  object\n",
      " 3   TIPO_DESPESA       16782 non-null  object\n",
      " 4   CNPJ_CPF           16782 non-null  object\n",
      " 5   FORNECEDOR         16782 non-null  object\n",
      " 6   DOCUMENTO          15848 non-null  object\n",
      " 7   DATA               16782 non-null  object\n",
      " 8   DETALHAMENTO       9062 non-null   object\n",
      " 9   VALOR_REEMBOLSADO  16782 non-null  object\n",
      " 10  COD_DOCUMENTO      16782 non-null  int64 \n",
      "dtypes: int64(3), object(8)\n",
      "memory usage: 1.4+ MB\n",
      "CEAPS 2022:\n",
      " None\n"
     ]
    }
   ],
   "source": [
    "print('CEAPS 2019:\\n', df_2019.info())\n",
    "print('CEAPS 2020:\\n', df_2020.info())\n",
    "print('CEAPS 2021:\\n', df_2021.info())\n",
    "print('CEAPS 2022:\\n', df_2022.info())"
   ]
  },
  {
   "cell_type": "code",
   "execution_count": 15,
   "id": "69d25298",
   "metadata": {},
   "outputs": [],
   "source": [
    "#df_combine = pd.merge(df_2019, df_2020, on = 'SENADOR', how='outer')\n",
    "#df_combine.head(5)"
   ]
  },
  {
   "cell_type": "code",
   "execution_count": 16,
   "id": "e1284d5e",
   "metadata": {},
   "outputs": [
    {
     "name": "stdout",
     "output_type": "stream",
     "text": [
      "<class 'pandas.core.frame.DataFrame'>\n",
      "Int64Index: 69333 entries, 0 to 16781\n",
      "Data columns (total 11 columns):\n",
      " #   Column             Non-Null Count  Dtype \n",
      "---  ------             --------------  ----- \n",
      " 0   ANO                69333 non-null  int64 \n",
      " 1   MES                69333 non-null  int64 \n",
      " 2   SENADOR            69333 non-null  object\n",
      " 3   TIPO_DESPESA       69333 non-null  object\n",
      " 4   CNPJ_CPF           69333 non-null  object\n",
      " 5   FORNECEDOR         69333 non-null  object\n",
      " 6   DOCUMENTO          66370 non-null  object\n",
      " 7   DATA               69333 non-null  object\n",
      " 8   DETALHAMENTO       38583 non-null  object\n",
      " 9   VALOR_REEMBOLSADO  69333 non-null  object\n",
      " 10  COD_DOCUMENTO      69333 non-null  int64 \n",
      "dtypes: int64(3), object(8)\n",
      "memory usage: 6.3+ MB\n"
     ]
    }
   ],
   "source": [
    "combine = df_2019.append(df_2020, ignore_index=False)\n",
    "combine = combine.append(df_2021, ignore_index=False)\n",
    "combine = combine.append(df_2022, ignore_index=False)\n",
    "df_combine = pd.DataFrame(data=combine)\n",
    "df_combine.info()"
   ]
  },
  {
   "cell_type": "code",
   "execution_count": 17,
   "id": "aed17d78",
   "metadata": {},
   "outputs": [
    {
     "data": {
      "text/html": [
       "<div>\n",
       "<style scoped>\n",
       "    .dataframe tbody tr th:only-of-type {\n",
       "        vertical-align: middle;\n",
       "    }\n",
       "\n",
       "    .dataframe tbody tr th {\n",
       "        vertical-align: top;\n",
       "    }\n",
       "\n",
       "    .dataframe thead th {\n",
       "        text-align: right;\n",
       "    }\n",
       "</style>\n",
       "<table border=\"1\" class=\"dataframe\">\n",
       "  <thead>\n",
       "    <tr style=\"text-align: right;\">\n",
       "      <th></th>\n",
       "      <th>ANO</th>\n",
       "      <th>MES</th>\n",
       "      <th>SENADOR</th>\n",
       "      <th>TIPO_DESPESA</th>\n",
       "      <th>CNPJ_CPF</th>\n",
       "      <th>FORNECEDOR</th>\n",
       "      <th>DOCUMENTO</th>\n",
       "      <th>DATA</th>\n",
       "      <th>DETALHAMENTO</th>\n",
       "      <th>VALOR_REEMBOLSADO</th>\n",
       "      <th>COD_DOCUMENTO</th>\n",
       "    </tr>\n",
       "  </thead>\n",
       "  <tbody>\n",
       "    <tr>\n",
       "      <th>0</th>\n",
       "      <td>2019</td>\n",
       "      <td>1</td>\n",
       "      <td>ACIR GURGACZ</td>\n",
       "      <td>Aluguel de imóveis para escritório político, c...</td>\n",
       "      <td>05.914.650/0001-66</td>\n",
       "      <td>ENERGISA</td>\n",
       "      <td>006582758</td>\n",
       "      <td>04/01/2019</td>\n",
       "      <td>Despesa com pagamento de energia elétrica do e...</td>\n",
       "      <td>66,02</td>\n",
       "      <td>2116543</td>\n",
       "    </tr>\n",
       "    <tr>\n",
       "      <th>1</th>\n",
       "      <td>2019</td>\n",
       "      <td>1</td>\n",
       "      <td>ACIR GURGACZ</td>\n",
       "      <td>Aluguel de imóveis para escritório político, c...</td>\n",
       "      <td>05.914.650/0001-66</td>\n",
       "      <td>ENERGISA</td>\n",
       "      <td>006582755</td>\n",
       "      <td>04/01/2019</td>\n",
       "      <td>Despesa com pagamento de energia elétrica do e...</td>\n",
       "      <td>139,98</td>\n",
       "      <td>2116546</td>\n",
       "    </tr>\n",
       "    <tr>\n",
       "      <th>2</th>\n",
       "      <td>2019</td>\n",
       "      <td>1</td>\n",
       "      <td>ACIR GURGACZ</td>\n",
       "      <td>Aluguel de imóveis para escritório político, c...</td>\n",
       "      <td>004.948.028-63</td>\n",
       "      <td>GILBERTO PISELO DO NASCIMENTO</td>\n",
       "      <td>00119</td>\n",
       "      <td>07/01/2019</td>\n",
       "      <td>Despesa com pagamento de aluguel de imóvel par...</td>\n",
       "      <td>6000</td>\n",
       "      <td>2113817</td>\n",
       "    </tr>\n",
       "    <tr>\n",
       "      <th>3</th>\n",
       "      <td>2019</td>\n",
       "      <td>1</td>\n",
       "      <td>ACIR GURGACZ</td>\n",
       "      <td>Aluguel de imóveis para escritório político, c...</td>\n",
       "      <td>05.423.963/0001-11</td>\n",
       "      <td>OI MÓVEL S.A.</td>\n",
       "      <td>86161151</td>\n",
       "      <td>25/12/2018</td>\n",
       "      <td>Despesa com pagamento de telefonia para o escr...</td>\n",
       "      <td>316,39</td>\n",
       "      <td>2116541</td>\n",
       "    </tr>\n",
       "    <tr>\n",
       "      <th>4</th>\n",
       "      <td>2019</td>\n",
       "      <td>2</td>\n",
       "      <td>ACIR GURGACZ</td>\n",
       "      <td>Aluguel de imóveis para escritório político, c...</td>\n",
       "      <td>05.914.650/0001-66</td>\n",
       "      <td>ENERGISA</td>\n",
       "      <td>007236036</td>\n",
       "      <td>04/02/2019</td>\n",
       "      <td>Despesa com pagamento de energia elétrica para...</td>\n",
       "      <td>99,45</td>\n",
       "      <td>2116550</td>\n",
       "    </tr>\n",
       "  </tbody>\n",
       "</table>\n",
       "</div>"
      ],
      "text/plain": [
       "    ANO  MES       SENADOR                                       TIPO_DESPESA  \\\n",
       "0  2019    1  ACIR GURGACZ  Aluguel de imóveis para escritório político, c...   \n",
       "1  2019    1  ACIR GURGACZ  Aluguel de imóveis para escritório político, c...   \n",
       "2  2019    1  ACIR GURGACZ  Aluguel de imóveis para escritório político, c...   \n",
       "3  2019    1  ACIR GURGACZ  Aluguel de imóveis para escritório político, c...   \n",
       "4  2019    2  ACIR GURGACZ  Aluguel de imóveis para escritório político, c...   \n",
       "\n",
       "             CNPJ_CPF                     FORNECEDOR  DOCUMENTO        DATA  \\\n",
       "0  05.914.650/0001-66                       ENERGISA  006582758  04/01/2019   \n",
       "1  05.914.650/0001-66                       ENERGISA  006582755  04/01/2019   \n",
       "2      004.948.028-63  GILBERTO PISELO DO NASCIMENTO      00119  07/01/2019   \n",
       "3  05.423.963/0001-11                  OI MÓVEL S.A.   86161151  25/12/2018   \n",
       "4  05.914.650/0001-66                       ENERGISA  007236036  04/02/2019   \n",
       "\n",
       "                                        DETALHAMENTO VALOR_REEMBOLSADO  \\\n",
       "0  Despesa com pagamento de energia elétrica do e...             66,02   \n",
       "1  Despesa com pagamento de energia elétrica do e...            139,98   \n",
       "2  Despesa com pagamento de aluguel de imóvel par...              6000   \n",
       "3  Despesa com pagamento de telefonia para o escr...            316,39   \n",
       "4  Despesa com pagamento de energia elétrica para...             99,45   \n",
       "\n",
       "   COD_DOCUMENTO  \n",
       "0        2116543  \n",
       "1        2116546  \n",
       "2        2113817  \n",
       "3        2116541  \n",
       "4        2116550  "
      ]
     },
     "execution_count": 17,
     "metadata": {},
     "output_type": "execute_result"
    }
   ],
   "source": [
    "df_combine.head(5)"
   ]
  },
  {
   "cell_type": "code",
   "execution_count": 18,
   "id": "7e3b81e0",
   "metadata": {},
   "outputs": [
    {
     "data": {
      "text/plain": [
       "2019    21634\n",
       "2021    16827\n",
       "2022    16782\n",
       "2020    14090\n",
       "Name: ANO, dtype: int64"
      ]
     },
     "execution_count": 18,
     "metadata": {},
     "output_type": "execute_result"
    }
   ],
   "source": [
    "df_combine.ANO.value_counts()"
   ]
  },
  {
   "cell_type": "code",
   "execution_count": 19,
   "id": "bf48924c",
   "metadata": {},
   "outputs": [
    {
     "data": {
      "text/plain": [
       "CARLOS VIANA            2136\n",
       "JAQUES WAGNER           2077\n",
       "WELLINGTON FAGUNDES     1976\n",
       "HUMBERTO COSTA          1930\n",
       "PAULO PAIM              1867\n",
       "                        ... \n",
       "VIRGINIO DE CARVALHO       3\n",
       "HÉLIO JOSÉ                 3\n",
       "EDISON LOBÃO               2\n",
       "NAILDE PANTA               1\n",
       "VICENTINHO ALVES           1\n",
       "Name: SENADOR, Length: 153, dtype: int64"
      ]
     },
     "execution_count": 19,
     "metadata": {},
     "output_type": "execute_result"
    }
   ],
   "source": [
    "df_combine.SENADOR.value_counts()"
   ]
  },
  {
   "cell_type": "code",
   "execution_count": 20,
   "id": "649f5514",
   "metadata": {},
   "outputs": [],
   "source": [
    "df_combine['VALOR_REEMBOLSADO'].replace(',','.', regex=True, inplace=True)"
   ]
  },
  {
   "cell_type": "code",
   "execution_count": 21,
   "id": "5d3f0a72",
   "metadata": {},
   "outputs": [
    {
     "data": {
      "text/plain": [
       "0          66.02\n",
       "1         139.98\n",
       "2           6000\n",
       "3         316.39\n",
       "4          99.45\n",
       "          ...   \n",
       "16777    2893.04\n",
       "16778    1180.19\n",
       "16779     2671.9\n",
       "16780    1334.31\n",
       "16781    2250.72\n",
       "Name: VALOR_REEMBOLSADO, Length: 69333, dtype: object"
      ]
     },
     "execution_count": 21,
     "metadata": {},
     "output_type": "execute_result"
    }
   ],
   "source": [
    "df_combine['VALOR_REEMBOLSADO']"
   ]
  },
  {
   "cell_type": "code",
   "execution_count": 22,
   "id": "981d6ada",
   "metadata": {},
   "outputs": [],
   "source": [
    "df_combine['VALOR_REEMBOLSADO'] = df_combine['VALOR_REEMBOLSADO'].astype(float)"
   ]
  },
  {
   "cell_type": "code",
   "execution_count": 23,
   "id": "4fa3dc21",
   "metadata": {},
   "outputs": [
    {
     "name": "stdout",
     "output_type": "stream",
     "text": [
      "<class 'pandas.core.frame.DataFrame'>\n",
      "Int64Index: 69333 entries, 0 to 16781\n",
      "Data columns (total 11 columns):\n",
      " #   Column             Non-Null Count  Dtype  \n",
      "---  ------             --------------  -----  \n",
      " 0   ANO                69333 non-null  int64  \n",
      " 1   MES                69333 non-null  int64  \n",
      " 2   SENADOR            69333 non-null  object \n",
      " 3   TIPO_DESPESA       69333 non-null  object \n",
      " 4   CNPJ_CPF           69333 non-null  object \n",
      " 5   FORNECEDOR         69333 non-null  object \n",
      " 6   DOCUMENTO          66370 non-null  object \n",
      " 7   DATA               69333 non-null  object \n",
      " 8   DETALHAMENTO       38583 non-null  object \n",
      " 9   VALOR_REEMBOLSADO  69333 non-null  float64\n",
      " 10  COD_DOCUMENTO      69333 non-null  int64  \n",
      "dtypes: float64(1), int64(3), object(7)\n",
      "memory usage: 6.3+ MB\n"
     ]
    }
   ],
   "source": [
    "df_combine.info()"
   ]
  },
  {
   "cell_type": "code",
   "execution_count": 24,
   "id": "27d331d7",
   "metadata": {},
   "outputs": [
    {
     "data": {
      "text/plain": [
       "SENADOR\n",
       "TELMÁRIO MOTA           1951401.21\n",
       "ROGÉRIO CARVALHO        1928300.49\n",
       "MECIAS DE JESUS         1913241.64\n",
       "PAULO ROCHA             1885315.28\n",
       "MAILZA GOMES            1793120.58\n",
       "                           ...    \n",
       "SIQUEIRA CAMPOS            5926.99\n",
       "VIRGINIO DE CARVALHO       5720.56\n",
       "MAGNO MALTA                4725.79\n",
       "JOSÉ PIMENTEL              4713.74\n",
       "NAILDE PANTA               1650.62\n",
       "Name: VALOR_REEMBOLSADO, Length: 153, dtype: float64"
      ]
     },
     "execution_count": 24,
     "metadata": {},
     "output_type": "execute_result"
    }
   ],
   "source": [
    "df_combine.groupby('SENADOR')['VALOR_REEMBOLSADO'].sum().sort_values(ascending=False)"
   ]
  },
  {
   "cell_type": "code",
   "execution_count": 25,
   "id": "d33bfe3e",
   "metadata": {},
   "outputs": [
    {
     "data": {
      "text/plain": [
       "ANO   SENADOR                      \n",
       "2019  WELLINGTON FAGUNDES              875\n",
       "      HUMBERTO COSTA                   631\n",
       "      MAJOR OLIMPIO                    606\n",
       "      PAULO PAIM                       584\n",
       "      TELMÁRIO MOTA                    582\n",
       "                                      ... \n",
       "2022  CHIQUINHO FEITOSA                 11\n",
       "      LUIZ PASTORE                      11\n",
       "      SAMUEL ARAUJO                      4\n",
       "      MARIA ELIZA DE AGUIAR E SILVA      3\n",
       "      JOSÉ ANÍBAL                        2\n",
       "Name: SENADOR, Length: 394, dtype: int64"
      ]
     },
     "execution_count": 25,
     "metadata": {},
     "output_type": "execute_result"
    }
   ],
   "source": [
    "df_combine.groupby('ANO')['SENADOR'].value_counts()"
   ]
  },
  {
   "cell_type": "code",
   "execution_count": 26,
   "id": "73c2c95a",
   "metadata": {},
   "outputs": [
    {
     "data": {
      "text/plain": [
       "ANO                      4\n",
       "MES                     12\n",
       "SENADOR                153\n",
       "TIPO_DESPESA             7\n",
       "CNPJ_CPF              7670\n",
       "FORNECEDOR            8692\n",
       "DOCUMENTO            55369\n",
       "DATA                  1559\n",
       "DETALHAMENTO         22485\n",
       "VALOR_REEMBOLSADO    31855\n",
       "COD_DOCUMENTO        69333\n",
       "dtype: int64"
      ]
     },
     "execution_count": 26,
     "metadata": {},
     "output_type": "execute_result"
    }
   ],
   "source": [
    "df_combine.nunique()"
   ]
  },
  {
   "cell_type": "code",
   "execution_count": 27,
   "id": "0bf3e325",
   "metadata": {},
   "outputs": [
    {
     "data": {
      "text/plain": [
       "Locomoção, hospedagem, alimentação, combustíveis e lubrificantes                                                                                                                                   25518\n",
       "Aluguel de imóveis para escritório político, compreendendo despesas concernentes a eles.                                                                                                           15206\n",
       "Passagens aéreas, aquáticas e terrestres nacionais                                                                                                                                                 14897\n",
       "Aquisição de material de consumo para uso no escritório político, inclusive aquisição ou locação de software, despesas postais, aquisição de publicações, locação de móveis e de equipamentos.      5007\n",
       "Divulgação da atividade parlamentar                                                                                                                                                                 4487\n",
       "Contratação de consultorias, assessorias, pesquisas, trabalhos técnicos e outros serviços de apoio ao exercício do mandato parlamentar                                                              4105\n",
       "Serviços de Segurança Privada                                                                                                                                                                        113\n",
       "Name: TIPO_DESPESA, dtype: int64"
      ]
     },
     "execution_count": 27,
     "metadata": {},
     "output_type": "execute_result"
    }
   ],
   "source": [
    "df_combine['TIPO_DESPESA'].value_counts()"
   ]
  },
  {
   "cell_type": "code",
   "execution_count": 28,
   "id": "2ae5ada2",
   "metadata": {},
   "outputs": [
    {
     "name": "stdout",
     "output_type": "stream",
     "text": [
      "Valores únicos 2019:\n",
      " ANO                      1\n",
      "MES                     12\n",
      "SENADOR                127\n",
      "TIPO_DESPESA             7\n",
      "CNPJ_CPF              3621\n",
      "FORNECEDOR            4026\n",
      "DOCUMENTO            18719\n",
      "DATA                   453\n",
      "DETALHAMENTO          8463\n",
      "VALOR_REEMBOLSADO    11751\n",
      "COD_DOCUMENTO        21634\n",
      "dtype: int64\n",
      "\n",
      "\n",
      "Valores únicos 2020:\n",
      " ANO                      1\n",
      "MES                     12\n",
      "SENADOR                 84\n",
      "TIPO_DESPESA             7\n",
      "CNPJ_CPF              2406\n",
      "FORNECEDOR            2595\n",
      "DOCUMENTO            11611\n",
      "DATA                   457\n",
      "DETALHAMENTO          4078\n",
      "VALOR_REEMBOLSADO     7135\n",
      "COD_DOCUMENTO        14090\n",
      "dtype: int64\n",
      "\n",
      "\n",
      "Valores únicos 2021:\n",
      " ANO                      1\n",
      "MES                     12\n",
      "SENADOR                 86\n",
      "TIPO_DESPESA             7\n",
      "CNPJ_CPF              2798\n",
      "FORNECEDOR            2995\n",
      "DOCUMENTO            14338\n",
      "DATA                   450\n",
      "DETALHAMENTO          5699\n",
      "VALOR_REEMBOLSADO     8869\n",
      "COD_DOCUMENTO        16827\n",
      "dtype: int64\n",
      "\n",
      "\n",
      "Valores únicos 2022:\n",
      " ANO                      1\n",
      "MES                     12\n",
      "SENADOR                 97\n",
      "TIPO_DESPESA             7\n",
      "CNPJ_CPF              3104\n",
      "FORNECEDOR            3346\n",
      "DOCUMENTO            13933\n",
      "DATA                   443\n",
      "DETALHAMENTO          5301\n",
      "VALOR_REEMBOLSADO     9519\n",
      "COD_DOCUMENTO        16782\n",
      "dtype: int64\n",
      "\n",
      "\n",
      "Soma total de senadores:\n",
      " 394\n",
      "\n",
      "\n",
      "Valores únicos datasets combinados:\n",
      " ANO                      4\n",
      "MES                     12\n",
      "SENADOR                153\n",
      "TIPO_DESPESA             7\n",
      "CNPJ_CPF              7670\n",
      "FORNECEDOR            8692\n",
      "DOCUMENTO            55369\n",
      "DATA                  1559\n",
      "DETALHAMENTO         22485\n",
      "VALOR_REEMBOLSADO    31855\n",
      "COD_DOCUMENTO        69333\n",
      "dtype: int64\n"
     ]
    }
   ],
   "source": [
    "print('Valores únicos 2019:\\n', df_2019.nunique())\n",
    "print('\\n')\n",
    "print('Valores únicos 2020:\\n', df_2020.nunique())\n",
    "print('\\n')\n",
    "print('Valores únicos 2021:\\n', df_2021.nunique())\n",
    "print('\\n')\n",
    "print('Valores únicos 2022:\\n', df_2022.nunique())\n",
    "print('\\n')\n",
    "\n",
    "print('Soma total de senadores:\\n', df_2019['SENADOR'].nunique() + df_2020['SENADOR'].nunique() + df_2021['SENADOR'].nunique() + df_2022['SENADOR'].nunique())\n",
    "\n",
    "print('\\n')\n",
    "\n",
    "print('Valores únicos datasets combinados:\\n', df_combine.nunique())"
   ]
  },
  {
   "cell_type": "markdown",
   "id": "396b0c43",
   "metadata": {},
   "source": [
    "- Pegar os anos das eleições para o senado, verificar o número de senadores eleitos.\n",
    "- Fazer uma lista dos nomes dos senadores eleitos no período escolhido\n",
    "- Fazer isin dentro dos valores do dataset e os senadores eleitos\n",
    "- Identificar valores errados/nulos e eliminar do dataset"
   ]
  },
  {
   "cell_type": "code",
   "execution_count": 34,
   "id": "48e24e06",
   "metadata": {},
   "outputs": [
    {
     "data": {
      "text/plain": [
       "127"
      ]
     },
     "execution_count": 34,
     "metadata": {},
     "output_type": "execute_result"
    }
   ],
   "source": [
    "nuniques_2019 = df_2019.drop_duplicates(subset=['SENADOR'])\n",
    "#nuniques_2019\n",
    "senadores_2019 = nuniques_2019['SENADOR'].tolist()\n",
    "len(senadores_2019)"
   ]
  },
  {
   "cell_type": "code",
   "execution_count": 35,
   "id": "0e669a4f",
   "metadata": {},
   "outputs": [
    {
     "data": {
      "text/plain": [
       "84"
      ]
     },
     "execution_count": 35,
     "metadata": {},
     "output_type": "execute_result"
    }
   ],
   "source": [
    "nuniques_2020 = df_2020.drop_duplicates(subset=['SENADOR'])\n",
    "#nuniques_2020\n",
    "senadores_2020 = nuniques_2020['SENADOR'].tolist()\n",
    "len(senadores_2020)"
   ]
  },
  {
   "cell_type": "code",
   "execution_count": 36,
   "id": "8131ae1f",
   "metadata": {},
   "outputs": [
    {
     "data": {
      "text/plain": [
       "86"
      ]
     },
     "execution_count": 36,
     "metadata": {},
     "output_type": "execute_result"
    }
   ],
   "source": [
    "nuniques_2021 = df_2021.drop_duplicates(subset=['SENADOR'])\n",
    "#nuniques_2019\n",
    "senadores_2021 = nuniques_2021['SENADOR'].tolist()\n",
    "len(senadores_2021)"
   ]
  },
  {
   "cell_type": "code",
   "execution_count": 37,
   "id": "88c44083",
   "metadata": {},
   "outputs": [
    {
     "data": {
      "text/plain": [
       "97"
      ]
     },
     "execution_count": 37,
     "metadata": {},
     "output_type": "execute_result"
    }
   ],
   "source": [
    "nuniques_2022 = df_2022.drop_duplicates(subset=['SENADOR'])\n",
    "#nuniques_2019\n",
    "senadores_2022 = nuniques_2022['SENADOR'].tolist()\n",
    "len(senadores_2022)"
   ]
  },
  {
   "cell_type": "code",
   "execution_count": 40,
   "id": "fd0bb370",
   "metadata": {},
   "outputs": [
    {
     "name": "stdout",
     "output_type": "stream",
     "text": [
      "['AÉCIO NEVES', 'ALOYSIO NUNES FERREIRA', 'ANA AMÉLIA', 'ÂNGELA PORTELA', 'ANTÔNIO CARLOS VALADARES', 'ARMANDO MONTEIRO', 'ATAÍDES OLIVEIRA', 'BENEDITO DE LIRA', 'BLAIRO MAGGI', 'CÁSSIO CUNHA LIMA', 'DALIRIO BEBER', 'EDISON LOBÃO', 'EDUARDO AMORIM', 'EDUARDO GIRÃO', 'FLEXA RIBEIRO', 'GARIBALDI ALVES FILHO', 'GLEISI HOFFMANN', 'GUARACY SILVEIRA', 'HÉLIO JOSÉ', 'IVO CASSOL', 'JOÃO ALBERTO SOUZA', 'JOÃO CAPIBERIBE', 'JORGE VIANA', 'JOSÉ AGRIPINO', 'JOSÉ MEDEIROS', 'JOSÉ PIMENTEL', 'LÍDICE DA MATA', 'LINDBERGH FARIAS', 'LÚCIA VÂNIA', 'MAGNO MALTA', 'MARTA SUPLICY', 'PAULO BAUER', 'PEDRO CHAVES DOS SANTOS FILHO', 'RAIMUNDO LIRA', 'RENILDE BULHÕES', 'RICARDO FERRAÇO', 'ROBERTO REQUIÃO', 'ROMERO JUCÁ', 'SIQUEIRA CAMPOS', 'VALDIR RAUPP', 'VANESSA GRAZZIOTIN', 'VICENTINHO ALVES', 'WALDEMIR MOKA', 'WALTER PINHEIRO', 'WILDER MORAIS', 'ZÉ SANTANA', 'ZEZÉ PERRELLA']\n"
     ]
    }
   ],
   "source": [
    "s = set(senadores_2020)\n",
    "temp3 = [x for x in senadores_2019 if x not in s]\n",
    "print(temp3)"
   ]
  },
  {
   "cell_type": "code",
   "execution_count": 80,
   "id": "9a479295",
   "metadata": {},
   "outputs": [
    {
     "name": "stdout",
     "output_type": "stream",
     "text": [
      "<class 'pandas.core.frame.DataFrame'>\n",
      "RangeIndex: 80 entries, 0 to 79\n",
      "Data columns (total 10 columns):\n",
      " #   Column                                                                                                                                                                                                                                                                                                                                                                                                                                                                                                                                                                                                                                                                                                                                                                                                                                                                                                                                                  Non-Null Count  Dtype \n",
      "---  ------                                                                                                                                                                                                                                                                                                                                                                                                                                                                                                                                                                                                                                                                                                                                                                                                                                                                                                                                                  --------------  ----- \n",
      " 0   NOME_PARLAMENTAR                                                                                                                                                                                                                                                                                                                                                                                                                                                                                                                                                                                                                                                                                                                                                                                                                                                                                                                                        80 non-null     object\n",
      " 1   PARTIDO                                                                                                                                                                                                                                                                                                                                                                                                                                                                                                                                                                                                                                                                                                                                                                                                                                                                                                                                                 80 non-null     object\n",
      " 2   UF                                                                                                                                                                                                                                                                                                                                                                                                                                                                                                                                                                                                                                                                                                                                                                                                                                                                                                                                                      80 non-null     object\n",
      " 3   TITULARIDADE                                                                                                                                                                                                                                                                                                                                                                                                                                                                                                                                                                                                                                                                                                                                                                                                                                                                                                                                            80 non-null     object\n",
      " 4   MANDATO                                                                                                                                                                                                                                                                                                                                                                                                                                                                                                                                                                                                                                                                                                                                                                                                                                                                                                                                                 80 non-null     object\n",
      " 5   TELEFONES                                                                                                                                                                                                                                                                                                                                                                                                                                                                                                                                                                                                                                                                                                                                                                                                                                                                                                                                               80 non-null     object\n",
      " 6   DTNASC                                                                                                                                                                                                                                                                                                                                                                                                                                                                                                                                                                                                                                                                                                                                                                                                                                                                                                                                                  80 non-null     object\n",
      " 7   EMAIL                                                                                                                                                                                                                                                                                                                                                                                                                                                                                                                                                                                                                                                                                                                                                                                                                                                                                                                                                   80 non-null     object\n",
      " 8   CHEFE_GAB                                                                                                                                                                                                                                                                                                                                                                                                                                                                                                                                                                                                                                                                                                                                                                                                                                                                                                                                               80 non-null     object\n",
      " 9   ENDERECO                                                                                                                                                                                                                                                                                                                                                                                                                                                                                                                                                                                                                                                                                                                                                                                                                                                                                                                                                80 non-null     object\n",
      "dtypes: object(10)\n",
      "memory usage: 6.4+ KB\n"
     ]
    }
   ],
   "source": [
    "df_exercicio.info()"
   ]
  },
  {
   "cell_type": "code",
   "execution_count": 81,
   "id": "7e8f7bba",
   "metadata": {},
   "outputs": [],
   "source": [
    "senadores_exercicio = df_exercicio['NOME_PARLAMENTAR'].tolist()"
   ]
  },
  {
   "cell_type": "code",
   "execution_count": 94,
   "id": "33a549ab",
   "metadata": {},
   "outputs": [
    {
     "name": "stdout",
     "output_type": "stream",
     "text": [
      "eleitos em 2022:\n",
      " 44\n"
     ]
    }
   ],
   "source": [
    "s = set(senadores_exercicio)\n",
    "temp3 = [x for x in senadores_2022 if x not in s]\n",
    "print('eleitos em 2022:\\n', len(temp3))"
   ]
  },
  {
   "cell_type": "code",
   "execution_count": null,
   "id": "e7dde753",
   "metadata": {},
   "outputs": [],
   "source": []
  },
  {
   "cell_type": "code",
   "execution_count": null,
   "id": "d0ef9fe9",
   "metadata": {},
   "outputs": [],
   "source": []
  }
 ],
 "metadata": {
  "kernelspec": {
   "display_name": "Python 3 (ipykernel)",
   "language": "python",
   "name": "python3"
  },
  "language_info": {
   "codemirror_mode": {
    "name": "ipython",
    "version": 3
   },
   "file_extension": ".py",
   "mimetype": "text/x-python",
   "name": "python",
   "nbconvert_exporter": "python",
   "pygments_lexer": "ipython3",
   "version": "3.10.6"
  }
 },
 "nbformat": 4,
 "nbformat_minor": 5
}
