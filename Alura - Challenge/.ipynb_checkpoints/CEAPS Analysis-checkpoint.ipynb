{
 "cells": [
  {
   "cell_type": "code",
   "execution_count": 169,
   "id": "4a8bea08",
   "metadata": {},
   "outputs": [
    {
     "name": "stdout",
     "output_type": "stream",
     "text": [
      "Python version: 3.10.6 (tags/v3.10.6:9c7b4bd, Aug  1 2022, 21:53:49) [MSC v.1932 64 bit (AMD64)]\n",
      "pandas version: 1.4.3\n",
      "matplotlib version: 3.6.3\n",
      "NumPy version: 1.23.0\n",
      "SciPy version: 1.10.0\n",
      "IPython version: 8.9.0\n",
      "scikit-learn version: 1.2.1\n",
      "-------------------------\n"
     ]
    }
   ],
   "source": [
    "\"\"\"\n",
    "Python 3.10 Best models Spaceship_Titanic program will you survive on the spaceship titanic or not\n",
    "File name Titanic_eda.py\n",
    "\n",
    "Version: 0.1\n",
    "Author: MLCV\n",
    "Date: 2023-06-25\n",
    "\"\"\"\n",
    "\n",
    "# This Python 3 environment comes with many helpful analytics libraries installed\n",
    "# It is defined by the kaggle/python docker image: https://github.com/kaggle/docker-python\n",
    "\n",
    "#load packages\n",
    "import sys #access to system parameters https://docs.python.org/3/library/sys.html\n",
    "print(\"Python version: {}\". format(sys.version))\n",
    "\n",
    "import pandas as pd #collection of functions for data processing and analysis modeled after R dataframes with SQL like features\n",
    "print(\"pandas version: {}\". format(pd.__version__))\n",
    "\n",
    "import matplotlib #collection of functions for scientific and publication-ready visualization\n",
    "print(\"matplotlib version: {}\". format(matplotlib.__version__))\n",
    "\n",
    "import numpy as np #foundational package for scientific computing\n",
    "print(\"NumPy version: {}\". format(np.__version__))\n",
    "\n",
    "import scipy as sp #collection of functions for scientific computing and advance mathematics\n",
    "print(\"SciPy version: {}\". format(sp.__version__)) \n",
    "\n",
    "import IPython\n",
    "from IPython import display #pretty printing of dataframes in Jupyter notebook\n",
    "print(\"IPython version: {}\". format(IPython.__version__)) \n",
    "\n",
    "import sklearn #collection of machine learning algorithms\n",
    "print(\"scikit-learn version: {}\". format(sklearn.__version__))\n",
    "\n",
    "\n",
    "\n",
    "#misc libraries\n",
    "import random\n",
    "import time\n",
    "import datetime\n",
    "import plotly.graph_objects as go\n",
    "import plotly.express as px\n",
    "\n",
    "#ignore warnings\n",
    "import warnings\n",
    "warnings.filterwarnings('ignore')\n",
    "print('-'*25)"
   ]
  },
  {
   "cell_type": "code",
   "execution_count": 170,
   "id": "1467ab8e",
   "metadata": {},
   "outputs": [],
   "source": [
    "#Common Model Algorithms\n",
    "from sklearn import svm, tree, linear_model, neighbors, naive_bayes, ensemble, discriminant_analysis, gaussian_process\n",
    "from xgboost import XGBClassifier\n",
    "\n",
    "#Common Model Helpers\n",
    "from category_encoders import OneHotEncoder, MEstimateEncoder, GLMMEncoder, OrdinalEncoder\n",
    "from sklearn.model_selection import RepeatedStratifiedKFold, StratifiedKFold, KFold\n",
    "from sklearn.ensemble import ExtraTreesRegressor, RandomForestRegressor, GradientBoostingRegressor\n",
    "from sklearn.ensemble import HistGradientBoostingRegressor, VotingRegressor, StackingRegressor\n",
    "from sklearn.svm import SVR, LinearSVR\n",
    "from sklearn.neighbors import KNeighborsRegressor\n",
    "from sklearn.linear_model import LinearRegression, Ridge, Lasso, ElasticNet\n",
    "from sklearn.linear_model import PassiveAggressiveRegressor, ARDRegression\n",
    "from sklearn.linear_model import TheilSenRegressor, HuberRegressor\n",
    "from sklearn.neural_network import MLPRegressor\n",
    "from sklearn.metrics import mean_absolute_error, roc_auc_score, roc_curve\n",
    "from sklearn.metrics.pairwise import euclidean_distances\n",
    "from sklearn.pipeline import Pipeline, make_pipeline\n",
    "from sklearn.base import BaseEstimator, TransformerMixin\n",
    "from sklearn.preprocessing import FunctionTransformer, StandardScaler, MinMaxScaler\n",
    "from sklearn.compose import ColumnTransformer\n",
    "from scipy.cluster.hierarchy import dendrogram, linkage\n",
    "from scipy.spatial.distance import squareform\n",
    "from xgboost import XGBRegressor, XGBClassifier\n",
    "from lightgbm import LGBMRegressor\n",
    "from catboost import CatBoostRegressor\n",
    "\n",
    "#Visualization\n",
    "import matplotlib as mpl\n",
    "import matplotlib.pyplot as plt\n",
    "import matplotlib.pylab as pylab\n",
    "import seaborn as sns\n",
    "from pandas.plotting import scatter_matrix\n",
    "\n",
    "\n",
    "#Configure Visualization Defaults\n",
    "#%matplotlib inline = show plots in Jupyter Notebook browser\n",
    "%matplotlib inline\n",
    "mpl.style.use('ggplot')\n",
    "sns.set_style('white')\n",
    "pylab.rcParams['figure.figsize'] = 12,8"
   ]
  },
  {
   "cell_type": "code",
   "execution_count": 97,
   "id": "129ef1fe",
   "metadata": {},
   "outputs": [],
   "source": [
    "df_2008 = pd.read_csv('Data/CEAPS_2008.csv', sep=';', encoding = 'ISO-8859-1', skiprows=1)\n",
    "df_2019 = pd.read_csv('Data/CEAPS_2019.csv', sep=';', encoding = 'ISO-8859-1', skiprows=1)\n",
    "df_2020 = pd.read_csv('Data/CEAPS_2020.csv', sep=';', encoding = 'ISO-8859-1', skiprows=1)\n",
    "df_2021 = pd.read_csv('Data/CEAPS_2021.csv', sep=';', encoding = 'ISO-8859-1', skiprows=1)\n",
    "df_2022 = pd.read_csv('Data/CEAPS_2022.csv', sep=';', encoding = 'ISO-8859-1', skiprows=1)\n",
    "df_exercicio_56 = pd.read_csv('Data/exercicio_56.csv', sep=';', encoding = 'ISO-8859-1', skiprows=1)\n",
    "df_exercicio_55 = pd.read_csv('Data/exercicio_55.csv', sep=';', encoding = 'utf-8', skiprows=0)"
   ]
  },
  {
   "cell_type": "code",
   "execution_count": 4,
   "id": "c02276fe",
   "metadata": {},
   "outputs": [
    {
     "name": "stdout",
     "output_type": "stream",
     "text": [
      "<class 'pandas.core.frame.DataFrame'>\n",
      "RangeIndex: 2449 entries, 0 to 2448\n",
      "Data columns (total 11 columns):\n",
      " #   Column             Non-Null Count  Dtype  \n",
      "---  ------             --------------  -----  \n",
      " 0   ANO                2449 non-null   int64  \n",
      " 1   MES                2449 non-null   int64  \n",
      " 2   SENADOR            2449 non-null   object \n",
      " 3   TIPO_DESPESA       2449 non-null   object \n",
      " 4   CNPJ_CPF           0 non-null      float64\n",
      " 5   FORNECEDOR         0 non-null      float64\n",
      " 6   DOCUMENTO          0 non-null      float64\n",
      " 7   DATA               0 non-null      float64\n",
      " 8   DETALHAMENTO       0 non-null      float64\n",
      " 9   VALOR_REEMBOLSADO  2449 non-null   object \n",
      " 10  COD_DOCUMENTO      2449 non-null   int64  \n",
      "dtypes: float64(5), int64(3), object(3)\n",
      "memory usage: 210.6+ KB\n"
     ]
    }
   ],
   "source": [
    "df_2008.info()"
   ]
  },
  {
   "cell_type": "code",
   "execution_count": 5,
   "id": "9d10a1e4",
   "metadata": {},
   "outputs": [
    {
     "data": {
      "text/html": [
       "<div>\n",
       "<style scoped>\n",
       "    .dataframe tbody tr th:only-of-type {\n",
       "        vertical-align: middle;\n",
       "    }\n",
       "\n",
       "    .dataframe tbody tr th {\n",
       "        vertical-align: top;\n",
       "    }\n",
       "\n",
       "    .dataframe thead th {\n",
       "        text-align: right;\n",
       "    }\n",
       "</style>\n",
       "<table border=\"1\" class=\"dataframe\">\n",
       "  <thead>\n",
       "    <tr style=\"text-align: right;\">\n",
       "      <th></th>\n",
       "      <th>ANO</th>\n",
       "      <th>MES</th>\n",
       "      <th>CNPJ_CPF</th>\n",
       "      <th>FORNECEDOR</th>\n",
       "      <th>DOCUMENTO</th>\n",
       "      <th>DATA</th>\n",
       "      <th>DETALHAMENTO</th>\n",
       "      <th>COD_DOCUMENTO</th>\n",
       "    </tr>\n",
       "  </thead>\n",
       "  <tbody>\n",
       "    <tr>\n",
       "      <th>count</th>\n",
       "      <td>2449.0</td>\n",
       "      <td>2449.000000</td>\n",
       "      <td>0.0</td>\n",
       "      <td>0.0</td>\n",
       "      <td>0.0</td>\n",
       "      <td>0.0</td>\n",
       "      <td>0.0</td>\n",
       "      <td>2.449000e+03</td>\n",
       "    </tr>\n",
       "    <tr>\n",
       "      <th>mean</th>\n",
       "      <td>2008.0</td>\n",
       "      <td>7.000817</td>\n",
       "      <td>NaN</td>\n",
       "      <td>NaN</td>\n",
       "      <td>NaN</td>\n",
       "      <td>NaN</td>\n",
       "      <td>NaN</td>\n",
       "      <td>2.008070e+12</td>\n",
       "    </tr>\n",
       "    <tr>\n",
       "      <th>std</th>\n",
       "      <td>0.0</td>\n",
       "      <td>3.245912</td>\n",
       "      <td>NaN</td>\n",
       "      <td>NaN</td>\n",
       "      <td>NaN</td>\n",
       "      <td>NaN</td>\n",
       "      <td>NaN</td>\n",
       "      <td>3.245635e+07</td>\n",
       "    </tr>\n",
       "    <tr>\n",
       "      <th>min</th>\n",
       "      <td>2008.0</td>\n",
       "      <td>2.000000</td>\n",
       "      <td>NaN</td>\n",
       "      <td>NaN</td>\n",
       "      <td>NaN</td>\n",
       "      <td>NaN</td>\n",
       "      <td>NaN</td>\n",
       "      <td>2.008020e+12</td>\n",
       "    </tr>\n",
       "    <tr>\n",
       "      <th>25%</th>\n",
       "      <td>2008.0</td>\n",
       "      <td>4.000000</td>\n",
       "      <td>NaN</td>\n",
       "      <td>NaN</td>\n",
       "      <td>NaN</td>\n",
       "      <td>NaN</td>\n",
       "      <td>NaN</td>\n",
       "      <td>2.008040e+12</td>\n",
       "    </tr>\n",
       "    <tr>\n",
       "      <th>50%</th>\n",
       "      <td>2008.0</td>\n",
       "      <td>7.000000</td>\n",
       "      <td>NaN</td>\n",
       "      <td>NaN</td>\n",
       "      <td>NaN</td>\n",
       "      <td>NaN</td>\n",
       "      <td>NaN</td>\n",
       "      <td>2.008070e+12</td>\n",
       "    </tr>\n",
       "    <tr>\n",
       "      <th>75%</th>\n",
       "      <td>2008.0</td>\n",
       "      <td>10.000000</td>\n",
       "      <td>NaN</td>\n",
       "      <td>NaN</td>\n",
       "      <td>NaN</td>\n",
       "      <td>NaN</td>\n",
       "      <td>NaN</td>\n",
       "      <td>2.008100e+12</td>\n",
       "    </tr>\n",
       "    <tr>\n",
       "      <th>max</th>\n",
       "      <td>2008.0</td>\n",
       "      <td>12.000000</td>\n",
       "      <td>NaN</td>\n",
       "      <td>NaN</td>\n",
       "      <td>NaN</td>\n",
       "      <td>NaN</td>\n",
       "      <td>NaN</td>\n",
       "      <td>2.008121e+12</td>\n",
       "    </tr>\n",
       "  </tbody>\n",
       "</table>\n",
       "</div>"
      ],
      "text/plain": [
       "          ANO          MES  CNPJ_CPF  FORNECEDOR  DOCUMENTO  DATA  \\\n",
       "count  2449.0  2449.000000       0.0         0.0        0.0   0.0   \n",
       "mean   2008.0     7.000817       NaN         NaN        NaN   NaN   \n",
       "std       0.0     3.245912       NaN         NaN        NaN   NaN   \n",
       "min    2008.0     2.000000       NaN         NaN        NaN   NaN   \n",
       "25%    2008.0     4.000000       NaN         NaN        NaN   NaN   \n",
       "50%    2008.0     7.000000       NaN         NaN        NaN   NaN   \n",
       "75%    2008.0    10.000000       NaN         NaN        NaN   NaN   \n",
       "max    2008.0    12.000000       NaN         NaN        NaN   NaN   \n",
       "\n",
       "       DETALHAMENTO  COD_DOCUMENTO  \n",
       "count           0.0   2.449000e+03  \n",
       "mean            NaN   2.008070e+12  \n",
       "std             NaN   3.245635e+07  \n",
       "min             NaN   2.008020e+12  \n",
       "25%             NaN   2.008040e+12  \n",
       "50%             NaN   2.008070e+12  \n",
       "75%             NaN   2.008100e+12  \n",
       "max             NaN   2.008121e+12  "
      ]
     },
     "execution_count": 5,
     "metadata": {},
     "output_type": "execute_result"
    }
   ],
   "source": [
    "df_2008.describe()"
   ]
  },
  {
   "cell_type": "code",
   "execution_count": 6,
   "id": "58411ec4",
   "metadata": {},
   "outputs": [
    {
     "name": "stdout",
     "output_type": "stream",
     "text": [
      "Null values in CEAPS 2008:\n",
      " ANO                     0\n",
      "MES                     0\n",
      "SENADOR                 0\n",
      "TIPO_DESPESA            0\n",
      "CNPJ_CPF             2449\n",
      "FORNECEDOR           2449\n",
      "DOCUMENTO            2449\n",
      "DATA                 2449\n",
      "DETALHAMENTO         2449\n",
      "VALOR_REEMBOLSADO       0\n",
      "COD_DOCUMENTO           0\n",
      "dtype: int64\n"
     ]
    }
   ],
   "source": [
    "print('Null values in CEAPS 2008:\\n', df_2008.isna().sum())"
   ]
  },
  {
   "cell_type": "code",
   "execution_count": 7,
   "id": "3f9ae1aa",
   "metadata": {},
   "outputs": [
    {
     "data": {
      "text/plain": [
       "CRISTOVAM BUARQUE        47\n",
       "PATRÍCIA SABOYA GOMES    46\n",
       "IDELI SALVATTI           45\n",
       "HERÁCLITO FORTES         45\n",
       "JOSÉ NERY                45\n",
       "                         ..\n",
       "GILVAM BORGES             7\n",
       "CARLOS DUNGA              5\n",
       "GEOVANI BORGES            4\n",
       "ARTHUR VIRGÍLIO           4\n",
       "MARIA DO CARMO ALVES      4\n",
       "Name: SENADOR, Length: 85, dtype: int64"
      ]
     },
     "execution_count": 7,
     "metadata": {},
     "output_type": "execute_result"
    }
   ],
   "source": [
    "df_2008.SENADOR.value_counts()"
   ]
  },
  {
   "cell_type": "code",
   "execution_count": 8,
   "id": "5b4d73da",
   "metadata": {},
   "outputs": [
    {
     "data": {
      "text/plain": [
       "SENADOR\n",
       "ADA MELLO                          8\n",
       "ADELMIR SANTANA                   22\n",
       "ALMEIDA LIMA                      36\n",
       "ALOIZIO MERCADANTE                44\n",
       "ALVARO DIAS                       39\n",
       "                                  ..\n",
       "TIÃO VIANA                        39\n",
       "VALDIR RAUPP                      15\n",
       "VALTER PEREIRA                    32\n",
       "VIRGINIO DE CARVALHO              23\n",
       "WELLINGTON SALGADO DE OLIVEIRA    43\n",
       "Name: TIPO_DESPESA, Length: 85, dtype: int64"
      ]
     },
     "execution_count": 8,
     "metadata": {},
     "output_type": "execute_result"
    }
   ],
   "source": [
    "df_2008.groupby('SENADOR')['TIPO_DESPESA'].count()"
   ]
  },
  {
   "cell_type": "code",
   "execution_count": 9,
   "id": "ff58291c",
   "metadata": {},
   "outputs": [],
   "source": [
    "df_2008['VALOR_REEMBOLSADO'].replace(',','.', inplace=True, regex=True)"
   ]
  },
  {
   "cell_type": "code",
   "execution_count": 10,
   "id": "09992ff6",
   "metadata": {},
   "outputs": [],
   "source": [
    "df_2008['VALOR_REEMBOLSADO'] = df_2008['VALOR_REEMBOLSADO'].astype(float)"
   ]
  },
  {
   "cell_type": "code",
   "execution_count": 11,
   "id": "7cf7af07",
   "metadata": {},
   "outputs": [
    {
     "name": "stdout",
     "output_type": "stream",
     "text": [
      "<class 'pandas.core.frame.DataFrame'>\n",
      "RangeIndex: 2449 entries, 0 to 2448\n",
      "Data columns (total 11 columns):\n",
      " #   Column             Non-Null Count  Dtype  \n",
      "---  ------             --------------  -----  \n",
      " 0   ANO                2449 non-null   int64  \n",
      " 1   MES                2449 non-null   int64  \n",
      " 2   SENADOR            2449 non-null   object \n",
      " 3   TIPO_DESPESA       2449 non-null   object \n",
      " 4   CNPJ_CPF           0 non-null      float64\n",
      " 5   FORNECEDOR         0 non-null      float64\n",
      " 6   DOCUMENTO          0 non-null      float64\n",
      " 7   DATA               0 non-null      float64\n",
      " 8   DETALHAMENTO       0 non-null      float64\n",
      " 9   VALOR_REEMBOLSADO  2449 non-null   float64\n",
      " 10  COD_DOCUMENTO      2449 non-null   int64  \n",
      "dtypes: float64(6), int64(3), object(2)\n",
      "memory usage: 210.6+ KB\n"
     ]
    }
   ],
   "source": [
    "df_2008.info()"
   ]
  },
  {
   "cell_type": "code",
   "execution_count": 12,
   "id": "4dc8fc33",
   "metadata": {},
   "outputs": [
    {
     "data": {
      "text/plain": [
       "SENADOR\n",
       "ROMEU TUMA              179192.22\n",
       "VALDIR RAUPP            178862.67\n",
       "JOÃO RIBEIRO            173496.20\n",
       "PAULO DUQUE             170078.86\n",
       "JOSÉ AGRIPINO           169906.44\n",
       "                          ...    \n",
       "MARCO ANTÔNIO COSTA      45354.64\n",
       "EDUARDO SUPLICY          33053.55\n",
       "TASSO JEREISSATI         27865.00\n",
       "ARTHUR VIRGÍLIO          15696.94\n",
       "MARIA DO CARMO ALVES     14862.24\n",
       "Name: VALOR_REEMBOLSADO, Length: 85, dtype: float64"
      ]
     },
     "execution_count": 12,
     "metadata": {},
     "output_type": "execute_result"
    }
   ],
   "source": [
    "df_2008.groupby('SENADOR')['VALOR_REEMBOLSADO'].sum().sort_values(ascending=False)"
   ]
  },
  {
   "cell_type": "code",
   "execution_count": 13,
   "id": "61993b69",
   "metadata": {},
   "outputs": [],
   "source": [
    "# PRECISO AGRUPAR 4 ANOS DO MESMO MANDATO PARA TER O VALOR TOTAL"
   ]
  },
  {
   "cell_type": "code",
   "execution_count": 14,
   "id": "fef79543",
   "metadata": {},
   "outputs": [
    {
     "name": "stdout",
     "output_type": "stream",
     "text": [
      "<class 'pandas.core.frame.DataFrame'>\n",
      "RangeIndex: 21634 entries, 0 to 21633\n",
      "Data columns (total 11 columns):\n",
      " #   Column             Non-Null Count  Dtype \n",
      "---  ------             --------------  ----- \n",
      " 0   ANO                21634 non-null  int64 \n",
      " 1   MES                21634 non-null  int64 \n",
      " 2   SENADOR            21634 non-null  object\n",
      " 3   TIPO_DESPESA       21634 non-null  object\n",
      " 4   CNPJ_CPF           21634 non-null  object\n",
      " 5   FORNECEDOR         21634 non-null  object\n",
      " 6   DOCUMENTO          20900 non-null  object\n",
      " 7   DATA               21634 non-null  object\n",
      " 8   DETALHAMENTO       13092 non-null  object\n",
      " 9   VALOR_REEMBOLSADO  21634 non-null  object\n",
      " 10  COD_DOCUMENTO      21634 non-null  int64 \n",
      "dtypes: int64(3), object(8)\n",
      "memory usage: 1.8+ MB\n",
      "CEAPS 2019:\n",
      " None\n",
      "<class 'pandas.core.frame.DataFrame'>\n",
      "RangeIndex: 14090 entries, 0 to 14089\n",
      "Data columns (total 11 columns):\n",
      " #   Column             Non-Null Count  Dtype \n",
      "---  ------             --------------  ----- \n",
      " 0   ANO                14090 non-null  int64 \n",
      " 1   MES                14090 non-null  int64 \n",
      " 2   SENADOR            14090 non-null  object\n",
      " 3   TIPO_DESPESA       14090 non-null  object\n",
      " 4   CNPJ_CPF           14090 non-null  object\n",
      " 5   FORNECEDOR         14090 non-null  object\n",
      " 6   DOCUMENTO          13470 non-null  object\n",
      " 7   DATA               14090 non-null  object\n",
      " 8   DETALHAMENTO       7228 non-null   object\n",
      " 9   VALOR_REEMBOLSADO  14090 non-null  object\n",
      " 10  COD_DOCUMENTO      14090 non-null  int64 \n",
      "dtypes: int64(3), object(8)\n",
      "memory usage: 1.2+ MB\n",
      "CEAPS 2020:\n",
      " None\n",
      "<class 'pandas.core.frame.DataFrame'>\n",
      "RangeIndex: 16827 entries, 0 to 16826\n",
      "Data columns (total 11 columns):\n",
      " #   Column             Non-Null Count  Dtype \n",
      "---  ------             --------------  ----- \n",
      " 0   ANO                16827 non-null  int64 \n",
      " 1   MES                16827 non-null  int64 \n",
      " 2   SENADOR            16827 non-null  object\n",
      " 3   TIPO_DESPESA       16827 non-null  object\n",
      " 4   CNPJ_CPF           16827 non-null  object\n",
      " 5   FORNECEDOR         16827 non-null  object\n",
      " 6   DOCUMENTO          16152 non-null  object\n",
      " 7   DATA               16827 non-null  object\n",
      " 8   DETALHAMENTO       9201 non-null   object\n",
      " 9   VALOR_REEMBOLSADO  16827 non-null  object\n",
      " 10  COD_DOCUMENTO      16827 non-null  int64 \n",
      "dtypes: int64(3), object(8)\n",
      "memory usage: 1.4+ MB\n",
      "CEAPS 2021:\n",
      " None\n",
      "<class 'pandas.core.frame.DataFrame'>\n",
      "RangeIndex: 16782 entries, 0 to 16781\n",
      "Data columns (total 11 columns):\n",
      " #   Column             Non-Null Count  Dtype \n",
      "---  ------             --------------  ----- \n",
      " 0   ANO                16782 non-null  int64 \n",
      " 1   MES                16782 non-null  int64 \n",
      " 2   SENADOR            16782 non-null  object\n",
      " 3   TIPO_DESPESA       16782 non-null  object\n",
      " 4   CNPJ_CPF           16782 non-null  object\n",
      " 5   FORNECEDOR         16782 non-null  object\n",
      " 6   DOCUMENTO          15848 non-null  object\n",
      " 7   DATA               16782 non-null  object\n",
      " 8   DETALHAMENTO       9062 non-null   object\n",
      " 9   VALOR_REEMBOLSADO  16782 non-null  object\n",
      " 10  COD_DOCUMENTO      16782 non-null  int64 \n",
      "dtypes: int64(3), object(8)\n",
      "memory usage: 1.4+ MB\n",
      "CEAPS 2022:\n",
      " None\n"
     ]
    }
   ],
   "source": [
    "print('CEAPS 2019:\\n', df_2019.info())\n",
    "print('CEAPS 2020:\\n', df_2020.info())\n",
    "print('CEAPS 2021:\\n', df_2021.info())\n",
    "print('CEAPS 2022:\\n', df_2022.info())"
   ]
  },
  {
   "cell_type": "code",
   "execution_count": 15,
   "id": "69d25298",
   "metadata": {},
   "outputs": [],
   "source": [
    "#df_combine = pd.merge(df_2019, df_2020, on = 'SENADOR', how='outer')\n",
    "#df_combine.head(5)"
   ]
  },
  {
   "cell_type": "code",
   "execution_count": 16,
   "id": "e1284d5e",
   "metadata": {},
   "outputs": [
    {
     "name": "stdout",
     "output_type": "stream",
     "text": [
      "<class 'pandas.core.frame.DataFrame'>\n",
      "Int64Index: 69333 entries, 0 to 16781\n",
      "Data columns (total 11 columns):\n",
      " #   Column             Non-Null Count  Dtype \n",
      "---  ------             --------------  ----- \n",
      " 0   ANO                69333 non-null  int64 \n",
      " 1   MES                69333 non-null  int64 \n",
      " 2   SENADOR            69333 non-null  object\n",
      " 3   TIPO_DESPESA       69333 non-null  object\n",
      " 4   CNPJ_CPF           69333 non-null  object\n",
      " 5   FORNECEDOR         69333 non-null  object\n",
      " 6   DOCUMENTO          66370 non-null  object\n",
      " 7   DATA               69333 non-null  object\n",
      " 8   DETALHAMENTO       38583 non-null  object\n",
      " 9   VALOR_REEMBOLSADO  69333 non-null  object\n",
      " 10  COD_DOCUMENTO      69333 non-null  int64 \n",
      "dtypes: int64(3), object(8)\n",
      "memory usage: 6.3+ MB\n"
     ]
    }
   ],
   "source": [
    "combine = df_2019.append(df_2020, ignore_index=False)\n",
    "combine = combine.append(df_2021, ignore_index=False)\n",
    "combine = combine.append(df_2022, ignore_index=False)\n",
    "df_combine = pd.DataFrame(data=combine)\n",
    "df_combine.info()"
   ]
  },
  {
   "cell_type": "code",
   "execution_count": 17,
   "id": "aed17d78",
   "metadata": {},
   "outputs": [
    {
     "data": {
      "text/html": [
       "<div>\n",
       "<style scoped>\n",
       "    .dataframe tbody tr th:only-of-type {\n",
       "        vertical-align: middle;\n",
       "    }\n",
       "\n",
       "    .dataframe tbody tr th {\n",
       "        vertical-align: top;\n",
       "    }\n",
       "\n",
       "    .dataframe thead th {\n",
       "        text-align: right;\n",
       "    }\n",
       "</style>\n",
       "<table border=\"1\" class=\"dataframe\">\n",
       "  <thead>\n",
       "    <tr style=\"text-align: right;\">\n",
       "      <th></th>\n",
       "      <th>ANO</th>\n",
       "      <th>MES</th>\n",
       "      <th>SENADOR</th>\n",
       "      <th>TIPO_DESPESA</th>\n",
       "      <th>CNPJ_CPF</th>\n",
       "      <th>FORNECEDOR</th>\n",
       "      <th>DOCUMENTO</th>\n",
       "      <th>DATA</th>\n",
       "      <th>DETALHAMENTO</th>\n",
       "      <th>VALOR_REEMBOLSADO</th>\n",
       "      <th>COD_DOCUMENTO</th>\n",
       "    </tr>\n",
       "  </thead>\n",
       "  <tbody>\n",
       "    <tr>\n",
       "      <th>0</th>\n",
       "      <td>2019</td>\n",
       "      <td>1</td>\n",
       "      <td>ACIR GURGACZ</td>\n",
       "      <td>Aluguel de imóveis para escritório político, c...</td>\n",
       "      <td>05.914.650/0001-66</td>\n",
       "      <td>ENERGISA</td>\n",
       "      <td>006582758</td>\n",
       "      <td>04/01/2019</td>\n",
       "      <td>Despesa com pagamento de energia elétrica do e...</td>\n",
       "      <td>66,02</td>\n",
       "      <td>2116543</td>\n",
       "    </tr>\n",
       "    <tr>\n",
       "      <th>1</th>\n",
       "      <td>2019</td>\n",
       "      <td>1</td>\n",
       "      <td>ACIR GURGACZ</td>\n",
       "      <td>Aluguel de imóveis para escritório político, c...</td>\n",
       "      <td>05.914.650/0001-66</td>\n",
       "      <td>ENERGISA</td>\n",
       "      <td>006582755</td>\n",
       "      <td>04/01/2019</td>\n",
       "      <td>Despesa com pagamento de energia elétrica do e...</td>\n",
       "      <td>139,98</td>\n",
       "      <td>2116546</td>\n",
       "    </tr>\n",
       "    <tr>\n",
       "      <th>2</th>\n",
       "      <td>2019</td>\n",
       "      <td>1</td>\n",
       "      <td>ACIR GURGACZ</td>\n",
       "      <td>Aluguel de imóveis para escritório político, c...</td>\n",
       "      <td>004.948.028-63</td>\n",
       "      <td>GILBERTO PISELO DO NASCIMENTO</td>\n",
       "      <td>00119</td>\n",
       "      <td>07/01/2019</td>\n",
       "      <td>Despesa com pagamento de aluguel de imóvel par...</td>\n",
       "      <td>6000</td>\n",
       "      <td>2113817</td>\n",
       "    </tr>\n",
       "    <tr>\n",
       "      <th>3</th>\n",
       "      <td>2019</td>\n",
       "      <td>1</td>\n",
       "      <td>ACIR GURGACZ</td>\n",
       "      <td>Aluguel de imóveis para escritório político, c...</td>\n",
       "      <td>05.423.963/0001-11</td>\n",
       "      <td>OI MÓVEL S.A.</td>\n",
       "      <td>86161151</td>\n",
       "      <td>25/12/2018</td>\n",
       "      <td>Despesa com pagamento de telefonia para o escr...</td>\n",
       "      <td>316,39</td>\n",
       "      <td>2116541</td>\n",
       "    </tr>\n",
       "    <tr>\n",
       "      <th>4</th>\n",
       "      <td>2019</td>\n",
       "      <td>2</td>\n",
       "      <td>ACIR GURGACZ</td>\n",
       "      <td>Aluguel de imóveis para escritório político, c...</td>\n",
       "      <td>05.914.650/0001-66</td>\n",
       "      <td>ENERGISA</td>\n",
       "      <td>007236036</td>\n",
       "      <td>04/02/2019</td>\n",
       "      <td>Despesa com pagamento de energia elétrica para...</td>\n",
       "      <td>99,45</td>\n",
       "      <td>2116550</td>\n",
       "    </tr>\n",
       "  </tbody>\n",
       "</table>\n",
       "</div>"
      ],
      "text/plain": [
       "    ANO  MES       SENADOR                                       TIPO_DESPESA  \\\n",
       "0  2019    1  ACIR GURGACZ  Aluguel de imóveis para escritório político, c...   \n",
       "1  2019    1  ACIR GURGACZ  Aluguel de imóveis para escritório político, c...   \n",
       "2  2019    1  ACIR GURGACZ  Aluguel de imóveis para escritório político, c...   \n",
       "3  2019    1  ACIR GURGACZ  Aluguel de imóveis para escritório político, c...   \n",
       "4  2019    2  ACIR GURGACZ  Aluguel de imóveis para escritório político, c...   \n",
       "\n",
       "             CNPJ_CPF                     FORNECEDOR  DOCUMENTO        DATA  \\\n",
       "0  05.914.650/0001-66                       ENERGISA  006582758  04/01/2019   \n",
       "1  05.914.650/0001-66                       ENERGISA  006582755  04/01/2019   \n",
       "2      004.948.028-63  GILBERTO PISELO DO NASCIMENTO      00119  07/01/2019   \n",
       "3  05.423.963/0001-11                  OI MÓVEL S.A.   86161151  25/12/2018   \n",
       "4  05.914.650/0001-66                       ENERGISA  007236036  04/02/2019   \n",
       "\n",
       "                                        DETALHAMENTO VALOR_REEMBOLSADO  \\\n",
       "0  Despesa com pagamento de energia elétrica do e...             66,02   \n",
       "1  Despesa com pagamento de energia elétrica do e...            139,98   \n",
       "2  Despesa com pagamento de aluguel de imóvel par...              6000   \n",
       "3  Despesa com pagamento de telefonia para o escr...            316,39   \n",
       "4  Despesa com pagamento de energia elétrica para...             99,45   \n",
       "\n",
       "   COD_DOCUMENTO  \n",
       "0        2116543  \n",
       "1        2116546  \n",
       "2        2113817  \n",
       "3        2116541  \n",
       "4        2116550  "
      ]
     },
     "execution_count": 17,
     "metadata": {},
     "output_type": "execute_result"
    }
   ],
   "source": [
    "df_combine.head(5)"
   ]
  },
  {
   "cell_type": "code",
   "execution_count": 18,
   "id": "7e3b81e0",
   "metadata": {},
   "outputs": [
    {
     "data": {
      "text/plain": [
       "2019    21634\n",
       "2021    16827\n",
       "2022    16782\n",
       "2020    14090\n",
       "Name: ANO, dtype: int64"
      ]
     },
     "execution_count": 18,
     "metadata": {},
     "output_type": "execute_result"
    }
   ],
   "source": [
    "df_combine.ANO.value_counts()"
   ]
  },
  {
   "cell_type": "code",
   "execution_count": 19,
   "id": "bf48924c",
   "metadata": {},
   "outputs": [
    {
     "data": {
      "text/plain": [
       "CARLOS VIANA            2136\n",
       "JAQUES WAGNER           2077\n",
       "WELLINGTON FAGUNDES     1976\n",
       "HUMBERTO COSTA          1930\n",
       "PAULO PAIM              1867\n",
       "                        ... \n",
       "VIRGINIO DE CARVALHO       3\n",
       "HÉLIO JOSÉ                 3\n",
       "EDISON LOBÃO               2\n",
       "NAILDE PANTA               1\n",
       "VICENTINHO ALVES           1\n",
       "Name: SENADOR, Length: 153, dtype: int64"
      ]
     },
     "execution_count": 19,
     "metadata": {},
     "output_type": "execute_result"
    }
   ],
   "source": [
    "df_combine.SENADOR.value_counts()"
   ]
  },
  {
   "cell_type": "code",
   "execution_count": 20,
   "id": "649f5514",
   "metadata": {},
   "outputs": [],
   "source": [
    "df_combine['VALOR_REEMBOLSADO'].replace(',','.', regex=True, inplace=True)"
   ]
  },
  {
   "cell_type": "code",
   "execution_count": 21,
   "id": "5d3f0a72",
   "metadata": {},
   "outputs": [
    {
     "data": {
      "text/plain": [
       "0          66.02\n",
       "1         139.98\n",
       "2           6000\n",
       "3         316.39\n",
       "4          99.45\n",
       "          ...   \n",
       "16777    2893.04\n",
       "16778    1180.19\n",
       "16779     2671.9\n",
       "16780    1334.31\n",
       "16781    2250.72\n",
       "Name: VALOR_REEMBOLSADO, Length: 69333, dtype: object"
      ]
     },
     "execution_count": 21,
     "metadata": {},
     "output_type": "execute_result"
    }
   ],
   "source": [
    "df_combine['VALOR_REEMBOLSADO']"
   ]
  },
  {
   "cell_type": "code",
   "execution_count": 22,
   "id": "981d6ada",
   "metadata": {},
   "outputs": [],
   "source": [
    "df_combine['VALOR_REEMBOLSADO'] = df_combine['VALOR_REEMBOLSADO'].astype(float)"
   ]
  },
  {
   "cell_type": "code",
   "execution_count": 23,
   "id": "4fa3dc21",
   "metadata": {},
   "outputs": [
    {
     "name": "stdout",
     "output_type": "stream",
     "text": [
      "<class 'pandas.core.frame.DataFrame'>\n",
      "Int64Index: 69333 entries, 0 to 16781\n",
      "Data columns (total 11 columns):\n",
      " #   Column             Non-Null Count  Dtype  \n",
      "---  ------             --------------  -----  \n",
      " 0   ANO                69333 non-null  int64  \n",
      " 1   MES                69333 non-null  int64  \n",
      " 2   SENADOR            69333 non-null  object \n",
      " 3   TIPO_DESPESA       69333 non-null  object \n",
      " 4   CNPJ_CPF           69333 non-null  object \n",
      " 5   FORNECEDOR         69333 non-null  object \n",
      " 6   DOCUMENTO          66370 non-null  object \n",
      " 7   DATA               69333 non-null  object \n",
      " 8   DETALHAMENTO       38583 non-null  object \n",
      " 9   VALOR_REEMBOLSADO  69333 non-null  float64\n",
      " 10  COD_DOCUMENTO      69333 non-null  int64  \n",
      "dtypes: float64(1), int64(3), object(7)\n",
      "memory usage: 6.3+ MB\n"
     ]
    }
   ],
   "source": [
    "df_combine.info()"
   ]
  },
  {
   "cell_type": "code",
   "execution_count": 24,
   "id": "27d331d7",
   "metadata": {},
   "outputs": [
    {
     "data": {
      "text/plain": [
       "SENADOR\n",
       "TELMÁRIO MOTA           1951401.21\n",
       "ROGÉRIO CARVALHO        1928300.49\n",
       "MECIAS DE JESUS         1913241.64\n",
       "PAULO ROCHA             1885315.28\n",
       "MAILZA GOMES            1793120.58\n",
       "                           ...    \n",
       "SIQUEIRA CAMPOS            5926.99\n",
       "VIRGINIO DE CARVALHO       5720.56\n",
       "MAGNO MALTA                4725.79\n",
       "JOSÉ PIMENTEL              4713.74\n",
       "NAILDE PANTA               1650.62\n",
       "Name: VALOR_REEMBOLSADO, Length: 153, dtype: float64"
      ]
     },
     "execution_count": 24,
     "metadata": {},
     "output_type": "execute_result"
    }
   ],
   "source": [
    "df_combine.groupby('SENADOR')['VALOR_REEMBOLSADO'].sum().sort_values(ascending=False)"
   ]
  },
  {
   "cell_type": "code",
   "execution_count": 25,
   "id": "d33bfe3e",
   "metadata": {},
   "outputs": [
    {
     "data": {
      "text/plain": [
       "ANO   SENADOR                      \n",
       "2019  WELLINGTON FAGUNDES              875\n",
       "      HUMBERTO COSTA                   631\n",
       "      MAJOR OLIMPIO                    606\n",
       "      PAULO PAIM                       584\n",
       "      TELMÁRIO MOTA                    582\n",
       "                                      ... \n",
       "2022  CHIQUINHO FEITOSA                 11\n",
       "      LUIZ PASTORE                      11\n",
       "      SAMUEL ARAUJO                      4\n",
       "      MARIA ELIZA DE AGUIAR E SILVA      3\n",
       "      JOSÉ ANÍBAL                        2\n",
       "Name: SENADOR, Length: 394, dtype: int64"
      ]
     },
     "execution_count": 25,
     "metadata": {},
     "output_type": "execute_result"
    }
   ],
   "source": [
    "df_combine.groupby('ANO')['SENADOR'].value_counts()"
   ]
  },
  {
   "cell_type": "code",
   "execution_count": 26,
   "id": "73c2c95a",
   "metadata": {},
   "outputs": [
    {
     "data": {
      "text/plain": [
       "ANO                      4\n",
       "MES                     12\n",
       "SENADOR                153\n",
       "TIPO_DESPESA             7\n",
       "CNPJ_CPF              7670\n",
       "FORNECEDOR            8692\n",
       "DOCUMENTO            55369\n",
       "DATA                  1559\n",
       "DETALHAMENTO         22485\n",
       "VALOR_REEMBOLSADO    31855\n",
       "COD_DOCUMENTO        69333\n",
       "dtype: int64"
      ]
     },
     "execution_count": 26,
     "metadata": {},
     "output_type": "execute_result"
    }
   ],
   "source": [
    "df_combine.nunique()"
   ]
  },
  {
   "cell_type": "code",
   "execution_count": 27,
   "id": "0bf3e325",
   "metadata": {},
   "outputs": [
    {
     "data": {
      "text/plain": [
       "Locomoção, hospedagem, alimentação, combustíveis e lubrificantes                                                                                                                                   25518\n",
       "Aluguel de imóveis para escritório político, compreendendo despesas concernentes a eles.                                                                                                           15206\n",
       "Passagens aéreas, aquáticas e terrestres nacionais                                                                                                                                                 14897\n",
       "Aquisição de material de consumo para uso no escritório político, inclusive aquisição ou locação de software, despesas postais, aquisição de publicações, locação de móveis e de equipamentos.      5007\n",
       "Divulgação da atividade parlamentar                                                                                                                                                                 4487\n",
       "Contratação de consultorias, assessorias, pesquisas, trabalhos técnicos e outros serviços de apoio ao exercício do mandato parlamentar                                                              4105\n",
       "Serviços de Segurança Privada                                                                                                                                                                        113\n",
       "Name: TIPO_DESPESA, dtype: int64"
      ]
     },
     "execution_count": 27,
     "metadata": {},
     "output_type": "execute_result"
    }
   ],
   "source": [
    "df_combine['TIPO_DESPESA'].value_counts()"
   ]
  },
  {
   "cell_type": "code",
   "execution_count": 28,
   "id": "2ae5ada2",
   "metadata": {},
   "outputs": [
    {
     "name": "stdout",
     "output_type": "stream",
     "text": [
      "Valores únicos 2019:\n",
      " ANO                      1\n",
      "MES                     12\n",
      "SENADOR                127\n",
      "TIPO_DESPESA             7\n",
      "CNPJ_CPF              3621\n",
      "FORNECEDOR            4026\n",
      "DOCUMENTO            18719\n",
      "DATA                   453\n",
      "DETALHAMENTO          8463\n",
      "VALOR_REEMBOLSADO    11751\n",
      "COD_DOCUMENTO        21634\n",
      "dtype: int64\n",
      "\n",
      "\n",
      "Valores únicos 2020:\n",
      " ANO                      1\n",
      "MES                     12\n",
      "SENADOR                 84\n",
      "TIPO_DESPESA             7\n",
      "CNPJ_CPF              2406\n",
      "FORNECEDOR            2595\n",
      "DOCUMENTO            11611\n",
      "DATA                   457\n",
      "DETALHAMENTO          4078\n",
      "VALOR_REEMBOLSADO     7135\n",
      "COD_DOCUMENTO        14090\n",
      "dtype: int64\n",
      "\n",
      "\n",
      "Valores únicos 2021:\n",
      " ANO                      1\n",
      "MES                     12\n",
      "SENADOR                 86\n",
      "TIPO_DESPESA             7\n",
      "CNPJ_CPF              2798\n",
      "FORNECEDOR            2995\n",
      "DOCUMENTO            14338\n",
      "DATA                   450\n",
      "DETALHAMENTO          5699\n",
      "VALOR_REEMBOLSADO     8869\n",
      "COD_DOCUMENTO        16827\n",
      "dtype: int64\n",
      "\n",
      "\n",
      "Valores únicos 2022:\n",
      " ANO                      1\n",
      "MES                     12\n",
      "SENADOR                 97\n",
      "TIPO_DESPESA             7\n",
      "CNPJ_CPF              3104\n",
      "FORNECEDOR            3346\n",
      "DOCUMENTO            13933\n",
      "DATA                   443\n",
      "DETALHAMENTO          5301\n",
      "VALOR_REEMBOLSADO     9519\n",
      "COD_DOCUMENTO        16782\n",
      "dtype: int64\n",
      "\n",
      "\n",
      "Soma total de senadores:\n",
      " 394\n",
      "\n",
      "\n",
      "Valores únicos datasets combinados:\n",
      " ANO                      4\n",
      "MES                     12\n",
      "SENADOR                153\n",
      "TIPO_DESPESA             7\n",
      "CNPJ_CPF              7670\n",
      "FORNECEDOR            8692\n",
      "DOCUMENTO            55369\n",
      "DATA                  1559\n",
      "DETALHAMENTO         22485\n",
      "VALOR_REEMBOLSADO    31855\n",
      "COD_DOCUMENTO        69333\n",
      "dtype: int64\n"
     ]
    }
   ],
   "source": [
    "print('Valores únicos 2019:\\n', df_2019.nunique())\n",
    "print('\\n')\n",
    "print('Valores únicos 2020:\\n', df_2020.nunique())\n",
    "print('\\n')\n",
    "print('Valores únicos 2021:\\n', df_2021.nunique())\n",
    "print('\\n')\n",
    "print('Valores únicos 2022:\\n', df_2022.nunique())\n",
    "print('\\n')\n",
    "\n",
    "print('Soma total de senadores:\\n', df_2019['SENADOR'].nunique() + df_2020['SENADOR'].nunique() + df_2021['SENADOR'].nunique() + df_2022['SENADOR'].nunique())\n",
    "\n",
    "print('\\n')\n",
    "\n",
    "print('Valores únicos datasets combinados:\\n', df_combine.nunique())"
   ]
  },
  {
   "cell_type": "markdown",
   "id": "396b0c43",
   "metadata": {},
   "source": [
    "- Pegar os anos das eleições para o senado, verificar o número de senadores eleitos.\n",
    "- Fazer uma lista dos nomes dos senadores eleitos no período escolhido\n",
    "- Fazer isin dentro dos valores do dataset e os senadores eleitos\n",
    "- Identificar valores errados/nulos e eliminar do dataset"
   ]
  },
  {
   "cell_type": "code",
   "execution_count": 29,
   "id": "48e24e06",
   "metadata": {},
   "outputs": [
    {
     "data": {
      "text/plain": [
       "127"
      ]
     },
     "execution_count": 29,
     "metadata": {},
     "output_type": "execute_result"
    }
   ],
   "source": [
    "nuniques_2019 = df_2019.drop_duplicates(subset=['SENADOR'])\n",
    "#nuniques_2019\n",
    "senadores_2019 = nuniques_2019['SENADOR'].tolist()\n",
    "len(senadores_2019)"
   ]
  },
  {
   "cell_type": "code",
   "execution_count": 30,
   "id": "0e669a4f",
   "metadata": {},
   "outputs": [
    {
     "data": {
      "text/plain": [
       "84"
      ]
     },
     "execution_count": 30,
     "metadata": {},
     "output_type": "execute_result"
    }
   ],
   "source": [
    "nuniques_2020 = df_2020.drop_duplicates(subset=['SENADOR'])\n",
    "#nuniques_2020\n",
    "senadores_2020 = nuniques_2020['SENADOR'].tolist()\n",
    "len(senadores_2020)"
   ]
  },
  {
   "cell_type": "code",
   "execution_count": 31,
   "id": "8131ae1f",
   "metadata": {},
   "outputs": [
    {
     "data": {
      "text/plain": [
       "86"
      ]
     },
     "execution_count": 31,
     "metadata": {},
     "output_type": "execute_result"
    }
   ],
   "source": [
    "nuniques_2021 = df_2021.drop_duplicates(subset=['SENADOR'])\n",
    "#nuniques_2019\n",
    "senadores_2021 = nuniques_2021['SENADOR'].tolist()\n",
    "len(senadores_2021)"
   ]
  },
  {
   "cell_type": "code",
   "execution_count": 32,
   "id": "88c44083",
   "metadata": {},
   "outputs": [
    {
     "data": {
      "text/plain": [
       "97"
      ]
     },
     "execution_count": 32,
     "metadata": {},
     "output_type": "execute_result"
    }
   ],
   "source": [
    "nuniques_2022 = df_2022.drop_duplicates(subset=['SENADOR'])\n",
    "#nuniques_2019\n",
    "senadores_2022 = nuniques_2022['SENADOR'].tolist()\n",
    "len(senadores_2022)"
   ]
  },
  {
   "cell_type": "code",
   "execution_count": 33,
   "id": "fd0bb370",
   "metadata": {},
   "outputs": [
    {
     "name": "stdout",
     "output_type": "stream",
     "text": [
      "['AÉCIO NEVES', 'ALOYSIO NUNES FERREIRA', 'ANA AMÉLIA', 'ÂNGELA PORTELA', 'ANTÔNIO CARLOS VALADARES', 'ARMANDO MONTEIRO', 'ATAÍDES OLIVEIRA', 'BENEDITO DE LIRA', 'BLAIRO MAGGI', 'CÁSSIO CUNHA LIMA', 'DALIRIO BEBER', 'EDISON LOBÃO', 'EDUARDO AMORIM', 'EDUARDO GIRÃO', 'FLEXA RIBEIRO', 'GARIBALDI ALVES FILHO', 'GLEISI HOFFMANN', 'GUARACY SILVEIRA', 'HÉLIO JOSÉ', 'IVO CASSOL', 'JOÃO ALBERTO SOUZA', 'JOÃO CAPIBERIBE', 'JORGE VIANA', 'JOSÉ AGRIPINO', 'JOSÉ MEDEIROS', 'JOSÉ PIMENTEL', 'LÍDICE DA MATA', 'LINDBERGH FARIAS', 'LÚCIA VÂNIA', 'MAGNO MALTA', 'MARTA SUPLICY', 'PAULO BAUER', 'PEDRO CHAVES DOS SANTOS FILHO', 'RAIMUNDO LIRA', 'RENILDE BULHÕES', 'RICARDO FERRAÇO', 'ROBERTO REQUIÃO', 'ROMERO JUCÁ', 'SIQUEIRA CAMPOS', 'VALDIR RAUPP', 'VANESSA GRAZZIOTIN', 'VICENTINHO ALVES', 'WALDEMIR MOKA', 'WALTER PINHEIRO', 'WILDER MORAIS', 'ZÉ SANTANA', 'ZEZÉ PERRELLA']\n"
     ]
    }
   ],
   "source": [
    "s = set(senadores_2020)\n",
    "temp3 = [x for x in senadores_2019 if x not in s]\n",
    "print(temp3)"
   ]
  },
  {
   "cell_type": "code",
   "execution_count": 85,
   "id": "9a479295",
   "metadata": {},
   "outputs": [
    {
     "name": "stdout",
     "output_type": "stream",
     "text": [
      "<class 'pandas.core.frame.DataFrame'>\n",
      "RangeIndex: 80 entries, 0 to 79\n",
      "Data columns (total 10 columns):\n",
      " #   Column                                                                                                                                                                                                                                                                                                                                                                                                                                                                                                                                                                                                                                                                                                                                                                                                                                                                                                                                                  Non-Null Count  Dtype \n",
      "---  ------                                                                                                                                                                                                                                                                                                                                                                                                                                                                                                                                                                                                                                                                                                                                                                                                                                                                                                                                                  --------------  ----- \n",
      " 0   NOME_PARLAMENTAR                                                                                                                                                                                                                                                                                                                                                                                                                                                                                                                                                                                                                                                                                                                                                                                                                                                                                                                                        80 non-null     object\n",
      " 1   PARTIDO                                                                                                                                                                                                                                                                                                                                                                                                                                                                                                                                                                                                                                                                                                                                                                                                                                                                                                                                                 80 non-null     object\n",
      " 2   UF                                                                                                                                                                                                                                                                                                                                                                                                                                                                                                                                                                                                                                                                                                                                                                                                                                                                                                                                                      80 non-null     object\n",
      " 3   TITULARIDADE                                                                                                                                                                                                                                                                                                                                                                                                                                                                                                                                                                                                                                                                                                                                                                                                                                                                                                                                            80 non-null     object\n",
      " 4   MANDATO                                                                                                                                                                                                                                                                                                                                                                                                                                                                                                                                                                                                                                                                                                                                                                                                                                                                                                                                                 80 non-null     object\n",
      " 5   TELEFONES                                                                                                                                                                                                                                                                                                                                                                                                                                                                                                                                                                                                                                                                                                                                                                                                                                                                                                                                               80 non-null     object\n",
      " 6   DTNASC                                                                                                                                                                                                                                                                                                                                                                                                                                                                                                                                                                                                                                                                                                                                                                                                                                                                                                                                                  80 non-null     object\n",
      " 7   EMAIL                                                                                                                                                                                                                                                                                                                                                                                                                                                                                                                                                                                                                                                                                                                                                                                                                                                                                                                                                   80 non-null     object\n",
      " 8   CHEFE_GAB                                                                                                                                                                                                                                                                                                                                                                                                                                                                                                                                                                                                                                                                                                                                                                                                                                                                                                                                               80 non-null     object\n",
      " 9   ENDERECO                                                                                                                                                                                                                                                                                                                                                                                                                                                                                                                                                                                                                                                                                                                                                                                                                                                                                                                                                80 non-null     object\n",
      "dtypes: object(10)\n",
      "memory usage: 6.4+ KB\n"
     ]
    }
   ],
   "source": [
    "df_exercicio_56.info()"
   ]
  },
  {
   "cell_type": "code",
   "execution_count": 86,
   "id": "7e8f7bba",
   "metadata": {},
   "outputs": [],
   "source": [
    "senadores_exercicio = df_exercicio_56['NOME_PARLAMENTAR'].tolist()"
   ]
  },
  {
   "cell_type": "code",
   "execution_count": 36,
   "id": "33a549ab",
   "metadata": {},
   "outputs": [
    {
     "name": "stdout",
     "output_type": "stream",
     "text": [
      "eleitos em 2022:\n",
      " 44\n"
     ]
    }
   ],
   "source": [
    "s = set(senadores_exercicio)\n",
    "temp3 = [x for x in senadores_2022 if x not in s]\n",
    "print('eleitos em 2022:\\n', len(temp3))"
   ]
  },
  {
   "cell_type": "code",
   "execution_count": 87,
   "id": "e7dde753",
   "metadata": {},
   "outputs": [],
   "source": [
    "df_exercicio_56 = pd.DataFrame(df_exercicio_56)"
   ]
  },
  {
   "cell_type": "code",
   "execution_count": null,
   "id": "d0ef9fe9",
   "metadata": {},
   "outputs": [],
   "source": [
    "'''\n",
    "df_exercicio = [df_exercicio]\n",
    "#df_exercício['INICIO'] = df_exercicio.MANDATO.split()\n",
    "for dataset in df_exercicio:\n",
    "    dataset['INICIO'] = dataset['MANDATO'].apply(lambda x: x.split('/')[0]).astype(int)\n",
    "    dataset['FIM'] = dataset['MANDATO'].apply(lambda x: x.split('/')[1]).astype(int)\n",
    "    dataset.drop('MANDATO', axis=1, inplace=True)\n",
    "    \n",
    "df_exercicio\n",
    "'''"
   ]
  },
  {
   "cell_type": "code",
   "execution_count": 88,
   "id": "ac0c7695",
   "metadata": {},
   "outputs": [],
   "source": [
    "df_exercicio_56['INICIO'] = df_exercicio_56.MANDATO.apply(lambda x: x.split('/')[0]).astype(int)\n",
    "df_exercicio_56['FIM'] = df_exercicio_56.MANDATO.apply(lambda x: x.split('/')[1]).astype(int)"
   ]
  },
  {
   "cell_type": "code",
   "execution_count": 89,
   "id": "e87deecc",
   "metadata": {},
   "outputs": [
    {
     "name": "stdout",
     "output_type": "stream",
     "text": [
      "<class 'pandas.core.frame.DataFrame'>\n",
      "RangeIndex: 80 entries, 0 to 79\n",
      "Data columns (total 12 columns):\n",
      " #   Column                                                                                                                                                                                                                                                                                                                                                                                                                                                                                                                                                                                                                                                                                                                                                                                                                                                                                                                                                  Non-Null Count  Dtype \n",
      "---  ------                                                                                                                                                                                                                                                                                                                                                                                                                                                                                                                                                                                                                                                                                                                                                                                                                                                                                                                                                  --------------  ----- \n",
      " 0   NOME_PARLAMENTAR                                                                                                                                                                                                                                                                                                                                                                                                                                                                                                                                                                                                                                                                                                                                                                                                                                                                                                                                        80 non-null     object\n",
      " 1   PARTIDO                                                                                                                                                                                                                                                                                                                                                                                                                                                                                                                                                                                                                                                                                                                                                                                                                                                                                                                                                 80 non-null     object\n",
      " 2   UF                                                                                                                                                                                                                                                                                                                                                                                                                                                                                                                                                                                                                                                                                                                                                                                                                                                                                                                                                      80 non-null     object\n",
      " 3   TITULARIDADE                                                                                                                                                                                                                                                                                                                                                                                                                                                                                                                                                                                                                                                                                                                                                                                                                                                                                                                                            80 non-null     object\n",
      " 4   MANDATO                                                                                                                                                                                                                                                                                                                                                                                                                                                                                                                                                                                                                                                                                                                                                                                                                                                                                                                                                 80 non-null     object\n",
      " 5   TELEFONES                                                                                                                                                                                                                                                                                                                                                                                                                                                                                                                                                                                                                                                                                                                                                                                                                                                                                                                                               80 non-null     object\n",
      " 6   DTNASC                                                                                                                                                                                                                                                                                                                                                                                                                                                                                                                                                                                                                                                                                                                                                                                                                                                                                                                                                  80 non-null     object\n",
      " 7   EMAIL                                                                                                                                                                                                                                                                                                                                                                                                                                                                                                                                                                                                                                                                                                                                                                                                                                                                                                                                                   80 non-null     object\n",
      " 8   CHEFE_GAB                                                                                                                                                                                                                                                                                                                                                                                                                                                                                                                                                                                                                                                                                                                                                                                                                                                                                                                                               80 non-null     object\n",
      " 9   ENDERECO                                                                                                                                                                                                                                                                                                                                                                                                                                                                                                                                                                                                                                                                                                                                                                                                                                                                                                                                                80 non-null     object\n",
      " 10  INICIO                                                                                                                                                                                                                                                                                                                                                                                                                                                                                                                                                                                                                                                                                                                                                                                                                                                                                                                                                  80 non-null     int32 \n",
      " 11  FIM                                                                                                                                                                                                                                                                                                                                                                                                                                                                                                                                                                                                                                                                                                                                                                                                                                                                                                                                                     80 non-null     int32 \n",
      "dtypes: int32(2), object(10)\n",
      "memory usage: 7.0+ KB\n"
     ]
    }
   ],
   "source": [
    "df_exercicio_56.info()"
   ]
  },
  {
   "cell_type": "code",
   "execution_count": 90,
   "id": "45007330",
   "metadata": {},
   "outputs": [
    {
     "data": {
      "text/html": [
       "<div>\n",
       "<style scoped>\n",
       "    .dataframe tbody tr th:only-of-type {\n",
       "        vertical-align: middle;\n",
       "    }\n",
       "\n",
       "    .dataframe tbody tr th {\n",
       "        vertical-align: top;\n",
       "    }\n",
       "\n",
       "    .dataframe thead th {\n",
       "        text-align: right;\n",
       "    }\n",
       "</style>\n",
       "<table border=\"1\" class=\"dataframe\">\n",
       "  <thead>\n",
       "    <tr style=\"text-align: right;\">\n",
       "      <th></th>\n",
       "      <th>NOME_PARLAMENTAR</th>\n",
       "      <th>PARTIDO</th>\n",
       "      <th>UF</th>\n",
       "      <th>TITULARIDADE</th>\n",
       "      <th>TELEFONES</th>\n",
       "      <th>DTNASC</th>\n",
       "      <th>EMAIL</th>\n",
       "      <th>CHEFE_GAB</th>\n",
       "      <th>ENDERECO</th>\n",
       "      <th>INICIO</th>\n",
       "      <th>FIM</th>\n",
       "    </tr>\n",
       "  </thead>\n",
       "  <tbody>\n",
       "    <tr>\n",
       "      <th>0</th>\n",
       "      <td>ALAN RICK</td>\n",
       "      <td>UNIÃO</td>\n",
       "      <td>AC</td>\n",
       "      <td>Titular</td>\n",
       "      <td>(61)3303-6333,</td>\n",
       "      <td>23/10/1976</td>\n",
       "      <td>sen.alanrick@senado.leg.br</td>\n",
       "      <td>Lia Noleto De Queiroz Rachid Gariff</td>\n",
       "      <td>SENADO FEDERAL ANEXO 2   ALA TEOTÔNIO VILELA G...</td>\n",
       "      <td>2023</td>\n",
       "      <td>2031</td>\n",
       "    </tr>\n",
       "    <tr>\n",
       "      <th>1</th>\n",
       "      <td>ALESSANDRO VIEIRA</td>\n",
       "      <td>MDB</td>\n",
       "      <td>SE</td>\n",
       "      <td>Titular</td>\n",
       "      <td>(61)3303-9011,(61)3303-9014,</td>\n",
       "      <td>03/04/1975</td>\n",
       "      <td>sen.alessandrovieira@senado.leg.br</td>\n",
       "      <td>Elaine Da Silva Gontijo</td>\n",
       "      <td>SENADO FEDERAL ANEXO 2   ALA AFFONSO ARINOS GA...</td>\n",
       "      <td>2019</td>\n",
       "      <td>2027</td>\n",
       "    </tr>\n",
       "    <tr>\n",
       "      <th>2</th>\n",
       "      <td>ANA PAULA LOBATO</td>\n",
       "      <td>PSB</td>\n",
       "      <td>MA</td>\n",
       "      <td>1º Suplente</td>\n",
       "      <td>(61)3303-2967,</td>\n",
       "      <td>11/05/1984</td>\n",
       "      <td>sen.anapaulalobato@senado.leg.br</td>\n",
       "      <td>Antino Correa Noleto Junior</td>\n",
       "      <td>SENADO FEDERAL ANEXO 1  16º PAVIMENTO         ...</td>\n",
       "      <td>2023</td>\n",
       "      <td>2031</td>\n",
       "    </tr>\n",
       "  </tbody>\n",
       "</table>\n",
       "</div>"
      ],
      "text/plain": [
       "    NOME_PARLAMENTAR PARTIDO  UF TITULARIDADE                     TELEFONES  \\\n",
       "0          ALAN RICK   UNIÃO  AC      Titular                (61)3303-6333,   \n",
       "1  ALESSANDRO VIEIRA     MDB  SE      Titular  (61)3303-9011,(61)3303-9014,   \n",
       "2   ANA PAULA LOBATO     PSB  MA  1º Suplente                (61)3303-2967,   \n",
       "\n",
       "       DTNASC                               EMAIL  \\\n",
       "0  23/10/1976          sen.alanrick@senado.leg.br   \n",
       "1  03/04/1975  sen.alessandrovieira@senado.leg.br   \n",
       "2  11/05/1984    sen.anapaulalobato@senado.leg.br   \n",
       "\n",
       "                             CHEFE_GAB  \\\n",
       "0  Lia Noleto De Queiroz Rachid Gariff   \n",
       "1              Elaine Da Silva Gontijo   \n",
       "2          Antino Correa Noleto Junior   \n",
       "\n",
       "  ENDERECO                                                                                                                                                                                                                                                                                                                                                                                                                                                                                                                                                                                                                                                                                                                                                                                                                                                                                                                                                \\\n",
       "0  SENADO FEDERAL ANEXO 2   ALA TEOTÔNIO VILELA G...                                                                                                                                                                                                                                                                                                                                                                                                                                                                                                                                                                                                                                                                                                                                                                                                                                                                                                       \n",
       "1  SENADO FEDERAL ANEXO 2   ALA AFFONSO ARINOS GA...                                                                                                                                                                                                                                                                                                                                                                                                                                                                                                                                                                                                                                                                                                                                                                                                                                                                                                       \n",
       "2  SENADO FEDERAL ANEXO 1  16º PAVIMENTO         ...                                                                                                                                                                                                                                                                                                                                                                                                                                                                                                                                                                                                                                                                                                                                                                                                                                                                                                       \n",
       "\n",
       "   INICIO   FIM  \n",
       "0    2023  2031  \n",
       "1    2019  2027  \n",
       "2    2023  2031  "
      ]
     },
     "execution_count": 90,
     "metadata": {},
     "output_type": "execute_result"
    }
   ],
   "source": [
    "df_exercicio_56.drop('MANDATO', axis=1, inplace=True)\n",
    "df_exercicio_56.head(3)"
   ]
  },
  {
   "cell_type": "code",
   "execution_count": 92,
   "id": "d3e24cd2",
   "metadata": {},
   "outputs": [
    {
     "data": {
      "text/html": [
       "<div>\n",
       "<style scoped>\n",
       "    .dataframe tbody tr th:only-of-type {\n",
       "        vertical-align: middle;\n",
       "    }\n",
       "\n",
       "    .dataframe tbody tr th {\n",
       "        vertical-align: top;\n",
       "    }\n",
       "\n",
       "    .dataframe thead th {\n",
       "        text-align: right;\n",
       "    }\n",
       "</style>\n",
       "<table border=\"1\" class=\"dataframe\">\n",
       "  <thead>\n",
       "    <tr style=\"text-align: right;\">\n",
       "      <th></th>\n",
       "      <th>NOME_PARLAMENTAR</th>\n",
       "      <th>PARTIDO</th>\n",
       "      <th>UF</th>\n",
       "      <th>TITULARIDADE</th>\n",
       "      <th>TELEFONES</th>\n",
       "      <th>DTNASC</th>\n",
       "      <th>EMAIL</th>\n",
       "      <th>CHEFE_GAB</th>\n",
       "      <th>ENDERECO</th>\n",
       "      <th>INICIO</th>\n",
       "      <th>FIM</th>\n",
       "    </tr>\n",
       "  </thead>\n",
       "  <tbody>\n",
       "    <tr>\n",
       "      <th>1</th>\n",
       "      <td>ALESSANDRO VIEIRA</td>\n",
       "      <td>MDB</td>\n",
       "      <td>SE</td>\n",
       "      <td>Titular</td>\n",
       "      <td>(61)3303-9011,(61)3303-9014,</td>\n",
       "      <td>03/04/1975</td>\n",
       "      <td>sen.alessandrovieira@senado.leg.br</td>\n",
       "      <td>Elaine Da Silva Gontijo</td>\n",
       "      <td>SENADO FEDERAL ANEXO 2   ALA AFFONSO ARINOS GA...</td>\n",
       "      <td>2019</td>\n",
       "      <td>2027</td>\n",
       "    </tr>\n",
       "    <tr>\n",
       "      <th>3</th>\n",
       "      <td>ANGELO CORONEL</td>\n",
       "      <td>PSD</td>\n",
       "      <td>BA</td>\n",
       "      <td>Titular</td>\n",
       "      <td>(61)3303-6103,(61)3303-6105,</td>\n",
       "      <td>03/05/1958</td>\n",
       "      <td>sen.angelocoronel@senado.leg.br</td>\n",
       "      <td>Natanael Alves Ferreira</td>\n",
       "      <td>SENADO FEDERAL ANEXO 1  7º PAVIMENTO          ...</td>\n",
       "      <td>2019</td>\n",
       "      <td>2027</td>\n",
       "    </tr>\n",
       "    <tr>\n",
       "      <th>7</th>\n",
       "      <td>CARLOS PORTINHO</td>\n",
       "      <td>PL</td>\n",
       "      <td>RJ</td>\n",
       "      <td>1º Suplente</td>\n",
       "      <td>(61)3303-6640,(61)3303-6613,</td>\n",
       "      <td>02/07/1973</td>\n",
       "      <td>sen.carlosportinho@senado.leg.br</td>\n",
       "      <td>Sérgio Teles Torres</td>\n",
       "      <td>SENADO FEDERAL ANEXO 2   ALA TEOTÔNIO VILELA G...</td>\n",
       "      <td>2019</td>\n",
       "      <td>2027</td>\n",
       "    </tr>\n",
       "    <tr>\n",
       "      <th>8</th>\n",
       "      <td>CARLOS VIANA</td>\n",
       "      <td>PODEMOS</td>\n",
       "      <td>MG</td>\n",
       "      <td>Titular</td>\n",
       "      <td>(61)3303-3100,</td>\n",
       "      <td>22/03/1963</td>\n",
       "      <td>sen.carlosviana@senado.leg.br</td>\n",
       "      <td>Eduardo Lucas Silva Serrano</td>\n",
       "      <td>SENADO FEDERAL EDIFÍCIO PRINCIPAL   ALA DINART...</td>\n",
       "      <td>2019</td>\n",
       "      <td>2027</td>\n",
       "    </tr>\n",
       "    <tr>\n",
       "      <th>9</th>\n",
       "      <td>CHICO RODRIGUES</td>\n",
       "      <td>PSB</td>\n",
       "      <td>RR</td>\n",
       "      <td>Titular</td>\n",
       "      <td>(61)3303-2281,</td>\n",
       "      <td>23/04/1951</td>\n",
       "      <td>sen.chicorodrigues@senado.leg.br</td>\n",
       "      <td>Ajax Porto Pinheiro</td>\n",
       "      <td>SENADO FEDERAL ANEXO 2   ALA TEOTÔNIO VILELA G...</td>\n",
       "      <td>2019</td>\n",
       "      <td>2027</td>\n",
       "    </tr>\n",
       "    <tr>\n",
       "      <th>10</th>\n",
       "      <td>CID GOMES</td>\n",
       "      <td>PDT</td>\n",
       "      <td>CE</td>\n",
       "      <td>Titular</td>\n",
       "      <td>(61)3303-6460,(61)3303-6399,</td>\n",
       "      <td>27/04/1963</td>\n",
       "      <td>sen.cidgomes@senado.leg.br</td>\n",
       "      <td>Glaucio Ribeiro De Pinho</td>\n",
       "      <td>SENADO FEDERAL ANEXO 1  10º PAVIMENTO         ...</td>\n",
       "      <td>2019</td>\n",
       "      <td>2027</td>\n",
       "    </tr>\n",
       "    <tr>\n",
       "      <th>11</th>\n",
       "      <td>CIRO NOGUEIRA</td>\n",
       "      <td>PP</td>\n",
       "      <td>PI</td>\n",
       "      <td>Titular</td>\n",
       "      <td>(61)3303-6187,(61)3303-6188,</td>\n",
       "      <td>21/11/1968</td>\n",
       "      <td>ciro.nogueira@senado.leg.br</td>\n",
       "      <td>Oswaldo Marcello Neto (chefe substituto)</td>\n",
       "      <td>SENADO FEDERAL ANEXO 1  3º PAVIMENTO          ...</td>\n",
       "      <td>2019</td>\n",
       "      <td>2027</td>\n",
       "    </tr>\n",
       "    <tr>\n",
       "      <th>13</th>\n",
       "      <td>CONFUCIO MOURA</td>\n",
       "      <td>MDB</td>\n",
       "      <td>RO</td>\n",
       "      <td>Titular</td>\n",
       "      <td>(61)3303-2470,(61)3303-2163,</td>\n",
       "      <td>16/05/1948</td>\n",
       "      <td>sen.confuciomoura@senado.leg.br</td>\n",
       "      <td>Rogerio Caroca Cavalcante</td>\n",
       "      <td>SENADO FEDERAL ANEXO 2   ALA TANCREDO NEVES GA...</td>\n",
       "      <td>2019</td>\n",
       "      <td>2027</td>\n",
       "    </tr>\n",
       "    <tr>\n",
       "      <th>15</th>\n",
       "      <td>DANIELLA RIBEIRO</td>\n",
       "      <td>PSD</td>\n",
       "      <td>PB</td>\n",
       "      <td>Titular</td>\n",
       "      <td>(61)3303-6788,(61)3303-6790,</td>\n",
       "      <td>26/03/1972</td>\n",
       "      <td>sen.daniellaribeiro@senado.leg.br</td>\n",
       "      <td>Maria Eduarda Souto De Aquino</td>\n",
       "      <td>SENADO FEDERAL ANEXO 2   ALA TEOTÔNIO VILELA G...</td>\n",
       "      <td>2019</td>\n",
       "      <td>2027</td>\n",
       "    </tr>\n",
       "    <tr>\n",
       "      <th>18</th>\n",
       "      <td>EDUARDO BRAGA</td>\n",
       "      <td>MDB</td>\n",
       "      <td>AM</td>\n",
       "      <td>Titular</td>\n",
       "      <td>(61)3303-6230,</td>\n",
       "      <td>06/12/1960</td>\n",
       "      <td>sen.eduardobraga@senado.leg.br</td>\n",
       "      <td>Valéria Simenov Thomé</td>\n",
       "      <td>SENADO FEDERAL ANEXO 1  12º PAVIMENTO         ...</td>\n",
       "      <td>2019</td>\n",
       "      <td>2027</td>\n",
       "    </tr>\n",
       "    <tr>\n",
       "      <th>19</th>\n",
       "      <td>EDUARDO GIRÃO</td>\n",
       "      <td>NOVO</td>\n",
       "      <td>CE</td>\n",
       "      <td>Titular</td>\n",
       "      <td>(61)3303-6677,(61)3303-6678,</td>\n",
       "      <td>25/09/1972</td>\n",
       "      <td>sen.eduardogirao@senado.leg.br</td>\n",
       "      <td>Francisco Maiorana Neto</td>\n",
       "      <td>SENADO FEDERAL ANEXO 2   ALA TEOTÔNIO VILELA G...</td>\n",
       "      <td>2019</td>\n",
       "      <td>2027</td>\n",
       "    </tr>\n",
       "    <tr>\n",
       "      <th>20</th>\n",
       "      <td>EDUARDO GOMES</td>\n",
       "      <td>PL</td>\n",
       "      <td>TO</td>\n",
       "      <td>Titular</td>\n",
       "      <td>(61)3303-6349,(61)3303-6352,(61)3303-6354</td>\n",
       "      <td>28/04/1966</td>\n",
       "      <td>sen.eduardogomes@senado.leg.br</td>\n",
       "      <td>Walter Germano De Oliveira</td>\n",
       "      <td>SENADO FEDERAL ANEXO 1  5º PAVIMENTO          ...</td>\n",
       "      <td>2019</td>\n",
       "      <td>2027</td>\n",
       "    </tr>\n",
       "    <tr>\n",
       "      <th>22</th>\n",
       "      <td>ELIZIANE GAMA</td>\n",
       "      <td>PSD</td>\n",
       "      <td>MA</td>\n",
       "      <td>Titular</td>\n",
       "      <td>(61)3303-6741,</td>\n",
       "      <td>27/02/1977</td>\n",
       "      <td>sen.elizianegama@senado.leg.br</td>\n",
       "      <td>-</td>\n",
       "      <td>SENADO FEDERAL ANEXO 2   PAVIMENTO TÉRREO     ...</td>\n",
       "      <td>2019</td>\n",
       "      <td>2027</td>\n",
       "    </tr>\n",
       "    <tr>\n",
       "      <th>23</th>\n",
       "      <td>ESPERIDIÃO AMIN</td>\n",
       "      <td>PP</td>\n",
       "      <td>SC</td>\n",
       "      <td>Titular</td>\n",
       "      <td>(61)3303-6446,(61)3303-6447,</td>\n",
       "      <td>21/12/1947</td>\n",
       "      <td>sen.esperidiaoamin@senado.leg.br</td>\n",
       "      <td>Amaro Lucio Da Silva</td>\n",
       "      <td>SENADO FEDERAL ANEXO 2  PAVIMENTO TÉRREO ALA N...</td>\n",
       "      <td>2019</td>\n",
       "      <td>2027</td>\n",
       "    </tr>\n",
       "    <tr>\n",
       "      <th>24</th>\n",
       "      <td>FABIANO CONTARATO</td>\n",
       "      <td>PT</td>\n",
       "      <td>ES</td>\n",
       "      <td>Titular</td>\n",
       "      <td>(61)3303-9054,(61)3303-6743,</td>\n",
       "      <td>20/06/1966</td>\n",
       "      <td>sen.fabianocontarato@senado.leg.br</td>\n",
       "      <td>Levi Borges De Oliveira Veríssimo</td>\n",
       "      <td>SENADO FEDERAL ANEXO 1  13º PAVIMENTO         ...</td>\n",
       "      <td>2019</td>\n",
       "      <td>2027</td>\n",
       "    </tr>\n",
       "    <tr>\n",
       "      <th>25</th>\n",
       "      <td>FERNANDO DUEIRE</td>\n",
       "      <td>MDB</td>\n",
       "      <td>PE</td>\n",
       "      <td>1º Suplente</td>\n",
       "      <td>(61)3303-3522,</td>\n",
       "      <td>14/04/1959</td>\n",
       "      <td>sen.fernandodueire@senado.leg.br</td>\n",
       "      <td>Aristeu De Oliveira Plácido Junior</td>\n",
       "      <td>SENADO FEDERAL ANEXO 1  4º PAVIMENTO          ...</td>\n",
       "      <td>2019</td>\n",
       "      <td>2027</td>\n",
       "    </tr>\n",
       "    <tr>\n",
       "      <th>27</th>\n",
       "      <td>FLÁVIO ARNS</td>\n",
       "      <td>PSB</td>\n",
       "      <td>PR</td>\n",
       "      <td>Titular</td>\n",
       "      <td>(61)3303-6301,</td>\n",
       "      <td>09/11/1950</td>\n",
       "      <td>sen.flavioarns@senado.leg.br</td>\n",
       "      <td>Aires Pereira Das Neves Junior</td>\n",
       "      <td>SENADO FEDERAL EDIFÍCIO PRINCIPAL   ALA DINART...</td>\n",
       "      <td>2019</td>\n",
       "      <td>2027</td>\n",
       "    </tr>\n",
       "    <tr>\n",
       "      <th>28</th>\n",
       "      <td>FLÁVIO BOLSONARO</td>\n",
       "      <td>PL</td>\n",
       "      <td>RJ</td>\n",
       "      <td>Titular</td>\n",
       "      <td>(61)3303-1717,(61)3303-1718,</td>\n",
       "      <td>30/04/1981</td>\n",
       "      <td>sen.flaviobolsonaro@senado.leg.br</td>\n",
       "      <td>Miguel Angelo Braga Grillo</td>\n",
       "      <td>SENADO FEDERAL ANEXO 1  17º PAVIMENTO         ...</td>\n",
       "      <td>2019</td>\n",
       "      <td>2027</td>\n",
       "    </tr>\n",
       "    <tr>\n",
       "      <th>29</th>\n",
       "      <td>GIORDANO</td>\n",
       "      <td>MDB</td>\n",
       "      <td>SP</td>\n",
       "      <td>1º Suplente</td>\n",
       "      <td>(61)3303-4177,</td>\n",
       "      <td>26/06/1973</td>\n",
       "      <td>sen.giordano@senado.leg.br</td>\n",
       "      <td>Francisco De Assis Dias</td>\n",
       "      <td>SENADO FEDERAL ANEXO 2   ALA TEOTÔNIO VILELA G...</td>\n",
       "      <td>2019</td>\n",
       "      <td>2027</td>\n",
       "    </tr>\n",
       "    <tr>\n",
       "      <th>31</th>\n",
       "      <td>HUMBERTO COSTA</td>\n",
       "      <td>PT</td>\n",
       "      <td>PE</td>\n",
       "      <td>Titular</td>\n",
       "      <td>(61)3303-6285,(61)3303-6286,</td>\n",
       "      <td>07/07/1957</td>\n",
       "      <td>sen.humbertocosta@senado.leg.br</td>\n",
       "      <td>Alethele De Oliveira Santos</td>\n",
       "      <td>SENADO FEDERAL ANEXO 2   ALA RUY CARNEIRO GABI...</td>\n",
       "      <td>2019</td>\n",
       "      <td>2027</td>\n",
       "    </tr>\n",
       "    <tr>\n",
       "      <th>32</th>\n",
       "      <td>IRAJÁ</td>\n",
       "      <td>PSD</td>\n",
       "      <td>TO</td>\n",
       "      <td>Titular</td>\n",
       "      <td>(61)3303-6469,(61)3303-6474</td>\n",
       "      <td>03/02/1983</td>\n",
       "      <td>sen.iraja@senado.leg.br</td>\n",
       "      <td>Vilmar Bomfim Ayres Da Fonseca</td>\n",
       "      <td>SENADO FEDERAL ANEXO 1  21º PAVIMENTO         ...</td>\n",
       "      <td>2019</td>\n",
       "      <td>2027</td>\n",
       "    </tr>\n",
       "    <tr>\n",
       "      <th>33</th>\n",
       "      <td>IVETE DA SILVEIRA</td>\n",
       "      <td>MDB</td>\n",
       "      <td>SC</td>\n",
       "      <td>1º Suplente</td>\n",
       "      <td>(61)3303-2200,</td>\n",
       "      <td>28/05/1943</td>\n",
       "      <td>sen.ivetedasilveira@senado.leg.br</td>\n",
       "      <td>Henrique De Freitas Junqueira</td>\n",
       "      <td>SENADO FEDERAL ANEXO 2   ALA TANCREDO NEVES GA...</td>\n",
       "      <td>2019</td>\n",
       "      <td>2027</td>\n",
       "    </tr>\n",
       "    <tr>\n",
       "      <th>34</th>\n",
       "      <td>IZALCI LUCAS</td>\n",
       "      <td>PSDB</td>\n",
       "      <td>DF</td>\n",
       "      <td>Titular</td>\n",
       "      <td>(61)3303-6049,(61)3303-6050,</td>\n",
       "      <td>07/04/1956</td>\n",
       "      <td>sen.izalcilucas@senado.leg.br</td>\n",
       "      <td>Maria Margarida De Amorim Rocha</td>\n",
       "      <td>SENADO FEDERAL ANEXO 1  11º PAVIMENTO         ...</td>\n",
       "      <td>2019</td>\n",
       "      <td>2027</td>\n",
       "    </tr>\n",
       "    <tr>\n",
       "      <th>35</th>\n",
       "      <td>JADER BARBALHO</td>\n",
       "      <td>MDB</td>\n",
       "      <td>PA</td>\n",
       "      <td>Titular</td>\n",
       "      <td>(61)3303-9831,(61)3303-9827,(61)3303-9828</td>\n",
       "      <td>27/10/1944</td>\n",
       "      <td>sen.jaderbarbalho@senado.leg.br</td>\n",
       "      <td>Leticia De Matos Pereira</td>\n",
       "      <td>SENADO FEDERAL ANEXO 1  2º PAVIMENTO          ...</td>\n",
       "      <td>2019</td>\n",
       "      <td>2027</td>\n",
       "    </tr>\n",
       "    <tr>\n",
       "      <th>37</th>\n",
       "      <td>JAQUES WAGNER</td>\n",
       "      <td>PT</td>\n",
       "      <td>BA</td>\n",
       "      <td>Titular</td>\n",
       "      <td>(61)3303-6390,(61)3303-6391,</td>\n",
       "      <td>16/03/1951</td>\n",
       "      <td>sen.jaqueswagner@senado.leg.br</td>\n",
       "      <td>Elida Da Costa Silva</td>\n",
       "      <td>SENADO FEDERAL ANEXO 1  23º PAVIMENTO         ...</td>\n",
       "      <td>2019</td>\n",
       "      <td>2027</td>\n",
       "    </tr>\n",
       "    <tr>\n",
       "      <th>38</th>\n",
       "      <td>JAYME CAMPOS</td>\n",
       "      <td>UNIÃO</td>\n",
       "      <td>MT</td>\n",
       "      <td>Titular</td>\n",
       "      <td>(61)3303-2390,(61)3303-2384,</td>\n",
       "      <td>13/09/1951</td>\n",
       "      <td>sen.jaymecampos@senado.leg.br</td>\n",
       "      <td>-</td>\n",
       "      <td>SENADO FEDERAL ANEXO II BLOCO A TÉRREO ALA AFF...</td>\n",
       "      <td>2019</td>\n",
       "      <td>2027</td>\n",
       "    </tr>\n",
       "    <tr>\n",
       "      <th>39</th>\n",
       "      <td>JORGE KAJURU</td>\n",
       "      <td>PSB</td>\n",
       "      <td>GO</td>\n",
       "      <td>Titular</td>\n",
       "      <td>(61)3303-2844,(61)3303-2031,</td>\n",
       "      <td>20/01/1961</td>\n",
       "      <td>sen.jorgekajuru@senado.leg.br</td>\n",
       "      <td>Murilo De Souza Arrais</td>\n",
       "      <td>SENADO FEDERAL ANEXO 2   ALA NILO COELHO 1º PA...</td>\n",
       "      <td>2019</td>\n",
       "      <td>2027</td>\n",
       "    </tr>\n",
       "    <tr>\n",
       "      <th>43</th>\n",
       "      <td>LEILA BARROS</td>\n",
       "      <td>PDT</td>\n",
       "      <td>DF</td>\n",
       "      <td>Titular</td>\n",
       "      <td>(61)3303-6427,</td>\n",
       "      <td>30/09/1971</td>\n",
       "      <td>sen.leilabarros@senado.leg.br</td>\n",
       "      <td>Ricarda Raquel Barbosa Lima</td>\n",
       "      <td>SENADO FEDERAL ANEXO 2   ALA TEOTÔNIO VILELA G...</td>\n",
       "      <td>2019</td>\n",
       "      <td>2027</td>\n",
       "    </tr>\n",
       "    <tr>\n",
       "      <th>44</th>\n",
       "      <td>LUCAS BARRETO</td>\n",
       "      <td>PSD</td>\n",
       "      <td>AP</td>\n",
       "      <td>Titular</td>\n",
       "      <td>(61)3303-4851,</td>\n",
       "      <td>10/11/1964</td>\n",
       "      <td>sen.lucasbarreto@senado.leg.br</td>\n",
       "      <td>Cassio Ruy Caporal</td>\n",
       "      <td>SENADO FEDERAL ANEXO 2   ALA AFFONSO ARINOS GA...</td>\n",
       "      <td>2019</td>\n",
       "      <td>2027</td>\n",
       "    </tr>\n",
       "    <tr>\n",
       "      <th>45</th>\n",
       "      <td>LUIS CARLOS HEINZE</td>\n",
       "      <td>PP</td>\n",
       "      <td>RS</td>\n",
       "      <td>Titular</td>\n",
       "      <td>(61)3303-4124,(61)3303-4127,</td>\n",
       "      <td>14/09/1950</td>\n",
       "      <td>sen.luiscarlosheinze@senado.leg.br</td>\n",
       "      <td>Claudio Pereira Santa Catarina</td>\n",
       "      <td>SENADO FEDERAL ANEXO 2   ALA AFFONSO ARINOS GA...</td>\n",
       "      <td>2019</td>\n",
       "      <td>2027</td>\n",
       "    </tr>\n",
       "    <tr>\n",
       "      <th>47</th>\n",
       "      <td>MARA GABRILLI</td>\n",
       "      <td>PSD</td>\n",
       "      <td>SP</td>\n",
       "      <td>Titular</td>\n",
       "      <td>(61)3303-2191,(61)3303-2775</td>\n",
       "      <td>28/09/1967</td>\n",
       "      <td>sen.maragabrilli@senado.leg.br</td>\n",
       "      <td>Melina Pappas Arruda Gil</td>\n",
       "      <td>SENADO FEDERAL EDIFÍCIO PRINCIPAL   ALA ANTÔNI...</td>\n",
       "      <td>2019</td>\n",
       "      <td>2027</td>\n",
       "    </tr>\n",
       "    <tr>\n",
       "      <th>48</th>\n",
       "      <td>MARCELO CASTRO</td>\n",
       "      <td>MDB</td>\n",
       "      <td>PI</td>\n",
       "      <td>Titular</td>\n",
       "      <td>(61)3303-6130,(61)3303-4078,</td>\n",
       "      <td>09/06/1950</td>\n",
       "      <td>sen.marcelocastro@senado.leg.br</td>\n",
       "      <td>José Da Guia Guimarães</td>\n",
       "      <td>SENADO FEDERAL ANEXO 1  14º PAVIMENTO         ...</td>\n",
       "      <td>2019</td>\n",
       "      <td>2027</td>\n",
       "    </tr>\n",
       "    <tr>\n",
       "      <th>49</th>\n",
       "      <td>MARCIO BITTAR</td>\n",
       "      <td>UNIÃO</td>\n",
       "      <td>AC</td>\n",
       "      <td>Titular</td>\n",
       "      <td>(61)3303-2115,(61)3303-2119,</td>\n",
       "      <td>28/06/1963</td>\n",
       "      <td>sen.marciobittar@senado.leg.br</td>\n",
       "      <td>-</td>\n",
       "      <td>SENADO FEDERAL ANEXO 2   ALA AFFONSO ARINOS GA...</td>\n",
       "      <td>2019</td>\n",
       "      <td>2027</td>\n",
       "    </tr>\n",
       "    <tr>\n",
       "      <th>50</th>\n",
       "      <td>MARCOS DO VAL</td>\n",
       "      <td>PODEMOS</td>\n",
       "      <td>ES</td>\n",
       "      <td>Titular</td>\n",
       "      <td>(61)3303-6747,(61)3303-6753,</td>\n",
       "      <td>15/06/1971</td>\n",
       "      <td>sen.marcosdoval@senado.leg.br</td>\n",
       "      <td>Silvia Ligia Suassuna De Vasconcelos</td>\n",
       "      <td>SENADO FEDERAL ANEXO 1  18º PAVIMENTO         ...</td>\n",
       "      <td>2019</td>\n",
       "      <td>2027</td>\n",
       "    </tr>\n",
       "    <tr>\n",
       "      <th>51</th>\n",
       "      <td>MARCOS ROGÉRIO</td>\n",
       "      <td>PL</td>\n",
       "      <td>RO</td>\n",
       "      <td>Titular</td>\n",
       "      <td>(61)3303-6148,</td>\n",
       "      <td>07/07/1978</td>\n",
       "      <td>sen.marcosrogerio@senado.leg.br</td>\n",
       "      <td>-</td>\n",
       "      <td>SENADO FEDERAL ANEXO 2   ALA TEOTÔNIO VILELA G...</td>\n",
       "      <td>2019</td>\n",
       "      <td>2027</td>\n",
       "    </tr>\n",
       "    <tr>\n",
       "      <th>52</th>\n",
       "      <td>MARGARETH BUZETTI</td>\n",
       "      <td>PSD</td>\n",
       "      <td>MT</td>\n",
       "      <td>1º Suplente</td>\n",
       "      <td>(61)3303-6408,</td>\n",
       "      <td>31/10/1959</td>\n",
       "      <td>sen.margarethbuzetti@senado.leg.br</td>\n",
       "      <td>Daniel Lopes Amaral</td>\n",
       "      <td>SENADO FEDERAL ANEXO 2   ALA TEOTÔNIO VILELA G...</td>\n",
       "      <td>2019</td>\n",
       "      <td>2027</td>\n",
       "    </tr>\n",
       "    <tr>\n",
       "      <th>53</th>\n",
       "      <td>MECIAS DE JESUS</td>\n",
       "      <td>REPUBLICANOS</td>\n",
       "      <td>RR</td>\n",
       "      <td>Titular</td>\n",
       "      <td>(61)3303-5291,(61)3303-5292,</td>\n",
       "      <td>08/02/1962</td>\n",
       "      <td>sen.meciasdejesus@senado.leg.br</td>\n",
       "      <td>-</td>\n",
       "      <td>SENADO FEDERAL ANEXO 2   ALA RUY CARNEIRO GABI...</td>\n",
       "      <td>2019</td>\n",
       "      <td>2027</td>\n",
       "    </tr>\n",
       "    <tr>\n",
       "      <th>54</th>\n",
       "      <td>NELSINHO TRAD FILHO</td>\n",
       "      <td>PSD</td>\n",
       "      <td>MS</td>\n",
       "      <td>Titular</td>\n",
       "      <td>(61)3303-6767,(61)3303-6768,</td>\n",
       "      <td>05/09/1961</td>\n",
       "      <td>sen.nelsinhotrad@senado.leg.br</td>\n",
       "      <td>Maria Genilse Dos Santos</td>\n",
       "      <td>SENADO FEDERAL ANEXO 1  24º PAVIMENTO         ...</td>\n",
       "      <td>2019</td>\n",
       "      <td>2027</td>\n",
       "    </tr>\n",
       "    <tr>\n",
       "      <th>56</th>\n",
       "      <td>ORIOVISTO GUIMARÃES</td>\n",
       "      <td>PODEMOS</td>\n",
       "      <td>PR</td>\n",
       "      <td>Titular</td>\n",
       "      <td>(61)3303-1635,</td>\n",
       "      <td>12/08/1945</td>\n",
       "      <td>sen.oriovistoguimaraes@senado.leg.br</td>\n",
       "      <td>Henrique Fernando De Andrade Pereira</td>\n",
       "      <td>SENADO FEDERAL ANEXO 2   ALA TEOTÔNIO VILELA G...</td>\n",
       "      <td>2019</td>\n",
       "      <td>2027</td>\n",
       "    </tr>\n",
       "    <tr>\n",
       "      <th>58</th>\n",
       "      <td>PAULO PAIM</td>\n",
       "      <td>PT</td>\n",
       "      <td>RS</td>\n",
       "      <td>Titular</td>\n",
       "      <td>(61)3303-5232,(61)3303-5231,</td>\n",
       "      <td>15/03/1950</td>\n",
       "      <td>sen.paulopaim@senado.leg.br</td>\n",
       "      <td>Ivanete Ferronatto</td>\n",
       "      <td>SENADO FEDERAL ANEXO 1  22º PAVIMENTO         ...</td>\n",
       "      <td>2019</td>\n",
       "      <td>2027</td>\n",
       "    </tr>\n",
       "    <tr>\n",
       "      <th>59</th>\n",
       "      <td>PLÍNIO VALÉRIO</td>\n",
       "      <td>PSDB</td>\n",
       "      <td>AM</td>\n",
       "      <td>Titular</td>\n",
       "      <td>(61)3303-2898,(61)3303-2800,</td>\n",
       "      <td>31/01/1955</td>\n",
       "      <td>sen.pliniovalerio@senado.leg.br</td>\n",
       "      <td>Glaucia Maria De Borba Benevides Gadelha</td>\n",
       "      <td>SENADO FEDERAL ANEXO 1  25º PAVIMENTO         ...</td>\n",
       "      <td>2019</td>\n",
       "      <td>2027</td>\n",
       "    </tr>\n",
       "    <tr>\n",
       "      <th>61</th>\n",
       "      <td>RANDOLFE RODRIGUES</td>\n",
       "      <td>REDE</td>\n",
       "      <td>AP</td>\n",
       "      <td>Titular</td>\n",
       "      <td>(61)3303-6777,(61)3303-6568,</td>\n",
       "      <td>06/11/1972</td>\n",
       "      <td>sen.randolferodrigues@senado.leg.br</td>\n",
       "      <td>-</td>\n",
       "      <td>SENADO FEDERAL ANEXO 1  9º PAVIMENTO          ...</td>\n",
       "      <td>2019</td>\n",
       "      <td>2027</td>\n",
       "    </tr>\n",
       "    <tr>\n",
       "      <th>62</th>\n",
       "      <td>RENAN CALHEIROS</td>\n",
       "      <td>MDB</td>\n",
       "      <td>AL</td>\n",
       "      <td>Titular</td>\n",
       "      <td>(61)3303-2261,</td>\n",
       "      <td>16/09/1955</td>\n",
       "      <td>sen.renancalheiros@senado.leg.br</td>\n",
       "      <td>Martha Lyra Nascimento</td>\n",
       "      <td>SENADO FEDERAL ANEXO 1  15º PAVIMENTO         ...</td>\n",
       "      <td>2019</td>\n",
       "      <td>2027</td>\n",
       "    </tr>\n",
       "    <tr>\n",
       "      <th>63</th>\n",
       "      <td>RODRIGO CUNHA</td>\n",
       "      <td>PODEMOS</td>\n",
       "      <td>AL</td>\n",
       "      <td>Titular</td>\n",
       "      <td>(61)3303-6083,</td>\n",
       "      <td>11/05/1981</td>\n",
       "      <td>sen.rodrigocunha@senado.leg.br</td>\n",
       "      <td>Yuri Afonso Farias De Sousa</td>\n",
       "      <td>SENADO FEDERAL ANEXO 2   ALA AFFONSO ARINOS GA...</td>\n",
       "      <td>2019</td>\n",
       "      <td>2027</td>\n",
       "    </tr>\n",
       "    <tr>\n",
       "      <th>64</th>\n",
       "      <td>RODRIGO PACHECO</td>\n",
       "      <td>PSD</td>\n",
       "      <td>MG</td>\n",
       "      <td>Titular</td>\n",
       "      <td>(61)3303-2794,(61)3303-2795,</td>\n",
       "      <td>03/11/1976</td>\n",
       "      <td>sen.rodrigopacheco@senado.leg.br</td>\n",
       "      <td>Regina Celia Simplicio</td>\n",
       "      <td>SENADO FEDERAL ANEXO 2   ALA TEOTÔNIO VILELA G...</td>\n",
       "      <td>2019</td>\n",
       "      <td>2027</td>\n",
       "    </tr>\n",
       "    <tr>\n",
       "      <th>65</th>\n",
       "      <td>ROGÉRIO CARVALHO</td>\n",
       "      <td>PT</td>\n",
       "      <td>SE</td>\n",
       "      <td>Titular</td>\n",
       "      <td>(61)3303-2201,(61)3303-2203,</td>\n",
       "      <td>02/08/1968</td>\n",
       "      <td>sen.rogeriocarvalho@senado.leg.br</td>\n",
       "      <td>Frederico De Pina Álvares Filho</td>\n",
       "      <td>SENADO FEDERAL ANEXO 2   ALA TEOTÔNIO VILELA G...</td>\n",
       "      <td>2019</td>\n",
       "      <td>2027</td>\n",
       "    </tr>\n",
       "    <tr>\n",
       "      <th>69</th>\n",
       "      <td>SÉRGIO PETECÃO</td>\n",
       "      <td>PSD</td>\n",
       "      <td>AC</td>\n",
       "      <td>Titular</td>\n",
       "      <td>(61)3303-4086,(61)3303-6708,</td>\n",
       "      <td>20/04/1960</td>\n",
       "      <td>sen.sergiopetecao@senado.leg.br</td>\n",
       "      <td>Kauê Da Silva Tissot</td>\n",
       "      <td>SENADO FEDERAL ANEXO 2   ALA TANCREDO NEVES GA...</td>\n",
       "      <td>2019</td>\n",
       "      <td>2027</td>\n",
       "    </tr>\n",
       "    <tr>\n",
       "      <th>70</th>\n",
       "      <td>SORAYA THRONICKE</td>\n",
       "      <td>PODEMOS</td>\n",
       "      <td>MS</td>\n",
       "      <td>Titular</td>\n",
       "      <td>(61)3303-1775,</td>\n",
       "      <td>01/06/1973</td>\n",
       "      <td>sen.sorayathronicke@senado.leg.br</td>\n",
       "      <td>Vanda Josefina Branchine</td>\n",
       "      <td>SENADO FEDERAL EDIFÍCIO PRINCIPAL   ALA DINART...</td>\n",
       "      <td>2019</td>\n",
       "      <td>2027</td>\n",
       "    </tr>\n",
       "    <tr>\n",
       "      <th>71</th>\n",
       "      <td>STYVENSON VALENTIM</td>\n",
       "      <td>PODEMOS</td>\n",
       "      <td>RN</td>\n",
       "      <td>Titular</td>\n",
       "      <td>(61)3303-1148,</td>\n",
       "      <td>07/02/1977</td>\n",
       "      <td>sen.styvensonvalentim@senado.leg.br</td>\n",
       "      <td>Davi Anjos Paiva</td>\n",
       "      <td>SENADO FEDERAL ANEXO 2  TÉRREO ALA ALEXANDRE C...</td>\n",
       "      <td>2019</td>\n",
       "      <td>2027</td>\n",
       "    </tr>\n",
       "    <tr>\n",
       "      <th>74</th>\n",
       "      <td>VANDERLAN CARDOSO</td>\n",
       "      <td>PSD</td>\n",
       "      <td>GO</td>\n",
       "      <td>Titular</td>\n",
       "      <td>(61)3303-2092,(61)3303-2099,</td>\n",
       "      <td>15/11/1962</td>\n",
       "      <td>sen.vanderlancardoso@senado.leg.br</td>\n",
       "      <td>-</td>\n",
       "      <td>SENADO FEDERAL ANEXO 2   ALA AFFONSO ARINOS GA...</td>\n",
       "      <td>2019</td>\n",
       "      <td>2027</td>\n",
       "    </tr>\n",
       "    <tr>\n",
       "      <th>75</th>\n",
       "      <td>VENEZIANO VITAL DO RÊGO</td>\n",
       "      <td>MDB</td>\n",
       "      <td>PB</td>\n",
       "      <td>Titular</td>\n",
       "      <td>(61)3303-2252,(61)3303-2481,</td>\n",
       "      <td>17/07/1970</td>\n",
       "      <td>sen.venezianovitaldorego@senado.leg.br</td>\n",
       "      <td>Daniel Queiroz De Medeiros Chianca</td>\n",
       "      <td>SENADO FEDERAL ANEXO 1  20º PAVIMENTO         ...</td>\n",
       "      <td>2019</td>\n",
       "      <td>2027</td>\n",
       "    </tr>\n",
       "    <tr>\n",
       "      <th>76</th>\n",
       "      <td>WEVERTON</td>\n",
       "      <td>PDT</td>\n",
       "      <td>MA</td>\n",
       "      <td>Titular</td>\n",
       "      <td>(61)3303-4161,(61)3303-1655,</td>\n",
       "      <td>08/10/1979</td>\n",
       "      <td>sen.wevertonrocha@senado.leg.br</td>\n",
       "      <td>Cristina Lino Coêlho Stuckert</td>\n",
       "      <td>SENADO FEDERAL ANEXO 2   ALA TANCREDO NEVES GA...</td>\n",
       "      <td>2019</td>\n",
       "      <td>2027</td>\n",
       "    </tr>\n",
       "    <tr>\n",
       "      <th>78</th>\n",
       "      <td>ZENAIDE MAIA</td>\n",
       "      <td>PSD</td>\n",
       "      <td>RN</td>\n",
       "      <td>Titular</td>\n",
       "      <td>(61)3303-2371,(61)3303-2372,</td>\n",
       "      <td>27/11/1954</td>\n",
       "      <td>sen.zenaidemaia@senado.leg.br</td>\n",
       "      <td>Maria Lucia Sigmaringa Seixas</td>\n",
       "      <td>SENADO FEDERAL ANEXO 1  8º PAVIMENTO          ...</td>\n",
       "      <td>2019</td>\n",
       "      <td>2027</td>\n",
       "    </tr>\n",
       "    <tr>\n",
       "      <th>79</th>\n",
       "      <td>ZEQUINHA MARINHO</td>\n",
       "      <td>PODEMOS</td>\n",
       "      <td>PA</td>\n",
       "      <td>Titular</td>\n",
       "      <td>(61)3303-6623,</td>\n",
       "      <td>18/09/1959</td>\n",
       "      <td>sen.zequinhamarinho@senado.leg.br</td>\n",
       "      <td>Alexandre Bodani Cavalcante</td>\n",
       "      <td>SENADO FEDERAL ANEXO 2   ALA TEOTÔNIO VILELA G...</td>\n",
       "      <td>2019</td>\n",
       "      <td>2027</td>\n",
       "    </tr>\n",
       "  </tbody>\n",
       "</table>\n",
       "</div>"
      ],
      "text/plain": [
       "           NOME_PARLAMENTAR       PARTIDO  UF TITULARIDADE  \\\n",
       "1         ALESSANDRO VIEIRA           MDB  SE      Titular   \n",
       "3            ANGELO CORONEL           PSD  BA      Titular   \n",
       "7           CARLOS PORTINHO            PL  RJ  1º Suplente   \n",
       "8              CARLOS VIANA       PODEMOS  MG      Titular   \n",
       "9           CHICO RODRIGUES           PSB  RR      Titular   \n",
       "10                CID GOMES           PDT  CE      Titular   \n",
       "11            CIRO NOGUEIRA            PP  PI      Titular   \n",
       "13           CONFUCIO MOURA           MDB  RO      Titular   \n",
       "15         DANIELLA RIBEIRO           PSD  PB      Titular   \n",
       "18            EDUARDO BRAGA           MDB  AM      Titular   \n",
       "19            EDUARDO GIRÃO          NOVO  CE      Titular   \n",
       "20            EDUARDO GOMES            PL  TO      Titular   \n",
       "22            ELIZIANE GAMA           PSD  MA      Titular   \n",
       "23          ESPERIDIÃO AMIN            PP  SC      Titular   \n",
       "24        FABIANO CONTARATO            PT  ES      Titular   \n",
       "25          FERNANDO DUEIRE           MDB  PE  1º Suplente   \n",
       "27              FLÁVIO ARNS           PSB  PR      Titular   \n",
       "28         FLÁVIO BOLSONARO            PL  RJ      Titular   \n",
       "29                 GIORDANO           MDB  SP  1º Suplente   \n",
       "31           HUMBERTO COSTA            PT  PE      Titular   \n",
       "32                    IRAJÁ           PSD  TO      Titular   \n",
       "33        IVETE DA SILVEIRA           MDB  SC  1º Suplente   \n",
       "34             IZALCI LUCAS          PSDB  DF      Titular   \n",
       "35           JADER BARBALHO           MDB  PA      Titular   \n",
       "37            JAQUES WAGNER            PT  BA      Titular   \n",
       "38             JAYME CAMPOS         UNIÃO  MT      Titular   \n",
       "39             JORGE KAJURU           PSB  GO      Titular   \n",
       "43             LEILA BARROS           PDT  DF      Titular   \n",
       "44            LUCAS BARRETO           PSD  AP      Titular   \n",
       "45       LUIS CARLOS HEINZE            PP  RS      Titular   \n",
       "47            MARA GABRILLI           PSD  SP      Titular   \n",
       "48           MARCELO CASTRO           MDB  PI      Titular   \n",
       "49            MARCIO BITTAR         UNIÃO  AC      Titular   \n",
       "50            MARCOS DO VAL       PODEMOS  ES      Titular   \n",
       "51           MARCOS ROGÉRIO            PL  RO      Titular   \n",
       "52        MARGARETH BUZETTI           PSD  MT  1º Suplente   \n",
       "53          MECIAS DE JESUS  REPUBLICANOS  RR      Titular   \n",
       "54      NELSINHO TRAD FILHO           PSD  MS      Titular   \n",
       "56      ORIOVISTO GUIMARÃES       PODEMOS  PR      Titular   \n",
       "58               PAULO PAIM            PT  RS      Titular   \n",
       "59           PLÍNIO VALÉRIO          PSDB  AM      Titular   \n",
       "61       RANDOLFE RODRIGUES          REDE  AP      Titular   \n",
       "62          RENAN CALHEIROS           MDB  AL      Titular   \n",
       "63            RODRIGO CUNHA       PODEMOS  AL      Titular   \n",
       "64          RODRIGO PACHECO           PSD  MG      Titular   \n",
       "65         ROGÉRIO CARVALHO            PT  SE      Titular   \n",
       "69           SÉRGIO PETECÃO           PSD  AC      Titular   \n",
       "70         SORAYA THRONICKE       PODEMOS  MS      Titular   \n",
       "71       STYVENSON VALENTIM       PODEMOS  RN      Titular   \n",
       "74        VANDERLAN CARDOSO           PSD  GO      Titular   \n",
       "75  VENEZIANO VITAL DO RÊGO           MDB  PB      Titular   \n",
       "76                 WEVERTON           PDT  MA      Titular   \n",
       "78             ZENAIDE MAIA           PSD  RN      Titular   \n",
       "79         ZEQUINHA MARINHO       PODEMOS  PA      Titular   \n",
       "\n",
       "                                    TELEFONES      DTNASC  \\\n",
       "1                (61)3303-9011,(61)3303-9014,  03/04/1975   \n",
       "3                (61)3303-6103,(61)3303-6105,  03/05/1958   \n",
       "7                (61)3303-6640,(61)3303-6613,  02/07/1973   \n",
       "8                              (61)3303-3100,  22/03/1963   \n",
       "9                              (61)3303-2281,  23/04/1951   \n",
       "10               (61)3303-6460,(61)3303-6399,  27/04/1963   \n",
       "11               (61)3303-6187,(61)3303-6188,  21/11/1968   \n",
       "13               (61)3303-2470,(61)3303-2163,  16/05/1948   \n",
       "15               (61)3303-6788,(61)3303-6790,  26/03/1972   \n",
       "18                             (61)3303-6230,  06/12/1960   \n",
       "19               (61)3303-6677,(61)3303-6678,  25/09/1972   \n",
       "20  (61)3303-6349,(61)3303-6352,(61)3303-6354  28/04/1966   \n",
       "22                             (61)3303-6741,  27/02/1977   \n",
       "23               (61)3303-6446,(61)3303-6447,  21/12/1947   \n",
       "24               (61)3303-9054,(61)3303-6743,  20/06/1966   \n",
       "25                             (61)3303-3522,  14/04/1959   \n",
       "27                             (61)3303-6301,  09/11/1950   \n",
       "28               (61)3303-1717,(61)3303-1718,  30/04/1981   \n",
       "29                             (61)3303-4177,  26/06/1973   \n",
       "31               (61)3303-6285,(61)3303-6286,  07/07/1957   \n",
       "32                (61)3303-6469,(61)3303-6474  03/02/1983   \n",
       "33                             (61)3303-2200,  28/05/1943   \n",
       "34               (61)3303-6049,(61)3303-6050,  07/04/1956   \n",
       "35  (61)3303-9831,(61)3303-9827,(61)3303-9828  27/10/1944   \n",
       "37               (61)3303-6390,(61)3303-6391,  16/03/1951   \n",
       "38               (61)3303-2390,(61)3303-2384,  13/09/1951   \n",
       "39               (61)3303-2844,(61)3303-2031,  20/01/1961   \n",
       "43                             (61)3303-6427,  30/09/1971   \n",
       "44                             (61)3303-4851,  10/11/1964   \n",
       "45               (61)3303-4124,(61)3303-4127,  14/09/1950   \n",
       "47                (61)3303-2191,(61)3303-2775  28/09/1967   \n",
       "48               (61)3303-6130,(61)3303-4078,  09/06/1950   \n",
       "49               (61)3303-2115,(61)3303-2119,  28/06/1963   \n",
       "50               (61)3303-6747,(61)3303-6753,  15/06/1971   \n",
       "51                             (61)3303-6148,  07/07/1978   \n",
       "52                             (61)3303-6408,  31/10/1959   \n",
       "53               (61)3303-5291,(61)3303-5292,  08/02/1962   \n",
       "54               (61)3303-6767,(61)3303-6768,  05/09/1961   \n",
       "56                             (61)3303-1635,  12/08/1945   \n",
       "58               (61)3303-5232,(61)3303-5231,  15/03/1950   \n",
       "59               (61)3303-2898,(61)3303-2800,  31/01/1955   \n",
       "61               (61)3303-6777,(61)3303-6568,  06/11/1972   \n",
       "62                             (61)3303-2261,  16/09/1955   \n",
       "63                             (61)3303-6083,  11/05/1981   \n",
       "64               (61)3303-2794,(61)3303-2795,  03/11/1976   \n",
       "65               (61)3303-2201,(61)3303-2203,  02/08/1968   \n",
       "69               (61)3303-4086,(61)3303-6708,  20/04/1960   \n",
       "70                             (61)3303-1775,  01/06/1973   \n",
       "71                             (61)3303-1148,  07/02/1977   \n",
       "74               (61)3303-2092,(61)3303-2099,  15/11/1962   \n",
       "75               (61)3303-2252,(61)3303-2481,  17/07/1970   \n",
       "76               (61)3303-4161,(61)3303-1655,  08/10/1979   \n",
       "78               (61)3303-2371,(61)3303-2372,  27/11/1954   \n",
       "79                             (61)3303-6623,  18/09/1959   \n",
       "\n",
       "                                     EMAIL  \\\n",
       "1       sen.alessandrovieira@senado.leg.br   \n",
       "3          sen.angelocoronel@senado.leg.br   \n",
       "7         sen.carlosportinho@senado.leg.br   \n",
       "8            sen.carlosviana@senado.leg.br   \n",
       "9         sen.chicorodrigues@senado.leg.br   \n",
       "10              sen.cidgomes@senado.leg.br   \n",
       "11             ciro.nogueira@senado.leg.br   \n",
       "13         sen.confuciomoura@senado.leg.br   \n",
       "15       sen.daniellaribeiro@senado.leg.br   \n",
       "18          sen.eduardobraga@senado.leg.br   \n",
       "19          sen.eduardogirao@senado.leg.br   \n",
       "20          sen.eduardogomes@senado.leg.br   \n",
       "22          sen.elizianegama@senado.leg.br   \n",
       "23        sen.esperidiaoamin@senado.leg.br   \n",
       "24      sen.fabianocontarato@senado.leg.br   \n",
       "25        sen.fernandodueire@senado.leg.br   \n",
       "27            sen.flavioarns@senado.leg.br   \n",
       "28       sen.flaviobolsonaro@senado.leg.br   \n",
       "29              sen.giordano@senado.leg.br   \n",
       "31         sen.humbertocosta@senado.leg.br   \n",
       "32                 sen.iraja@senado.leg.br   \n",
       "33       sen.ivetedasilveira@senado.leg.br   \n",
       "34           sen.izalcilucas@senado.leg.br   \n",
       "35         sen.jaderbarbalho@senado.leg.br   \n",
       "37          sen.jaqueswagner@senado.leg.br   \n",
       "38           sen.jaymecampos@senado.leg.br   \n",
       "39           sen.jorgekajuru@senado.leg.br   \n",
       "43           sen.leilabarros@senado.leg.br   \n",
       "44          sen.lucasbarreto@senado.leg.br   \n",
       "45      sen.luiscarlosheinze@senado.leg.br   \n",
       "47          sen.maragabrilli@senado.leg.br   \n",
       "48         sen.marcelocastro@senado.leg.br   \n",
       "49          sen.marciobittar@senado.leg.br   \n",
       "50           sen.marcosdoval@senado.leg.br   \n",
       "51         sen.marcosrogerio@senado.leg.br   \n",
       "52      sen.margarethbuzetti@senado.leg.br   \n",
       "53         sen.meciasdejesus@senado.leg.br   \n",
       "54          sen.nelsinhotrad@senado.leg.br   \n",
       "56    sen.oriovistoguimaraes@senado.leg.br   \n",
       "58             sen.paulopaim@senado.leg.br   \n",
       "59         sen.pliniovalerio@senado.leg.br   \n",
       "61     sen.randolferodrigues@senado.leg.br   \n",
       "62        sen.renancalheiros@senado.leg.br   \n",
       "63          sen.rodrigocunha@senado.leg.br   \n",
       "64        sen.rodrigopacheco@senado.leg.br   \n",
       "65       sen.rogeriocarvalho@senado.leg.br   \n",
       "69         sen.sergiopetecao@senado.leg.br   \n",
       "70       sen.sorayathronicke@senado.leg.br   \n",
       "71     sen.styvensonvalentim@senado.leg.br   \n",
       "74      sen.vanderlancardoso@senado.leg.br   \n",
       "75  sen.venezianovitaldorego@senado.leg.br   \n",
       "76         sen.wevertonrocha@senado.leg.br   \n",
       "78           sen.zenaidemaia@senado.leg.br   \n",
       "79       sen.zequinhamarinho@senado.leg.br   \n",
       "\n",
       "                                   CHEFE_GAB  \\\n",
       "1                    Elaine Da Silva Gontijo   \n",
       "3                    Natanael Alves Ferreira   \n",
       "7                        Sérgio Teles Torres   \n",
       "8                Eduardo Lucas Silva Serrano   \n",
       "9                        Ajax Porto Pinheiro   \n",
       "10                  Glaucio Ribeiro De Pinho   \n",
       "11  Oswaldo Marcello Neto (chefe substituto)   \n",
       "13                 Rogerio Caroca Cavalcante   \n",
       "15             Maria Eduarda Souto De Aquino   \n",
       "18                     Valéria Simenov Thomé   \n",
       "19                   Francisco Maiorana Neto   \n",
       "20                Walter Germano De Oliveira   \n",
       "22                                         -   \n",
       "23                      Amaro Lucio Da Silva   \n",
       "24         Levi Borges De Oliveira Veríssimo   \n",
       "25        Aristeu De Oliveira Plácido Junior   \n",
       "27            Aires Pereira Das Neves Junior   \n",
       "28                Miguel Angelo Braga Grillo   \n",
       "29                   Francisco De Assis Dias   \n",
       "31               Alethele De Oliveira Santos   \n",
       "32            Vilmar Bomfim Ayres Da Fonseca   \n",
       "33             Henrique De Freitas Junqueira   \n",
       "34           Maria Margarida De Amorim Rocha   \n",
       "35                  Leticia De Matos Pereira   \n",
       "37                      Elida Da Costa Silva   \n",
       "38                                         -   \n",
       "39                    Murilo De Souza Arrais   \n",
       "43               Ricarda Raquel Barbosa Lima   \n",
       "44                        Cassio Ruy Caporal   \n",
       "45            Claudio Pereira Santa Catarina   \n",
       "47                  Melina Pappas Arruda Gil   \n",
       "48                    José Da Guia Guimarães   \n",
       "49                                         -   \n",
       "50      Silvia Ligia Suassuna De Vasconcelos   \n",
       "51                                         -   \n",
       "52                       Daniel Lopes Amaral   \n",
       "53                                         -   \n",
       "54                  Maria Genilse Dos Santos   \n",
       "56      Henrique Fernando De Andrade Pereira   \n",
       "58                        Ivanete Ferronatto   \n",
       "59  Glaucia Maria De Borba Benevides Gadelha   \n",
       "61                                         -   \n",
       "62                    Martha Lyra Nascimento   \n",
       "63               Yuri Afonso Farias De Sousa   \n",
       "64                    Regina Celia Simplicio   \n",
       "65           Frederico De Pina Álvares Filho   \n",
       "69                      Kauê Da Silva Tissot   \n",
       "70                  Vanda Josefina Branchine   \n",
       "71                          Davi Anjos Paiva   \n",
       "74                                         -   \n",
       "75        Daniel Queiroz De Medeiros Chianca   \n",
       "76             Cristina Lino Coêlho Stuckert   \n",
       "78             Maria Lucia Sigmaringa Seixas   \n",
       "79               Alexandre Bodani Cavalcante   \n",
       "\n",
       "   ENDERECO                                                                                                                                                                                                                                                                                                                                                                                                                                                                                                                                                                                                                                                                                                                                                                                                                                                                                                                                                \\\n",
       "1   SENADO FEDERAL ANEXO 2   ALA AFFONSO ARINOS GA...                                                                                                                                                                                                                                                                                                                                                                                                                                                                                                                                                                                                                                                                                                                                                                                                                                                                                                       \n",
       "3   SENADO FEDERAL ANEXO 1  7º PAVIMENTO          ...                                                                                                                                                                                                                                                                                                                                                                                                                                                                                                                                                                                                                                                                                                                                                                                                                                                                                                       \n",
       "7   SENADO FEDERAL ANEXO 2   ALA TEOTÔNIO VILELA G...                                                                                                                                                                                                                                                                                                                                                                                                                                                                                                                                                                                                                                                                                                                                                                                                                                                                                                       \n",
       "8   SENADO FEDERAL EDIFÍCIO PRINCIPAL   ALA DINART...                                                                                                                                                                                                                                                                                                                                                                                                                                                                                                                                                                                                                                                                                                                                                                                                                                                                                                       \n",
       "9   SENADO FEDERAL ANEXO 2   ALA TEOTÔNIO VILELA G...                                                                                                                                                                                                                                                                                                                                                                                                                                                                                                                                                                                                                                                                                                                                                                                                                                                                                                       \n",
       "10  SENADO FEDERAL ANEXO 1  10º PAVIMENTO         ...                                                                                                                                                                                                                                                                                                                                                                                                                                                                                                                                                                                                                                                                                                                                                                                                                                                                                                       \n",
       "11  SENADO FEDERAL ANEXO 1  3º PAVIMENTO          ...                                                                                                                                                                                                                                                                                                                                                                                                                                                                                                                                                                                                                                                                                                                                                                                                                                                                                                       \n",
       "13  SENADO FEDERAL ANEXO 2   ALA TANCREDO NEVES GA...                                                                                                                                                                                                                                                                                                                                                                                                                                                                                                                                                                                                                                                                                                                                                                                                                                                                                                       \n",
       "15  SENADO FEDERAL ANEXO 2   ALA TEOTÔNIO VILELA G...                                                                                                                                                                                                                                                                                                                                                                                                                                                                                                                                                                                                                                                                                                                                                                                                                                                                                                       \n",
       "18  SENADO FEDERAL ANEXO 1  12º PAVIMENTO         ...                                                                                                                                                                                                                                                                                                                                                                                                                                                                                                                                                                                                                                                                                                                                                                                                                                                                                                       \n",
       "19  SENADO FEDERAL ANEXO 2   ALA TEOTÔNIO VILELA G...                                                                                                                                                                                                                                                                                                                                                                                                                                                                                                                                                                                                                                                                                                                                                                                                                                                                                                       \n",
       "20  SENADO FEDERAL ANEXO 1  5º PAVIMENTO          ...                                                                                                                                                                                                                                                                                                                                                                                                                                                                                                                                                                                                                                                                                                                                                                                                                                                                                                       \n",
       "22  SENADO FEDERAL ANEXO 2   PAVIMENTO TÉRREO     ...                                                                                                                                                                                                                                                                                                                                                                                                                                                                                                                                                                                                                                                                                                                                                                                                                                                                                                       \n",
       "23  SENADO FEDERAL ANEXO 2  PAVIMENTO TÉRREO ALA N...                                                                                                                                                                                                                                                                                                                                                                                                                                                                                                                                                                                                                                                                                                                                                                                                                                                                                                       \n",
       "24  SENADO FEDERAL ANEXO 1  13º PAVIMENTO         ...                                                                                                                                                                                                                                                                                                                                                                                                                                                                                                                                                                                                                                                                                                                                                                                                                                                                                                       \n",
       "25  SENADO FEDERAL ANEXO 1  4º PAVIMENTO          ...                                                                                                                                                                                                                                                                                                                                                                                                                                                                                                                                                                                                                                                                                                                                                                                                                                                                                                       \n",
       "27  SENADO FEDERAL EDIFÍCIO PRINCIPAL   ALA DINART...                                                                                                                                                                                                                                                                                                                                                                                                                                                                                                                                                                                                                                                                                                                                                                                                                                                                                                       \n",
       "28  SENADO FEDERAL ANEXO 1  17º PAVIMENTO         ...                                                                                                                                                                                                                                                                                                                                                                                                                                                                                                                                                                                                                                                                                                                                                                                                                                                                                                       \n",
       "29  SENADO FEDERAL ANEXO 2   ALA TEOTÔNIO VILELA G...                                                                                                                                                                                                                                                                                                                                                                                                                                                                                                                                                                                                                                                                                                                                                                                                                                                                                                       \n",
       "31  SENADO FEDERAL ANEXO 2   ALA RUY CARNEIRO GABI...                                                                                                                                                                                                                                                                                                                                                                                                                                                                                                                                                                                                                                                                                                                                                                                                                                                                                                       \n",
       "32  SENADO FEDERAL ANEXO 1  21º PAVIMENTO         ...                                                                                                                                                                                                                                                                                                                                                                                                                                                                                                                                                                                                                                                                                                                                                                                                                                                                                                       \n",
       "33  SENADO FEDERAL ANEXO 2   ALA TANCREDO NEVES GA...                                                                                                                                                                                                                                                                                                                                                                                                                                                                                                                                                                                                                                                                                                                                                                                                                                                                                                       \n",
       "34  SENADO FEDERAL ANEXO 1  11º PAVIMENTO         ...                                                                                                                                                                                                                                                                                                                                                                                                                                                                                                                                                                                                                                                                                                                                                                                                                                                                                                       \n",
       "35  SENADO FEDERAL ANEXO 1  2º PAVIMENTO          ...                                                                                                                                                                                                                                                                                                                                                                                                                                                                                                                                                                                                                                                                                                                                                                                                                                                                                                       \n",
       "37  SENADO FEDERAL ANEXO 1  23º PAVIMENTO         ...                                                                                                                                                                                                                                                                                                                                                                                                                                                                                                                                                                                                                                                                                                                                                                                                                                                                                                       \n",
       "38  SENADO FEDERAL ANEXO II BLOCO A TÉRREO ALA AFF...                                                                                                                                                                                                                                                                                                                                                                                                                                                                                                                                                                                                                                                                                                                                                                                                                                                                                                       \n",
       "39  SENADO FEDERAL ANEXO 2   ALA NILO COELHO 1º PA...                                                                                                                                                                                                                                                                                                                                                                                                                                                                                                                                                                                                                                                                                                                                                                                                                                                                                                       \n",
       "43  SENADO FEDERAL ANEXO 2   ALA TEOTÔNIO VILELA G...                                                                                                                                                                                                                                                                                                                                                                                                                                                                                                                                                                                                                                                                                                                                                                                                                                                                                                       \n",
       "44  SENADO FEDERAL ANEXO 2   ALA AFFONSO ARINOS GA...                                                                                                                                                                                                                                                                                                                                                                                                                                                                                                                                                                                                                                                                                                                                                                                                                                                                                                       \n",
       "45  SENADO FEDERAL ANEXO 2   ALA AFFONSO ARINOS GA...                                                                                                                                                                                                                                                                                                                                                                                                                                                                                                                                                                                                                                                                                                                                                                                                                                                                                                       \n",
       "47  SENADO FEDERAL EDIFÍCIO PRINCIPAL   ALA ANTÔNI...                                                                                                                                                                                                                                                                                                                                                                                                                                                                                                                                                                                                                                                                                                                                                                                                                                                                                                       \n",
       "48  SENADO FEDERAL ANEXO 1  14º PAVIMENTO         ...                                                                                                                                                                                                                                                                                                                                                                                                                                                                                                                                                                                                                                                                                                                                                                                                                                                                                                       \n",
       "49  SENADO FEDERAL ANEXO 2   ALA AFFONSO ARINOS GA...                                                                                                                                                                                                                                                                                                                                                                                                                                                                                                                                                                                                                                                                                                                                                                                                                                                                                                       \n",
       "50  SENADO FEDERAL ANEXO 1  18º PAVIMENTO         ...                                                                                                                                                                                                                                                                                                                                                                                                                                                                                                                                                                                                                                                                                                                                                                                                                                                                                                       \n",
       "51  SENADO FEDERAL ANEXO 2   ALA TEOTÔNIO VILELA G...                                                                                                                                                                                                                                                                                                                                                                                                                                                                                                                                                                                                                                                                                                                                                                                                                                                                                                       \n",
       "52  SENADO FEDERAL ANEXO 2   ALA TEOTÔNIO VILELA G...                                                                                                                                                                                                                                                                                                                                                                                                                                                                                                                                                                                                                                                                                                                                                                                                                                                                                                       \n",
       "53  SENADO FEDERAL ANEXO 2   ALA RUY CARNEIRO GABI...                                                                                                                                                                                                                                                                                                                                                                                                                                                                                                                                                                                                                                                                                                                                                                                                                                                                                                       \n",
       "54  SENADO FEDERAL ANEXO 1  24º PAVIMENTO         ...                                                                                                                                                                                                                                                                                                                                                                                                                                                                                                                                                                                                                                                                                                                                                                                                                                                                                                       \n",
       "56  SENADO FEDERAL ANEXO 2   ALA TEOTÔNIO VILELA G...                                                                                                                                                                                                                                                                                                                                                                                                                                                                                                                                                                                                                                                                                                                                                                                                                                                                                                       \n",
       "58  SENADO FEDERAL ANEXO 1  22º PAVIMENTO         ...                                                                                                                                                                                                                                                                                                                                                                                                                                                                                                                                                                                                                                                                                                                                                                                                                                                                                                       \n",
       "59  SENADO FEDERAL ANEXO 1  25º PAVIMENTO         ...                                                                                                                                                                                                                                                                                                                                                                                                                                                                                                                                                                                                                                                                                                                                                                                                                                                                                                       \n",
       "61  SENADO FEDERAL ANEXO 1  9º PAVIMENTO          ...                                                                                                                                                                                                                                                                                                                                                                                                                                                                                                                                                                                                                                                                                                                                                                                                                                                                                                       \n",
       "62  SENADO FEDERAL ANEXO 1  15º PAVIMENTO         ...                                                                                                                                                                                                                                                                                                                                                                                                                                                                                                                                                                                                                                                                                                                                                                                                                                                                                                       \n",
       "63  SENADO FEDERAL ANEXO 2   ALA AFFONSO ARINOS GA...                                                                                                                                                                                                                                                                                                                                                                                                                                                                                                                                                                                                                                                                                                                                                                                                                                                                                                       \n",
       "64  SENADO FEDERAL ANEXO 2   ALA TEOTÔNIO VILELA G...                                                                                                                                                                                                                                                                                                                                                                                                                                                                                                                                                                                                                                                                                                                                                                                                                                                                                                       \n",
       "65  SENADO FEDERAL ANEXO 2   ALA TEOTÔNIO VILELA G...                                                                                                                                                                                                                                                                                                                                                                                                                                                                                                                                                                                                                                                                                                                                                                                                                                                                                                       \n",
       "69  SENADO FEDERAL ANEXO 2   ALA TANCREDO NEVES GA...                                                                                                                                                                                                                                                                                                                                                                                                                                                                                                                                                                                                                                                                                                                                                                                                                                                                                                       \n",
       "70  SENADO FEDERAL EDIFÍCIO PRINCIPAL   ALA DINART...                                                                                                                                                                                                                                                                                                                                                                                                                                                                                                                                                                                                                                                                                                                                                                                                                                                                                                       \n",
       "71  SENADO FEDERAL ANEXO 2  TÉRREO ALA ALEXANDRE C...                                                                                                                                                                                                                                                                                                                                                                                                                                                                                                                                                                                                                                                                                                                                                                                                                                                                                                       \n",
       "74  SENADO FEDERAL ANEXO 2   ALA AFFONSO ARINOS GA...                                                                                                                                                                                                                                                                                                                                                                                                                                                                                                                                                                                                                                                                                                                                                                                                                                                                                                       \n",
       "75  SENADO FEDERAL ANEXO 1  20º PAVIMENTO         ...                                                                                                                                                                                                                                                                                                                                                                                                                                                                                                                                                                                                                                                                                                                                                                                                                                                                                                       \n",
       "76  SENADO FEDERAL ANEXO 2   ALA TANCREDO NEVES GA...                                                                                                                                                                                                                                                                                                                                                                                                                                                                                                                                                                                                                                                                                                                                                                                                                                                                                                       \n",
       "78  SENADO FEDERAL ANEXO 1  8º PAVIMENTO          ...                                                                                                                                                                                                                                                                                                                                                                                                                                                                                                                                                                                                                                                                                                                                                                                                                                                                                                       \n",
       "79  SENADO FEDERAL ANEXO 2   ALA TEOTÔNIO VILELA G...                                                                                                                                                                                                                                                                                                                                                                                                                                                                                                                                                                                                                                                                                                                                                                                                                                                                                                       \n",
       "\n",
       "    INICIO   FIM  \n",
       "1     2019  2027  \n",
       "3     2019  2027  \n",
       "7     2019  2027  \n",
       "8     2019  2027  \n",
       "9     2019  2027  \n",
       "10    2019  2027  \n",
       "11    2019  2027  \n",
       "13    2019  2027  \n",
       "15    2019  2027  \n",
       "18    2019  2027  \n",
       "19    2019  2027  \n",
       "20    2019  2027  \n",
       "22    2019  2027  \n",
       "23    2019  2027  \n",
       "24    2019  2027  \n",
       "25    2019  2027  \n",
       "27    2019  2027  \n",
       "28    2019  2027  \n",
       "29    2019  2027  \n",
       "31    2019  2027  \n",
       "32    2019  2027  \n",
       "33    2019  2027  \n",
       "34    2019  2027  \n",
       "35    2019  2027  \n",
       "37    2019  2027  \n",
       "38    2019  2027  \n",
       "39    2019  2027  \n",
       "43    2019  2027  \n",
       "44    2019  2027  \n",
       "45    2019  2027  \n",
       "47    2019  2027  \n",
       "48    2019  2027  \n",
       "49    2019  2027  \n",
       "50    2019  2027  \n",
       "51    2019  2027  \n",
       "52    2019  2027  \n",
       "53    2019  2027  \n",
       "54    2019  2027  \n",
       "56    2019  2027  \n",
       "58    2019  2027  \n",
       "59    2019  2027  \n",
       "61    2019  2027  \n",
       "62    2019  2027  \n",
       "63    2019  2027  \n",
       "64    2019  2027  \n",
       "65    2019  2027  \n",
       "69    2019  2027  \n",
       "70    2019  2027  \n",
       "71    2019  2027  \n",
       "74    2019  2027  \n",
       "75    2019  2027  \n",
       "76    2019  2027  \n",
       "78    2019  2027  \n",
       "79    2019  2027  "
      ]
     },
     "execution_count": 92,
     "metadata": {},
     "output_type": "execute_result"
    }
   ],
   "source": [
    "df_exercicio_56.loc[df_exercicio_56.INICIO == 2019]"
   ]
  },
  {
   "cell_type": "code",
   "execution_count": 64,
   "id": "6e6bac63",
   "metadata": {},
   "outputs": [
    {
     "data": {
      "text/plain": [
       "array(['ACIR GURGACZ', 'AÉCIO NEVES', 'ALESSANDRO VIEIRA',\n",
       "       'ALOYSIO NUNES FERREIRA', 'ALVARO DIAS', 'ANA AMÉLIA',\n",
       "       'ÂNGELA PORTELA', 'ANGELO CORONEL', 'ANTONIO ANASTASIA',\n",
       "       'ANTÔNIO CARLOS VALADARES', 'ARMANDO MONTEIRO',\n",
       "       'AROLDE DE OLIVEIRA', 'ATAÍDES OLIVEIRA', 'BENEDITO DE LIRA',\n",
       "       'BLAIRO MAGGI', 'CARLOS VIANA', 'CÁSSIO CUNHA LIMA',\n",
       "       'CHICO RODRIGUES', 'CID GOMES', 'CIRO NOGUEIRA', 'CONFÚCIO MOURA',\n",
       "       'DALIRIO BEBER', 'DANIELLA RIBEIRO', 'DÁRIO BERGER',\n",
       "       'DAVI ALCOLUMBRE', 'EDISON LOBÃO', 'EDUARDO AMORIM',\n",
       "       'EDUARDO BRAGA', 'EDUARDO GIRÃO', 'EDUARDO GOMES', 'ELIZIANE GAMA',\n",
       "       'ELMANO FÉRRER', 'ESPERIDIÃO AMIN', 'FABIANO CONTARATO',\n",
       "       'FERNANDO BEZERRA COELHO', 'FERNANDO COLLOR', 'FLÁVIO ARNS',\n",
       "       'FLÁVIO BOLSONARO', 'FLEXA RIBEIRO', 'GARIBALDI ALVES FILHO',\n",
       "       'GLEISI HOFFMANN', 'GUARACY SILVEIRA', 'HÉLIO JOSÉ',\n",
       "       'HUMBERTO COSTA', 'IRAJÁ', 'IVO CASSOL', 'IZALCI LUCAS',\n",
       "       'JADER BARBALHO', 'JAQUES WAGNER', 'JARBAS VASCONCELOS',\n",
       "       'JAYME CAMPOS', 'JEAN PAUL PRATES', 'JOÃO ALBERTO SOUZA',\n",
       "       'JOÃO CAPIBERIBE', 'JORGE VIANA', 'JORGINHO MELLO',\n",
       "       'JOSÉ AGRIPINO', 'JOSÉ MARANHÃO', 'JOSÉ MEDEIROS', 'JOSÉ PIMENTEL',\n",
       "       'JOSÉ SERRA', 'JUÍZA SELMA', 'KÁTIA ABREU', 'LASIER MARTINS',\n",
       "       'LÍDICE DA MATA', 'LINDBERGH FARIAS', 'LUCAS BARRETO',\n",
       "       'LÚCIA VÂNIA', 'LUIS CARLOS HEINZE', 'LUIZ CARLOS DO CARMO',\n",
       "       'LUIZ PASTORE', 'MAGNO MALTA', 'MAILZA GOMES', 'MAJOR OLIMPIO',\n",
       "       'MARA GABRILLI', 'MARCELO CASTRO', 'MARCIO BITTAR',\n",
       "       'MARCOS DO VAL', 'MARCOS ROGÉRIO', 'MARIA DO CARMO ALVES',\n",
       "       'MARTA SUPLICY', 'MECIAS DE JESUS', 'NELSINHO TRAD', 'OMAR AZIZ',\n",
       "       'ORIOVISTO GUIMARÃES', 'OTTO ALENCAR', 'PAULO ALBUQUERQUE',\n",
       "       'PAULO BAUER', 'PAULO PAIM', 'PAULO ROCHA',\n",
       "       'PEDRO CHAVES DOS SANTOS FILHO', 'PLÍNIO VALÉRIO',\n",
       "       'PRISCO BEZERRA', 'RAIMUNDO LIRA', 'RANDOLFE RODRIGUES',\n",
       "       'RENAN CALHEIROS', 'RENILDE BULHÕES', 'RICARDO FERRAÇO',\n",
       "       'ROBERTO REQUIÃO', 'ROBERTO ROCHA', 'RODRIGO CUNHA',\n",
       "       'RODRIGO PACHECO', 'ROGÉRIO CARVALHO', 'ROMÁRIO', 'ROMERO JUCÁ',\n",
       "       'ROSE DE FREITAS', 'SÉRGIO PETECÃO', 'SIMONE TEBET',\n",
       "       'SIQUEIRA CAMPOS', 'SORAYA THRONICKE', 'STYVENSON VALENTIM',\n",
       "       'TASSO JEREISSATI', 'TELMÁRIO MOTA', 'VALDIR RAUPP',\n",
       "       'VANDERLAN CARDOSO', 'VANESSA GRAZZIOTIN',\n",
       "       'VENEZIANO VITAL DO RÊGO', 'VICENTINHO ALVES', 'WALDEMIR MOKA',\n",
       "       'WALTER PINHEIRO', 'WELLINGTON FAGUNDES', 'WEVERTON ROCHA',\n",
       "       'WILDER MORAIS', 'ZÉ SANTANA', 'ZENAIDE MAIA', 'ZEQUINHA MARINHO',\n",
       "       'ZEZÉ PERRELLA'], dtype=object)"
      ]
     },
     "execution_count": 64,
     "metadata": {},
     "output_type": "execute_result"
    }
   ],
   "source": [
    "df_2019.SENADOR.unique()"
   ]
  },
  {
   "cell_type": "code",
   "execution_count": 79,
   "id": "8173bf73",
   "metadata": {},
   "outputs": [
    {
     "name": "stdout",
     "output_type": "stream",
     "text": [
      "47\n"
     ]
    }
   ],
   "source": [
    "temp3 = [x for x in df_2019.SENADOR.unique() if x not in df_2020.SENADOR.unique()]\n",
    "print(len(temp3))\n"
   ]
  },
  {
   "cell_type": "code",
   "execution_count": 76,
   "id": "8dda95fb",
   "metadata": {},
   "outputs": [
    {
     "data": {
      "text/plain": [
       "['AÉCIO NEVES',\n",
       " 'ALOYSIO NUNES FERREIRA',\n",
       " 'ANA AMÉLIA',\n",
       " 'ÂNGELA PORTELA',\n",
       " 'ANTÔNIO CARLOS VALADARES',\n",
       " 'ARMANDO MONTEIRO',\n",
       " 'ATAÍDES OLIVEIRA',\n",
       " 'BENEDITO DE LIRA',\n",
       " 'BLAIRO MAGGI',\n",
       " 'CÁSSIO CUNHA LIMA',\n",
       " 'DALIRIO BEBER',\n",
       " 'EDISON LOBÃO',\n",
       " 'EDUARDO AMORIM',\n",
       " 'EDUARDO GIRÃO',\n",
       " 'FLEXA RIBEIRO',\n",
       " 'GARIBALDI ALVES FILHO',\n",
       " 'GLEISI HOFFMANN',\n",
       " 'GUARACY SILVEIRA',\n",
       " 'HÉLIO JOSÉ',\n",
       " 'IVO CASSOL',\n",
       " 'JOÃO ALBERTO SOUZA',\n",
       " 'JOÃO CAPIBERIBE',\n",
       " 'JORGE VIANA',\n",
       " 'JOSÉ AGRIPINO',\n",
       " 'JOSÉ MEDEIROS',\n",
       " 'JOSÉ PIMENTEL',\n",
       " 'LÍDICE DA MATA',\n",
       " 'LINDBERGH FARIAS',\n",
       " 'LÚCIA VÂNIA',\n",
       " 'MAGNO MALTA',\n",
       " 'MARTA SUPLICY',\n",
       " 'PAULO BAUER',\n",
       " 'PEDRO CHAVES DOS SANTOS FILHO',\n",
       " 'RAIMUNDO LIRA',\n",
       " 'RENILDE BULHÕES',\n",
       " 'RICARDO FERRAÇO',\n",
       " 'ROBERTO REQUIÃO',\n",
       " 'ROMERO JUCÁ',\n",
       " 'SIQUEIRA CAMPOS',\n",
       " 'VALDIR RAUPP',\n",
       " 'VANESSA GRAZZIOTIN',\n",
       " 'VICENTINHO ALVES',\n",
       " 'WALDEMIR MOKA',\n",
       " 'WALTER PINHEIRO',\n",
       " 'WILDER MORAIS',\n",
       " 'ZÉ SANTANA',\n",
       " 'ZEZÉ PERRELLA']"
      ]
     },
     "execution_count": 76,
     "metadata": {},
     "output_type": "execute_result"
    }
   ],
   "source": [
    "['AÉCIO NEVES', 'ALOYSIO NUNES FERREIRA', 'ANA AMÉLIA', 'ÂNGELA PORTELA', 'ANTÔNIO CARLOS VALADARES', 'ARMANDO MONTEIRO', 'ATAÍDES OLIVEIRA', 'BENEDITO DE LIRA', 'BLAIRO MAGGI', 'CÁSSIO CUNHA LIMA', 'DALIRIO BEBER', 'EDISON LOBÃO', 'EDUARDO AMORIM', 'EDUARDO GIRÃO', 'FLEXA RIBEIRO', 'GARIBALDI ALVES FILHO', 'GLEISI HOFFMANN', 'GUARACY SILVEIRA', 'HÉLIO JOSÉ', 'IVO CASSOL', 'JOÃO ALBERTO SOUZA', 'JOÃO CAPIBERIBE', 'JORGE VIANA', 'JOSÉ AGRIPINO', 'JOSÉ MEDEIROS', 'JOSÉ PIMENTEL', 'LÍDICE DA MATA', 'LINDBERGH FARIAS', 'LÚCIA VÂNIA', 'MAGNO MALTA', 'MARTA SUPLICY', 'PAULO BAUER', 'PEDRO CHAVES DOS SANTOS FILHO', 'RAIMUNDO LIRA', 'RENILDE BULHÕES', 'RICARDO FERRAÇO', 'ROBERTO REQUIÃO', 'ROMERO JUCÁ', 'SIQUEIRA CAMPOS', 'VALDIR RAUPP', 'VANESSA GRAZZIOTIN', 'VICENTINHO ALVES', 'WALDEMIR MOKA', 'WALTER PINHEIRO', 'WILDER MORAIS', 'ZÉ SANTANA', 'ZEZÉ PERRELLA']"
   ]
  },
  {
   "cell_type": "code",
   "execution_count": 80,
   "id": "88c9c5ae",
   "metadata": {},
   "outputs": [
    {
     "ename": "AttributeError",
     "evalue": "'DataFrame' object has no attribute 'MANDATO'",
     "output_type": "error",
     "traceback": [
      "\u001b[1;31m---------------------------------------------------------------------------\u001b[0m",
      "\u001b[1;31mAttributeError\u001b[0m                            Traceback (most recent call last)",
      "Cell \u001b[1;32mIn[80], line 1\u001b[0m\n\u001b[1;32m----> 1\u001b[0m df_2019[\u001b[38;5;124m'\u001b[39m\u001b[38;5;124mINICIO\u001b[39m\u001b[38;5;124m'\u001b[39m] \u001b[38;5;241m=\u001b[39m \u001b[43mdf_2019\u001b[49m\u001b[38;5;241;43m.\u001b[39;49m\u001b[43mMANDATO\u001b[49m\u001b[38;5;241m.\u001b[39mapply(\u001b[38;5;28;01mlambda\u001b[39;00m x: x\u001b[38;5;241m.\u001b[39msplit(\u001b[38;5;124m'\u001b[39m\u001b[38;5;124m/\u001b[39m\u001b[38;5;124m'\u001b[39m)[\u001b[38;5;241m0\u001b[39m])\u001b[38;5;241m.\u001b[39mastype(\u001b[38;5;28mint\u001b[39m)\n\u001b[0;32m      2\u001b[0m df_2019[\u001b[38;5;124m'\u001b[39m\u001b[38;5;124mFIM\u001b[39m\u001b[38;5;124m'\u001b[39m] \u001b[38;5;241m=\u001b[39m df_2019\u001b[38;5;241m.\u001b[39mMANDATO\u001b[38;5;241m.\u001b[39mapply(\u001b[38;5;28;01mlambda\u001b[39;00m x: x\u001b[38;5;241m.\u001b[39msplit(\u001b[38;5;124m'\u001b[39m\u001b[38;5;124m/\u001b[39m\u001b[38;5;124m'\u001b[39m)[\u001b[38;5;241m1\u001b[39m])\u001b[38;5;241m.\u001b[39mastype(\u001b[38;5;28mint\u001b[39m)\n\u001b[0;32m      4\u001b[0m df_2019\u001b[38;5;241m.\u001b[39mdrop(\u001b[38;5;124m'\u001b[39m\u001b[38;5;124mMANDATO\u001b[39m\u001b[38;5;124m'\u001b[39m, axis\u001b[38;5;241m=\u001b[39m\u001b[38;5;241m1\u001b[39m, inplace\u001b[38;5;241m=\u001b[39m\u001b[38;5;28;01mTrue\u001b[39;00m)\n",
      "File \u001b[1;32m~\\AppData\\Local\\Programs\\Python\\Python310\\lib\\site-packages\\pandas\\core\\generic.py:5575\u001b[0m, in \u001b[0;36mNDFrame.__getattr__\u001b[1;34m(self, name)\u001b[0m\n\u001b[0;32m   5568\u001b[0m \u001b[38;5;28;01mif\u001b[39;00m (\n\u001b[0;32m   5569\u001b[0m     name \u001b[38;5;129;01mnot\u001b[39;00m \u001b[38;5;129;01min\u001b[39;00m \u001b[38;5;28mself\u001b[39m\u001b[38;5;241m.\u001b[39m_internal_names_set\n\u001b[0;32m   5570\u001b[0m     \u001b[38;5;129;01mand\u001b[39;00m name \u001b[38;5;129;01mnot\u001b[39;00m \u001b[38;5;129;01min\u001b[39;00m \u001b[38;5;28mself\u001b[39m\u001b[38;5;241m.\u001b[39m_metadata\n\u001b[0;32m   5571\u001b[0m     \u001b[38;5;129;01mand\u001b[39;00m name \u001b[38;5;129;01mnot\u001b[39;00m \u001b[38;5;129;01min\u001b[39;00m \u001b[38;5;28mself\u001b[39m\u001b[38;5;241m.\u001b[39m_accessors\n\u001b[0;32m   5572\u001b[0m     \u001b[38;5;129;01mand\u001b[39;00m \u001b[38;5;28mself\u001b[39m\u001b[38;5;241m.\u001b[39m_info_axis\u001b[38;5;241m.\u001b[39m_can_hold_identifiers_and_holds_name(name)\n\u001b[0;32m   5573\u001b[0m ):\n\u001b[0;32m   5574\u001b[0m     \u001b[38;5;28;01mreturn\u001b[39;00m \u001b[38;5;28mself\u001b[39m[name]\n\u001b[1;32m-> 5575\u001b[0m \u001b[38;5;28;01mreturn\u001b[39;00m \u001b[38;5;28;43mobject\u001b[39;49m\u001b[38;5;241;43m.\u001b[39;49m\u001b[38;5;21;43m__getattribute__\u001b[39;49m\u001b[43m(\u001b[49m\u001b[38;5;28;43mself\u001b[39;49m\u001b[43m,\u001b[49m\u001b[43m \u001b[49m\u001b[43mname\u001b[49m\u001b[43m)\u001b[49m\n",
      "\u001b[1;31mAttributeError\u001b[0m: 'DataFrame' object has no attribute 'MANDATO'"
     ]
    }
   ],
   "source": [
    "df_2019['INICIO'] = df_2019.MANDATO.apply(lambda x: x.split('/')[0]).astype(int)\n",
    "df_2019['FIM'] = df_2019.MANDATO.apply(lambda x: x.split('/')[1]).astype(int)\n",
    "\n",
    "df_2019.drop('MANDATO', axis=1, inplace=True)\n",
    "\n",
    "df_2019.loc[df_2019.FIM >= 2019]"
   ]
  },
  {
   "cell_type": "code",
   "execution_count": 83,
   "id": "73197cc7",
   "metadata": {},
   "outputs": [
    {
     "data": {
      "text/plain": [
       "array(['ACIR GURGACZ', 'AÉCIO NEVES', 'ALESSANDRO VIEIRA',\n",
       "       'ALOYSIO NUNES FERREIRA', 'ALVARO DIAS', 'ANA AMÉLIA',\n",
       "       'ÂNGELA PORTELA', 'ANGELO CORONEL', 'ANTONIO ANASTASIA',\n",
       "       'ANTÔNIO CARLOS VALADARES', 'ARMANDO MONTEIRO',\n",
       "       'AROLDE DE OLIVEIRA', 'ATAÍDES OLIVEIRA', 'BENEDITO DE LIRA',\n",
       "       'BLAIRO MAGGI', 'CARLOS VIANA', 'CÁSSIO CUNHA LIMA',\n",
       "       'CHICO RODRIGUES', 'CID GOMES', 'CIRO NOGUEIRA', 'CONFÚCIO MOURA',\n",
       "       'DALIRIO BEBER', 'DANIELLA RIBEIRO', 'DÁRIO BERGER',\n",
       "       'DAVI ALCOLUMBRE', 'EDISON LOBÃO', 'EDUARDO AMORIM',\n",
       "       'EDUARDO BRAGA', 'EDUARDO GIRÃO', 'EDUARDO GOMES', 'ELIZIANE GAMA',\n",
       "       'ELMANO FÉRRER', 'ESPERIDIÃO AMIN', 'FABIANO CONTARATO',\n",
       "       'FERNANDO BEZERRA COELHO', 'FERNANDO COLLOR', 'FLÁVIO ARNS',\n",
       "       'FLÁVIO BOLSONARO', 'FLEXA RIBEIRO', 'GARIBALDI ALVES FILHO',\n",
       "       'GLEISI HOFFMANN', 'GUARACY SILVEIRA', 'HÉLIO JOSÉ',\n",
       "       'HUMBERTO COSTA', 'IRAJÁ', 'IVO CASSOL', 'IZALCI LUCAS',\n",
       "       'JADER BARBALHO', 'JAQUES WAGNER', 'JARBAS VASCONCELOS',\n",
       "       'JAYME CAMPOS', 'JEAN PAUL PRATES', 'JOÃO ALBERTO SOUZA',\n",
       "       'JOÃO CAPIBERIBE', 'JORGE VIANA', 'JORGINHO MELLO',\n",
       "       'JOSÉ AGRIPINO', 'JOSÉ MARANHÃO', 'JOSÉ MEDEIROS', 'JOSÉ PIMENTEL',\n",
       "       'JOSÉ SERRA', 'JUÍZA SELMA', 'KÁTIA ABREU', 'LASIER MARTINS',\n",
       "       'LÍDICE DA MATA', 'LINDBERGH FARIAS', 'LUCAS BARRETO',\n",
       "       'LÚCIA VÂNIA', 'LUIS CARLOS HEINZE', 'LUIZ CARLOS DO CARMO',\n",
       "       'LUIZ PASTORE', 'MAGNO MALTA', 'MAILZA GOMES', 'MAJOR OLIMPIO',\n",
       "       'MARA GABRILLI', 'MARCELO CASTRO', 'MARCIO BITTAR',\n",
       "       'MARCOS DO VAL', 'MARCOS ROGÉRIO', 'MARIA DO CARMO ALVES',\n",
       "       'MARTA SUPLICY', 'MECIAS DE JESUS', 'NELSINHO TRAD', 'OMAR AZIZ',\n",
       "       'ORIOVISTO GUIMARÃES', 'OTTO ALENCAR', 'PAULO ALBUQUERQUE',\n",
       "       'PAULO BAUER', 'PAULO PAIM', 'PAULO ROCHA',\n",
       "       'PEDRO CHAVES DOS SANTOS FILHO', 'PLÍNIO VALÉRIO',\n",
       "       'PRISCO BEZERRA', 'RAIMUNDO LIRA', 'RANDOLFE RODRIGUES',\n",
       "       'RENAN CALHEIROS', 'RENILDE BULHÕES', 'RICARDO FERRAÇO',\n",
       "       'ROBERTO REQUIÃO', 'ROBERTO ROCHA', 'RODRIGO CUNHA',\n",
       "       'RODRIGO PACHECO', 'ROGÉRIO CARVALHO', 'ROMÁRIO', 'ROMERO JUCÁ',\n",
       "       'ROSE DE FREITAS', 'SÉRGIO PETECÃO', 'SIMONE TEBET',\n",
       "       'SIQUEIRA CAMPOS', 'SORAYA THRONICKE', 'STYVENSON VALENTIM',\n",
       "       'TASSO JEREISSATI', 'TELMÁRIO MOTA', 'VALDIR RAUPP',\n",
       "       'VANDERLAN CARDOSO', 'VANESSA GRAZZIOTIN',\n",
       "       'VENEZIANO VITAL DO RÊGO', 'VICENTINHO ALVES', 'WALDEMIR MOKA',\n",
       "       'WALTER PINHEIRO', 'WELLINGTON FAGUNDES', 'WEVERTON ROCHA',\n",
       "       'WILDER MORAIS', 'ZÉ SANTANA', 'ZENAIDE MAIA', 'ZEQUINHA MARINHO',\n",
       "       'ZEZÉ PERRELLA'], dtype=object)"
      ]
     },
     "execution_count": 83,
     "metadata": {},
     "output_type": "execute_result"
    }
   ],
   "source": [
    "df_2019.SENADOR.unique()"
   ]
  },
  {
   "cell_type": "code",
   "execution_count": 99,
   "id": "e8302f5b",
   "metadata": {},
   "outputs": [
    {
     "name": "stdout",
     "output_type": "stream",
     "text": [
      "<class 'pandas.core.frame.DataFrame'>\n",
      "Int64Index: 69333 entries, 0 to 16781\n",
      "Data columns (total 11 columns):\n",
      " #   Column             Non-Null Count  Dtype  \n",
      "---  ------             --------------  -----  \n",
      " 0   ANO                69333 non-null  int64  \n",
      " 1   MES                69333 non-null  int64  \n",
      " 2   SENADOR            69333 non-null  object \n",
      " 3   TIPO_DESPESA       69333 non-null  object \n",
      " 4   CNPJ_CPF           69333 non-null  object \n",
      " 5   FORNECEDOR         69333 non-null  object \n",
      " 6   DOCUMENTO          66370 non-null  object \n",
      " 7   DATA               69333 non-null  object \n",
      " 8   DETALHAMENTO       38583 non-null  object \n",
      " 9   VALOR_REEMBOLSADO  69333 non-null  float64\n",
      " 10  COD_DOCUMENTO      69333 non-null  int64  \n",
      "dtypes: float64(1), int64(3), object(7)\n",
      "memory usage: 6.3+ MB\n"
     ]
    }
   ],
   "source": [
    "df_combine.info()"
   ]
  },
  {
   "cell_type": "code",
   "execution_count": 104,
   "id": "01f48bf1",
   "metadata": {},
   "outputs": [
    {
     "data": {
      "text/plain": [
       "Locomoção, hospedagem, alimentação, combustíveis e lubrificantes                                                                                                                                   25518\n",
       "Aluguel de imóveis para escritório político, compreendendo despesas concernentes a eles.                                                                                                           15206\n",
       "Passagens aéreas, aquáticas e terrestres nacionais                                                                                                                                                 14897\n",
       "Aquisição de material de consumo para uso no escritório político, inclusive aquisição ou locação de software, despesas postais, aquisição de publicações, locação de móveis e de equipamentos.      5007\n",
       "Divulgação da atividade parlamentar                                                                                                                                                                 4487\n",
       "Contratação de consultorias, assessorias, pesquisas, trabalhos técnicos e outros serviços de apoio ao exercício do mandato parlamentar                                                              4105\n",
       "Serviços de Segurança Privada                                                                                                                                                                        113\n",
       "Name: TIPO_DESPESA, dtype: int64"
      ]
     },
     "execution_count": 104,
     "metadata": {},
     "output_type": "execute_result"
    }
   ],
   "source": [
    "df_combine.TIPO_DESPESA.value_counts()"
   ]
  },
  {
   "cell_type": "code",
   "execution_count": 182,
   "id": "86e6d419",
   "metadata": {},
   "outputs": [
    {
     "data": {
      "text/html": [
       "<div>\n",
       "<style scoped>\n",
       "    .dataframe tbody tr th:only-of-type {\n",
       "        vertical-align: middle;\n",
       "    }\n",
       "\n",
       "    .dataframe tbody tr th {\n",
       "        vertical-align: top;\n",
       "    }\n",
       "\n",
       "    .dataframe thead th {\n",
       "        text-align: right;\n",
       "    }\n",
       "</style>\n",
       "<table border=\"1\" class=\"dataframe\">\n",
       "  <thead>\n",
       "    <tr style=\"text-align: right;\">\n",
       "      <th></th>\n",
       "      <th>SENADOR</th>\n",
       "      <th>VALOR_REEMBOLSADO</th>\n",
       "    </tr>\n",
       "  </thead>\n",
       "  <tbody>\n",
       "    <tr>\n",
       "      <th>0</th>\n",
       "      <td>TELMÁRIO MOTA</td>\n",
       "      <td>1951401.21</td>\n",
       "    </tr>\n",
       "    <tr>\n",
       "      <th>1</th>\n",
       "      <td>ROGÉRIO CARVALHO</td>\n",
       "      <td>1928300.49</td>\n",
       "    </tr>\n",
       "    <tr>\n",
       "      <th>2</th>\n",
       "      <td>MECIAS DE JESUS</td>\n",
       "      <td>1913241.64</td>\n",
       "    </tr>\n",
       "    <tr>\n",
       "      <th>3</th>\n",
       "      <td>PAULO ROCHA</td>\n",
       "      <td>1885315.28</td>\n",
       "    </tr>\n",
       "    <tr>\n",
       "      <th>4</th>\n",
       "      <td>MAILZA GOMES</td>\n",
       "      <td>1793120.58</td>\n",
       "    </tr>\n",
       "    <tr>\n",
       "      <th>5</th>\n",
       "      <td>ROBERTO ROCHA</td>\n",
       "      <td>1727057.62</td>\n",
       "    </tr>\n",
       "    <tr>\n",
       "      <th>6</th>\n",
       "      <td>ZEQUINHA MARINHO</td>\n",
       "      <td>1698140.72</td>\n",
       "    </tr>\n",
       "    <tr>\n",
       "      <th>7</th>\n",
       "      <td>ELIZIANE GAMA</td>\n",
       "      <td>1697709.01</td>\n",
       "    </tr>\n",
       "    <tr>\n",
       "      <th>8</th>\n",
       "      <td>EDUARDO BRAGA</td>\n",
       "      <td>1683525.68</td>\n",
       "    </tr>\n",
       "    <tr>\n",
       "      <th>9</th>\n",
       "      <td>WELLINGTON FAGUNDES</td>\n",
       "      <td>1671934.35</td>\n",
       "    </tr>\n",
       "    <tr>\n",
       "      <th>10</th>\n",
       "      <td>DAVI ALCOLUMBRE</td>\n",
       "      <td>1660472.68</td>\n",
       "    </tr>\n",
       "    <tr>\n",
       "      <th>11</th>\n",
       "      <td>JEAN PAUL PRATES</td>\n",
       "      <td>1651654.38</td>\n",
       "    </tr>\n",
       "    <tr>\n",
       "      <th>12</th>\n",
       "      <td>MARCIO BITTAR</td>\n",
       "      <td>1644885.07</td>\n",
       "    </tr>\n",
       "    <tr>\n",
       "      <th>13</th>\n",
       "      <td>CHICO RODRIGUES</td>\n",
       "      <td>1640967.75</td>\n",
       "    </tr>\n",
       "    <tr>\n",
       "      <th>14</th>\n",
       "      <td>JAQUES WAGNER</td>\n",
       "      <td>1640880.43</td>\n",
       "    </tr>\n",
       "    <tr>\n",
       "      <th>15</th>\n",
       "      <td>OMAR AZIZ</td>\n",
       "      <td>1628325.53</td>\n",
       "    </tr>\n",
       "    <tr>\n",
       "      <th>16</th>\n",
       "      <td>LUCAS BARRETO</td>\n",
       "      <td>1596777.49</td>\n",
       "    </tr>\n",
       "    <tr>\n",
       "      <th>17</th>\n",
       "      <td>ANGELO CORONEL</td>\n",
       "      <td>1584308.03</td>\n",
       "    </tr>\n",
       "    <tr>\n",
       "      <th>18</th>\n",
       "      <td>SÉRGIO PETECÃO</td>\n",
       "      <td>1574648.24</td>\n",
       "    </tr>\n",
       "    <tr>\n",
       "      <th>19</th>\n",
       "      <td>ELMANO FÉRRER</td>\n",
       "      <td>1566917.21</td>\n",
       "    </tr>\n",
       "    <tr>\n",
       "      <th>20</th>\n",
       "      <td>MARCOS ROGÉRIO</td>\n",
       "      <td>1556065.51</td>\n",
       "    </tr>\n",
       "    <tr>\n",
       "      <th>21</th>\n",
       "      <td>ALESSANDRO VIEIRA</td>\n",
       "      <td>1552531.31</td>\n",
       "    </tr>\n",
       "    <tr>\n",
       "      <th>22</th>\n",
       "      <td>NELSINHO TRAD</td>\n",
       "      <td>1546415.06</td>\n",
       "    </tr>\n",
       "    <tr>\n",
       "      <th>23</th>\n",
       "      <td>ACIR GURGACZ</td>\n",
       "      <td>1503143.33</td>\n",
       "    </tr>\n",
       "    <tr>\n",
       "      <th>24</th>\n",
       "      <td>HUMBERTO COSTA</td>\n",
       "      <td>1502329.79</td>\n",
       "    </tr>\n",
       "    <tr>\n",
       "      <th>25</th>\n",
       "      <td>FERNANDO BEZERRA COELHO</td>\n",
       "      <td>1477856.19</td>\n",
       "    </tr>\n",
       "    <tr>\n",
       "      <th>26</th>\n",
       "      <td>FERNANDO COLLOR</td>\n",
       "      <td>1475529.26</td>\n",
       "    </tr>\n",
       "    <tr>\n",
       "      <th>27</th>\n",
       "      <td>WEVERTON ROCHA</td>\n",
       "      <td>1466484.84</td>\n",
       "    </tr>\n",
       "    <tr>\n",
       "      <th>28</th>\n",
       "      <td>MARCELO CASTRO</td>\n",
       "      <td>1452035.67</td>\n",
       "    </tr>\n",
       "    <tr>\n",
       "      <th>29</th>\n",
       "      <td>RANDOLFE RODRIGUES</td>\n",
       "      <td>1426900.15</td>\n",
       "    </tr>\n",
       "  </tbody>\n",
       "</table>\n",
       "</div>"
      ],
      "text/plain": [
       "                    SENADOR  VALOR_REEMBOLSADO\n",
       "0             TELMÁRIO MOTA         1951401.21\n",
       "1          ROGÉRIO CARVALHO         1928300.49\n",
       "2           MECIAS DE JESUS         1913241.64\n",
       "3               PAULO ROCHA         1885315.28\n",
       "4              MAILZA GOMES         1793120.58\n",
       "5             ROBERTO ROCHA         1727057.62\n",
       "6          ZEQUINHA MARINHO         1698140.72\n",
       "7             ELIZIANE GAMA         1697709.01\n",
       "8             EDUARDO BRAGA         1683525.68\n",
       "9       WELLINGTON FAGUNDES         1671934.35\n",
       "10          DAVI ALCOLUMBRE         1660472.68\n",
       "11         JEAN PAUL PRATES         1651654.38\n",
       "12            MARCIO BITTAR         1644885.07\n",
       "13          CHICO RODRIGUES         1640967.75\n",
       "14            JAQUES WAGNER         1640880.43\n",
       "15                OMAR AZIZ         1628325.53\n",
       "16            LUCAS BARRETO         1596777.49\n",
       "17           ANGELO CORONEL         1584308.03\n",
       "18           SÉRGIO PETECÃO         1574648.24\n",
       "19            ELMANO FÉRRER         1566917.21\n",
       "20           MARCOS ROGÉRIO         1556065.51\n",
       "21        ALESSANDRO VIEIRA         1552531.31\n",
       "22            NELSINHO TRAD         1546415.06\n",
       "23             ACIR GURGACZ         1503143.33\n",
       "24           HUMBERTO COSTA         1502329.79\n",
       "25  FERNANDO BEZERRA COELHO         1477856.19\n",
       "26          FERNANDO COLLOR         1475529.26\n",
       "27           WEVERTON ROCHA         1466484.84\n",
       "28           MARCELO CASTRO         1452035.67\n",
       "29       RANDOLFE RODRIGUES         1426900.15"
      ]
     },
     "execution_count": 182,
     "metadata": {},
     "output_type": "execute_result"
    }
   ],
   "source": [
    "df = df_combine.loc[df_combine['TIPO_DESPESA'] == 'Locomoção, hospedagem, alimentação, combustíveis e lubrificantes'].groupby('SENADOR').sum().sort_values(by='VALOR_REEMBOLSADO', ascending=False)\n",
    "\n",
    "# New feature distribution\n",
    "#plt.figure(figsize=(12,4))\n",
    "#sns.barplot(data=df, x=df.SENADOR, y=df.VALOR_REEMBOLSADO)\n",
    "\n",
    "#sns.barplot(data=df, x='SENADOR', y='VALOR_REEMBOLSADO')\n",
    "\n",
    "acc_pay = df_combine.groupby('SENADOR').agg({'VALOR_REEMBOLSADO':'sum'}).sort_values('VALOR_REEMBOLSADO',ascending = False).reset_index().head(30)\n",
    "acc_pay\n"
   ]
  },
  {
   "cell_type": "code",
   "execution_count": 180,
   "id": "500d7356",
   "metadata": {},
   "outputs": [
    {
     "data": {
      "application/vnd.plotly.v1+json": {
       "config": {
        "plotlyServerURL": "https://plot.ly"
       },
       "data": [
        {
         "marker": {
          "line": {
           "color": "#000000",
           "width": 2
          }
         },
         "textfont": {
          "size": 20
         },
         "type": "bar",
         "x": [
          "TELMÁRIO MOTA",
          "ROGÉRIO CARVALHO",
          "MECIAS DE JESUS",
          "PAULO ROCHA",
          "MAILZA GOMES",
          "ROBERTO ROCHA",
          "ZEQUINHA MARINHO",
          "ELIZIANE GAMA",
          "EDUARDO BRAGA",
          "WELLINGTON FAGUNDES",
          "DAVI ALCOLUMBRE",
          "JEAN PAUL PRATES",
          "MARCIO BITTAR",
          "CHICO RODRIGUES",
          "JAQUES WAGNER",
          "OMAR AZIZ",
          "LUCAS BARRETO",
          "ANGELO CORONEL",
          "SÉRGIO PETECÃO",
          "ELMANO FÉRRER",
          "MARCOS ROGÉRIO",
          "ALESSANDRO VIEIRA",
          "NELSINHO TRAD",
          "ACIR GURGACZ",
          "HUMBERTO COSTA",
          "FERNANDO BEZERRA COELHO",
          "FERNANDO COLLOR",
          "WEVERTON ROCHA",
          "MARCELO CASTRO",
          "RANDOLFE RODRIGUES"
         ],
         "y": [
          1951401.21,
          1928300.49,
          1913241.64,
          1885315.28,
          1793120.58,
          1727057.62,
          1698140.72,
          1697709.01,
          1683525.68,
          1671934.35,
          1660472.68,
          1651654.38,
          1644885.07,
          1640967.75,
          1640880.43,
          1628325.53,
          1596777.49,
          1584308.03,
          1574648.24,
          1566917.21,
          1556065.51,
          1552531.31,
          1546415.06,
          1503143.33,
          1502329.79,
          1477856.19,
          1475529.26,
          1466484.84,
          1452035.67,
          1426900.15
         ]
        }
       ],
       "layout": {
        "template": {
         "data": {
          "bar": [
           {
            "error_x": {
             "color": "#2a3f5f"
            },
            "error_y": {
             "color": "#2a3f5f"
            },
            "marker": {
             "line": {
              "color": "#E5ECF6",
              "width": 0.5
             },
             "pattern": {
              "fillmode": "overlay",
              "size": 10,
              "solidity": 0.2
             }
            },
            "type": "bar"
           }
          ],
          "barpolar": [
           {
            "marker": {
             "line": {
              "color": "#E5ECF6",
              "width": 0.5
             },
             "pattern": {
              "fillmode": "overlay",
              "size": 10,
              "solidity": 0.2
             }
            },
            "type": "barpolar"
           }
          ],
          "carpet": [
           {
            "aaxis": {
             "endlinecolor": "#2a3f5f",
             "gridcolor": "white",
             "linecolor": "white",
             "minorgridcolor": "white",
             "startlinecolor": "#2a3f5f"
            },
            "baxis": {
             "endlinecolor": "#2a3f5f",
             "gridcolor": "white",
             "linecolor": "white",
             "minorgridcolor": "white",
             "startlinecolor": "#2a3f5f"
            },
            "type": "carpet"
           }
          ],
          "choropleth": [
           {
            "colorbar": {
             "outlinewidth": 0,
             "ticks": ""
            },
            "type": "choropleth"
           }
          ],
          "contour": [
           {
            "colorbar": {
             "outlinewidth": 0,
             "ticks": ""
            },
            "colorscale": [
             [
              0,
              "#0d0887"
             ],
             [
              0.1111111111111111,
              "#46039f"
             ],
             [
              0.2222222222222222,
              "#7201a8"
             ],
             [
              0.3333333333333333,
              "#9c179e"
             ],
             [
              0.4444444444444444,
              "#bd3786"
             ],
             [
              0.5555555555555556,
              "#d8576b"
             ],
             [
              0.6666666666666666,
              "#ed7953"
             ],
             [
              0.7777777777777778,
              "#fb9f3a"
             ],
             [
              0.8888888888888888,
              "#fdca26"
             ],
             [
              1,
              "#f0f921"
             ]
            ],
            "type": "contour"
           }
          ],
          "contourcarpet": [
           {
            "colorbar": {
             "outlinewidth": 0,
             "ticks": ""
            },
            "type": "contourcarpet"
           }
          ],
          "heatmap": [
           {
            "colorbar": {
             "outlinewidth": 0,
             "ticks": ""
            },
            "colorscale": [
             [
              0,
              "#0d0887"
             ],
             [
              0.1111111111111111,
              "#46039f"
             ],
             [
              0.2222222222222222,
              "#7201a8"
             ],
             [
              0.3333333333333333,
              "#9c179e"
             ],
             [
              0.4444444444444444,
              "#bd3786"
             ],
             [
              0.5555555555555556,
              "#d8576b"
             ],
             [
              0.6666666666666666,
              "#ed7953"
             ],
             [
              0.7777777777777778,
              "#fb9f3a"
             ],
             [
              0.8888888888888888,
              "#fdca26"
             ],
             [
              1,
              "#f0f921"
             ]
            ],
            "type": "heatmap"
           }
          ],
          "heatmapgl": [
           {
            "colorbar": {
             "outlinewidth": 0,
             "ticks": ""
            },
            "colorscale": [
             [
              0,
              "#0d0887"
             ],
             [
              0.1111111111111111,
              "#46039f"
             ],
             [
              0.2222222222222222,
              "#7201a8"
             ],
             [
              0.3333333333333333,
              "#9c179e"
             ],
             [
              0.4444444444444444,
              "#bd3786"
             ],
             [
              0.5555555555555556,
              "#d8576b"
             ],
             [
              0.6666666666666666,
              "#ed7953"
             ],
             [
              0.7777777777777778,
              "#fb9f3a"
             ],
             [
              0.8888888888888888,
              "#fdca26"
             ],
             [
              1,
              "#f0f921"
             ]
            ],
            "type": "heatmapgl"
           }
          ],
          "histogram": [
           {
            "marker": {
             "pattern": {
              "fillmode": "overlay",
              "size": 10,
              "solidity": 0.2
             }
            },
            "type": "histogram"
           }
          ],
          "histogram2d": [
           {
            "colorbar": {
             "outlinewidth": 0,
             "ticks": ""
            },
            "colorscale": [
             [
              0,
              "#0d0887"
             ],
             [
              0.1111111111111111,
              "#46039f"
             ],
             [
              0.2222222222222222,
              "#7201a8"
             ],
             [
              0.3333333333333333,
              "#9c179e"
             ],
             [
              0.4444444444444444,
              "#bd3786"
             ],
             [
              0.5555555555555556,
              "#d8576b"
             ],
             [
              0.6666666666666666,
              "#ed7953"
             ],
             [
              0.7777777777777778,
              "#fb9f3a"
             ],
             [
              0.8888888888888888,
              "#fdca26"
             ],
             [
              1,
              "#f0f921"
             ]
            ],
            "type": "histogram2d"
           }
          ],
          "histogram2dcontour": [
           {
            "colorbar": {
             "outlinewidth": 0,
             "ticks": ""
            },
            "colorscale": [
             [
              0,
              "#0d0887"
             ],
             [
              0.1111111111111111,
              "#46039f"
             ],
             [
              0.2222222222222222,
              "#7201a8"
             ],
             [
              0.3333333333333333,
              "#9c179e"
             ],
             [
              0.4444444444444444,
              "#bd3786"
             ],
             [
              0.5555555555555556,
              "#d8576b"
             ],
             [
              0.6666666666666666,
              "#ed7953"
             ],
             [
              0.7777777777777778,
              "#fb9f3a"
             ],
             [
              0.8888888888888888,
              "#fdca26"
             ],
             [
              1,
              "#f0f921"
             ]
            ],
            "type": "histogram2dcontour"
           }
          ],
          "mesh3d": [
           {
            "colorbar": {
             "outlinewidth": 0,
             "ticks": ""
            },
            "type": "mesh3d"
           }
          ],
          "parcoords": [
           {
            "line": {
             "colorbar": {
              "outlinewidth": 0,
              "ticks": ""
             }
            },
            "type": "parcoords"
           }
          ],
          "pie": [
           {
            "automargin": true,
            "type": "pie"
           }
          ],
          "scatter": [
           {
            "fillpattern": {
             "fillmode": "overlay",
             "size": 10,
             "solidity": 0.2
            },
            "type": "scatter"
           }
          ],
          "scatter3d": [
           {
            "line": {
             "colorbar": {
              "outlinewidth": 0,
              "ticks": ""
             }
            },
            "marker": {
             "colorbar": {
              "outlinewidth": 0,
              "ticks": ""
             }
            },
            "type": "scatter3d"
           }
          ],
          "scattercarpet": [
           {
            "marker": {
             "colorbar": {
              "outlinewidth": 0,
              "ticks": ""
             }
            },
            "type": "scattercarpet"
           }
          ],
          "scattergeo": [
           {
            "marker": {
             "colorbar": {
              "outlinewidth": 0,
              "ticks": ""
             }
            },
            "type": "scattergeo"
           }
          ],
          "scattergl": [
           {
            "marker": {
             "colorbar": {
              "outlinewidth": 0,
              "ticks": ""
             }
            },
            "type": "scattergl"
           }
          ],
          "scattermapbox": [
           {
            "marker": {
             "colorbar": {
              "outlinewidth": 0,
              "ticks": ""
             }
            },
            "type": "scattermapbox"
           }
          ],
          "scatterpolar": [
           {
            "marker": {
             "colorbar": {
              "outlinewidth": 0,
              "ticks": ""
             }
            },
            "type": "scatterpolar"
           }
          ],
          "scatterpolargl": [
           {
            "marker": {
             "colorbar": {
              "outlinewidth": 0,
              "ticks": ""
             }
            },
            "type": "scatterpolargl"
           }
          ],
          "scatterternary": [
           {
            "marker": {
             "colorbar": {
              "outlinewidth": 0,
              "ticks": ""
             }
            },
            "type": "scatterternary"
           }
          ],
          "surface": [
           {
            "colorbar": {
             "outlinewidth": 0,
             "ticks": ""
            },
            "colorscale": [
             [
              0,
              "#0d0887"
             ],
             [
              0.1111111111111111,
              "#46039f"
             ],
             [
              0.2222222222222222,
              "#7201a8"
             ],
             [
              0.3333333333333333,
              "#9c179e"
             ],
             [
              0.4444444444444444,
              "#bd3786"
             ],
             [
              0.5555555555555556,
              "#d8576b"
             ],
             [
              0.6666666666666666,
              "#ed7953"
             ],
             [
              0.7777777777777778,
              "#fb9f3a"
             ],
             [
              0.8888888888888888,
              "#fdca26"
             ],
             [
              1,
              "#f0f921"
             ]
            ],
            "type": "surface"
           }
          ],
          "table": [
           {
            "cells": {
             "fill": {
              "color": "#EBF0F8"
             },
             "line": {
              "color": "white"
             }
            },
            "header": {
             "fill": {
              "color": "#C8D4E3"
             },
             "line": {
              "color": "white"
             }
            },
            "type": "table"
           }
          ]
         },
         "layout": {
          "annotationdefaults": {
           "arrowcolor": "#2a3f5f",
           "arrowhead": 0,
           "arrowwidth": 1
          },
          "autotypenumbers": "strict",
          "coloraxis": {
           "colorbar": {
            "outlinewidth": 0,
            "ticks": ""
           }
          },
          "colorscale": {
           "diverging": [
            [
             0,
             "#8e0152"
            ],
            [
             0.1,
             "#c51b7d"
            ],
            [
             0.2,
             "#de77ae"
            ],
            [
             0.3,
             "#f1b6da"
            ],
            [
             0.4,
             "#fde0ef"
            ],
            [
             0.5,
             "#f7f7f7"
            ],
            [
             0.6,
             "#e6f5d0"
            ],
            [
             0.7,
             "#b8e186"
            ],
            [
             0.8,
             "#7fbc41"
            ],
            [
             0.9,
             "#4d9221"
            ],
            [
             1,
             "#276419"
            ]
           ],
           "sequential": [
            [
             0,
             "#0d0887"
            ],
            [
             0.1111111111111111,
             "#46039f"
            ],
            [
             0.2222222222222222,
             "#7201a8"
            ],
            [
             0.3333333333333333,
             "#9c179e"
            ],
            [
             0.4444444444444444,
             "#bd3786"
            ],
            [
             0.5555555555555556,
             "#d8576b"
            ],
            [
             0.6666666666666666,
             "#ed7953"
            ],
            [
             0.7777777777777778,
             "#fb9f3a"
            ],
            [
             0.8888888888888888,
             "#fdca26"
            ],
            [
             1,
             "#f0f921"
            ]
           ],
           "sequentialminus": [
            [
             0,
             "#0d0887"
            ],
            [
             0.1111111111111111,
             "#46039f"
            ],
            [
             0.2222222222222222,
             "#7201a8"
            ],
            [
             0.3333333333333333,
             "#9c179e"
            ],
            [
             0.4444444444444444,
             "#bd3786"
            ],
            [
             0.5555555555555556,
             "#d8576b"
            ],
            [
             0.6666666666666666,
             "#ed7953"
            ],
            [
             0.7777777777777778,
             "#fb9f3a"
            ],
            [
             0.8888888888888888,
             "#fdca26"
            ],
            [
             1,
             "#f0f921"
            ]
           ]
          },
          "colorway": [
           "#636efa",
           "#EF553B",
           "#00cc96",
           "#ab63fa",
           "#FFA15A",
           "#19d3f3",
           "#FF6692",
           "#B6E880",
           "#FF97FF",
           "#FECB52"
          ],
          "font": {
           "color": "#2a3f5f"
          },
          "geo": {
           "bgcolor": "white",
           "lakecolor": "white",
           "landcolor": "#E5ECF6",
           "showlakes": true,
           "showland": true,
           "subunitcolor": "white"
          },
          "hoverlabel": {
           "align": "left"
          },
          "hovermode": "closest",
          "mapbox": {
           "style": "light"
          },
          "paper_bgcolor": "white",
          "plot_bgcolor": "#E5ECF6",
          "polar": {
           "angularaxis": {
            "gridcolor": "white",
            "linecolor": "white",
            "ticks": ""
           },
           "bgcolor": "#E5ECF6",
           "radialaxis": {
            "gridcolor": "white",
            "linecolor": "white",
            "ticks": ""
           }
          },
          "scene": {
           "xaxis": {
            "backgroundcolor": "#E5ECF6",
            "gridcolor": "white",
            "gridwidth": 2,
            "linecolor": "white",
            "showbackground": true,
            "ticks": "",
            "zerolinecolor": "white"
           },
           "yaxis": {
            "backgroundcolor": "#E5ECF6",
            "gridcolor": "white",
            "gridwidth": 2,
            "linecolor": "white",
            "showbackground": true,
            "ticks": "",
            "zerolinecolor": "white"
           },
           "zaxis": {
            "backgroundcolor": "#E5ECF6",
            "gridcolor": "white",
            "gridwidth": 2,
            "linecolor": "white",
            "showbackground": true,
            "ticks": "",
            "zerolinecolor": "white"
           }
          },
          "shapedefaults": {
           "line": {
            "color": "#2a3f5f"
           }
          },
          "ternary": {
           "aaxis": {
            "gridcolor": "white",
            "linecolor": "white",
            "ticks": ""
           },
           "baxis": {
            "gridcolor": "white",
            "linecolor": "white",
            "ticks": ""
           },
           "bgcolor": "#E5ECF6",
           "caxis": {
            "gridcolor": "white",
            "linecolor": "white",
            "ticks": ""
           }
          },
          "title": {
           "x": 0.05
          },
          "xaxis": {
           "automargin": true,
           "gridcolor": "white",
           "linecolor": "white",
           "ticks": "",
           "title": {
            "standoff": 15
           },
           "zerolinecolor": "white",
           "zerolinewidth": 2
          },
          "yaxis": {
           "automargin": true,
           "gridcolor": "white",
           "linecolor": "white",
           "ticks": "",
           "title": {
            "standoff": 15
           },
           "zerolinecolor": "white",
           "zerolinewidth": 2
          }
         }
        },
        "title": {
         "text": "Senadores com maiores valores reembolsados entre 2015-2022"
        }
       }
      },
      "text/html": [
       "<div>                            <div id=\"25373fe8-c233-4624-94ad-998113e206f0\" class=\"plotly-graph-div\" style=\"height:525px; width:100%;\"></div>            <script type=\"text/javascript\">                require([\"plotly\"], function(Plotly) {                    window.PLOTLYENV=window.PLOTLYENV || {};                                    if (document.getElementById(\"25373fe8-c233-4624-94ad-998113e206f0\")) {                    Plotly.newPlot(                        \"25373fe8-c233-4624-94ad-998113e206f0\",                        [{\"x\":[\"TELM\\u00c1RIO MOTA\",\"ROG\\u00c9RIO CARVALHO\",\"MECIAS DE JESUS\",\"PAULO ROCHA\",\"MAILZA GOMES\",\"ROBERTO ROCHA\",\"ZEQUINHA MARINHO\",\"ELIZIANE GAMA\",\"EDUARDO BRAGA\",\"WELLINGTON FAGUNDES\",\"DAVI ALCOLUMBRE\",\"JEAN PAUL PRATES\",\"MARCIO BITTAR\",\"CHICO RODRIGUES\",\"JAQUES WAGNER\",\"OMAR AZIZ\",\"LUCAS BARRETO\",\"ANGELO CORONEL\",\"S\\u00c9RGIO PETEC\\u00c3O\",\"ELMANO F\\u00c9RRER\",\"MARCOS ROG\\u00c9RIO\",\"ALESSANDRO VIEIRA\",\"NELSINHO TRAD\",\"ACIR GURGACZ\",\"HUMBERTO COSTA\",\"FERNANDO BEZERRA COELHO\",\"FERNANDO COLLOR\",\"WEVERTON ROCHA\",\"MARCELO CASTRO\",\"RANDOLFE RODRIGUES\"],\"y\":[1951401.21,1928300.49,1913241.64,1885315.28,1793120.58,1727057.62,1698140.72,1697709.01,1683525.68,1671934.35,1660472.68,1651654.38,1644885.07,1640967.75,1640880.43,1628325.53,1596777.49,1584308.03,1574648.24,1566917.21,1556065.51,1552531.31,1546415.06,1503143.33,1502329.79,1477856.19,1475529.26,1466484.84,1452035.67,1426900.15],\"type\":\"bar\",\"textfont\":{\"size\":20},\"marker\":{\"line\":{\"color\":\"#000000\",\"width\":2}}}],                        {\"template\":{\"data\":{\"histogram2dcontour\":[{\"type\":\"histogram2dcontour\",\"colorbar\":{\"outlinewidth\":0,\"ticks\":\"\"},\"colorscale\":[[0.0,\"#0d0887\"],[0.1111111111111111,\"#46039f\"],[0.2222222222222222,\"#7201a8\"],[0.3333333333333333,\"#9c179e\"],[0.4444444444444444,\"#bd3786\"],[0.5555555555555556,\"#d8576b\"],[0.6666666666666666,\"#ed7953\"],[0.7777777777777778,\"#fb9f3a\"],[0.8888888888888888,\"#fdca26\"],[1.0,\"#f0f921\"]]}],\"choropleth\":[{\"type\":\"choropleth\",\"colorbar\":{\"outlinewidth\":0,\"ticks\":\"\"}}],\"histogram2d\":[{\"type\":\"histogram2d\",\"colorbar\":{\"outlinewidth\":0,\"ticks\":\"\"},\"colorscale\":[[0.0,\"#0d0887\"],[0.1111111111111111,\"#46039f\"],[0.2222222222222222,\"#7201a8\"],[0.3333333333333333,\"#9c179e\"],[0.4444444444444444,\"#bd3786\"],[0.5555555555555556,\"#d8576b\"],[0.6666666666666666,\"#ed7953\"],[0.7777777777777778,\"#fb9f3a\"],[0.8888888888888888,\"#fdca26\"],[1.0,\"#f0f921\"]]}],\"heatmap\":[{\"type\":\"heatmap\",\"colorbar\":{\"outlinewidth\":0,\"ticks\":\"\"},\"colorscale\":[[0.0,\"#0d0887\"],[0.1111111111111111,\"#46039f\"],[0.2222222222222222,\"#7201a8\"],[0.3333333333333333,\"#9c179e\"],[0.4444444444444444,\"#bd3786\"],[0.5555555555555556,\"#d8576b\"],[0.6666666666666666,\"#ed7953\"],[0.7777777777777778,\"#fb9f3a\"],[0.8888888888888888,\"#fdca26\"],[1.0,\"#f0f921\"]]}],\"heatmapgl\":[{\"type\":\"heatmapgl\",\"colorbar\":{\"outlinewidth\":0,\"ticks\":\"\"},\"colorscale\":[[0.0,\"#0d0887\"],[0.1111111111111111,\"#46039f\"],[0.2222222222222222,\"#7201a8\"],[0.3333333333333333,\"#9c179e\"],[0.4444444444444444,\"#bd3786\"],[0.5555555555555556,\"#d8576b\"],[0.6666666666666666,\"#ed7953\"],[0.7777777777777778,\"#fb9f3a\"],[0.8888888888888888,\"#fdca26\"],[1.0,\"#f0f921\"]]}],\"contourcarpet\":[{\"type\":\"contourcarpet\",\"colorbar\":{\"outlinewidth\":0,\"ticks\":\"\"}}],\"contour\":[{\"type\":\"contour\",\"colorbar\":{\"outlinewidth\":0,\"ticks\":\"\"},\"colorscale\":[[0.0,\"#0d0887\"],[0.1111111111111111,\"#46039f\"],[0.2222222222222222,\"#7201a8\"],[0.3333333333333333,\"#9c179e\"],[0.4444444444444444,\"#bd3786\"],[0.5555555555555556,\"#d8576b\"],[0.6666666666666666,\"#ed7953\"],[0.7777777777777778,\"#fb9f3a\"],[0.8888888888888888,\"#fdca26\"],[1.0,\"#f0f921\"]]}],\"surface\":[{\"type\":\"surface\",\"colorbar\":{\"outlinewidth\":0,\"ticks\":\"\"},\"colorscale\":[[0.0,\"#0d0887\"],[0.1111111111111111,\"#46039f\"],[0.2222222222222222,\"#7201a8\"],[0.3333333333333333,\"#9c179e\"],[0.4444444444444444,\"#bd3786\"],[0.5555555555555556,\"#d8576b\"],[0.6666666666666666,\"#ed7953\"],[0.7777777777777778,\"#fb9f3a\"],[0.8888888888888888,\"#fdca26\"],[1.0,\"#f0f921\"]]}],\"mesh3d\":[{\"type\":\"mesh3d\",\"colorbar\":{\"outlinewidth\":0,\"ticks\":\"\"}}],\"scatter\":[{\"fillpattern\":{\"fillmode\":\"overlay\",\"size\":10,\"solidity\":0.2},\"type\":\"scatter\"}],\"parcoords\":[{\"type\":\"parcoords\",\"line\":{\"colorbar\":{\"outlinewidth\":0,\"ticks\":\"\"}}}],\"scatterpolargl\":[{\"type\":\"scatterpolargl\",\"marker\":{\"colorbar\":{\"outlinewidth\":0,\"ticks\":\"\"}}}],\"bar\":[{\"error_x\":{\"color\":\"#2a3f5f\"},\"error_y\":{\"color\":\"#2a3f5f\"},\"marker\":{\"line\":{\"color\":\"#E5ECF6\",\"width\":0.5},\"pattern\":{\"fillmode\":\"overlay\",\"size\":10,\"solidity\":0.2}},\"type\":\"bar\"}],\"scattergeo\":[{\"type\":\"scattergeo\",\"marker\":{\"colorbar\":{\"outlinewidth\":0,\"ticks\":\"\"}}}],\"scatterpolar\":[{\"type\":\"scatterpolar\",\"marker\":{\"colorbar\":{\"outlinewidth\":0,\"ticks\":\"\"}}}],\"histogram\":[{\"marker\":{\"pattern\":{\"fillmode\":\"overlay\",\"size\":10,\"solidity\":0.2}},\"type\":\"histogram\"}],\"scattergl\":[{\"type\":\"scattergl\",\"marker\":{\"colorbar\":{\"outlinewidth\":0,\"ticks\":\"\"}}}],\"scatter3d\":[{\"type\":\"scatter3d\",\"line\":{\"colorbar\":{\"outlinewidth\":0,\"ticks\":\"\"}},\"marker\":{\"colorbar\":{\"outlinewidth\":0,\"ticks\":\"\"}}}],\"scattermapbox\":[{\"type\":\"scattermapbox\",\"marker\":{\"colorbar\":{\"outlinewidth\":0,\"ticks\":\"\"}}}],\"scatterternary\":[{\"type\":\"scatterternary\",\"marker\":{\"colorbar\":{\"outlinewidth\":0,\"ticks\":\"\"}}}],\"scattercarpet\":[{\"type\":\"scattercarpet\",\"marker\":{\"colorbar\":{\"outlinewidth\":0,\"ticks\":\"\"}}}],\"carpet\":[{\"aaxis\":{\"endlinecolor\":\"#2a3f5f\",\"gridcolor\":\"white\",\"linecolor\":\"white\",\"minorgridcolor\":\"white\",\"startlinecolor\":\"#2a3f5f\"},\"baxis\":{\"endlinecolor\":\"#2a3f5f\",\"gridcolor\":\"white\",\"linecolor\":\"white\",\"minorgridcolor\":\"white\",\"startlinecolor\":\"#2a3f5f\"},\"type\":\"carpet\"}],\"table\":[{\"cells\":{\"fill\":{\"color\":\"#EBF0F8\"},\"line\":{\"color\":\"white\"}},\"header\":{\"fill\":{\"color\":\"#C8D4E3\"},\"line\":{\"color\":\"white\"}},\"type\":\"table\"}],\"barpolar\":[{\"marker\":{\"line\":{\"color\":\"#E5ECF6\",\"width\":0.5},\"pattern\":{\"fillmode\":\"overlay\",\"size\":10,\"solidity\":0.2}},\"type\":\"barpolar\"}],\"pie\":[{\"automargin\":true,\"type\":\"pie\"}]},\"layout\":{\"autotypenumbers\":\"strict\",\"colorway\":[\"#636efa\",\"#EF553B\",\"#00cc96\",\"#ab63fa\",\"#FFA15A\",\"#19d3f3\",\"#FF6692\",\"#B6E880\",\"#FF97FF\",\"#FECB52\"],\"font\":{\"color\":\"#2a3f5f\"},\"hovermode\":\"closest\",\"hoverlabel\":{\"align\":\"left\"},\"paper_bgcolor\":\"white\",\"plot_bgcolor\":\"#E5ECF6\",\"polar\":{\"bgcolor\":\"#E5ECF6\",\"angularaxis\":{\"gridcolor\":\"white\",\"linecolor\":\"white\",\"ticks\":\"\"},\"radialaxis\":{\"gridcolor\":\"white\",\"linecolor\":\"white\",\"ticks\":\"\"}},\"ternary\":{\"bgcolor\":\"#E5ECF6\",\"aaxis\":{\"gridcolor\":\"white\",\"linecolor\":\"white\",\"ticks\":\"\"},\"baxis\":{\"gridcolor\":\"white\",\"linecolor\":\"white\",\"ticks\":\"\"},\"caxis\":{\"gridcolor\":\"white\",\"linecolor\":\"white\",\"ticks\":\"\"}},\"coloraxis\":{\"colorbar\":{\"outlinewidth\":0,\"ticks\":\"\"}},\"colorscale\":{\"sequential\":[[0.0,\"#0d0887\"],[0.1111111111111111,\"#46039f\"],[0.2222222222222222,\"#7201a8\"],[0.3333333333333333,\"#9c179e\"],[0.4444444444444444,\"#bd3786\"],[0.5555555555555556,\"#d8576b\"],[0.6666666666666666,\"#ed7953\"],[0.7777777777777778,\"#fb9f3a\"],[0.8888888888888888,\"#fdca26\"],[1.0,\"#f0f921\"]],\"sequentialminus\":[[0.0,\"#0d0887\"],[0.1111111111111111,\"#46039f\"],[0.2222222222222222,\"#7201a8\"],[0.3333333333333333,\"#9c179e\"],[0.4444444444444444,\"#bd3786\"],[0.5555555555555556,\"#d8576b\"],[0.6666666666666666,\"#ed7953\"],[0.7777777777777778,\"#fb9f3a\"],[0.8888888888888888,\"#fdca26\"],[1.0,\"#f0f921\"]],\"diverging\":[[0,\"#8e0152\"],[0.1,\"#c51b7d\"],[0.2,\"#de77ae\"],[0.3,\"#f1b6da\"],[0.4,\"#fde0ef\"],[0.5,\"#f7f7f7\"],[0.6,\"#e6f5d0\"],[0.7,\"#b8e186\"],[0.8,\"#7fbc41\"],[0.9,\"#4d9221\"],[1,\"#276419\"]]},\"xaxis\":{\"gridcolor\":\"white\",\"linecolor\":\"white\",\"ticks\":\"\",\"title\":{\"standoff\":15},\"zerolinecolor\":\"white\",\"automargin\":true,\"zerolinewidth\":2},\"yaxis\":{\"gridcolor\":\"white\",\"linecolor\":\"white\",\"ticks\":\"\",\"title\":{\"standoff\":15},\"zerolinecolor\":\"white\",\"automargin\":true,\"zerolinewidth\":2},\"scene\":{\"xaxis\":{\"backgroundcolor\":\"#E5ECF6\",\"gridcolor\":\"white\",\"linecolor\":\"white\",\"showbackground\":true,\"ticks\":\"\",\"zerolinecolor\":\"white\",\"gridwidth\":2},\"yaxis\":{\"backgroundcolor\":\"#E5ECF6\",\"gridcolor\":\"white\",\"linecolor\":\"white\",\"showbackground\":true,\"ticks\":\"\",\"zerolinecolor\":\"white\",\"gridwidth\":2},\"zaxis\":{\"backgroundcolor\":\"#E5ECF6\",\"gridcolor\":\"white\",\"linecolor\":\"white\",\"showbackground\":true,\"ticks\":\"\",\"zerolinecolor\":\"white\",\"gridwidth\":2}},\"shapedefaults\":{\"line\":{\"color\":\"#2a3f5f\"}},\"annotationdefaults\":{\"arrowcolor\":\"#2a3f5f\",\"arrowhead\":0,\"arrowwidth\":1},\"geo\":{\"bgcolor\":\"white\",\"landcolor\":\"#E5ECF6\",\"subunitcolor\":\"white\",\"showland\":true,\"showlakes\":true,\"lakecolor\":\"white\"},\"title\":{\"x\":0.05},\"mapbox\":{\"style\":\"light\"}}},\"title\":{\"text\":\"Senadores com maiores valores reembolsados entre 2015-2022\"}},                        {\"responsive\": true}                    ).then(function(){\n",
       "                            \n",
       "var gd = document.getElementById('25373fe8-c233-4624-94ad-998113e206f0');\n",
       "var x = new MutationObserver(function (mutations, observer) {{\n",
       "        var display = window.getComputedStyle(gd).display;\n",
       "        if (!display || display === 'none') {{\n",
       "            console.log([gd, 'removed!']);\n",
       "            Plotly.purge(gd);\n",
       "            observer.disconnect();\n",
       "        }}\n",
       "}});\n",
       "\n",
       "// Listen for the removal of the full notebook cells\n",
       "var notebookContainer = gd.closest('#notebook-container');\n",
       "if (notebookContainer) {{\n",
       "    x.observe(notebookContainer, {childList: true});\n",
       "}}\n",
       "\n",
       "// Listen for the clearing of the current output cell\n",
       "var outputEl = gd.closest('.output');\n",
       "if (outputEl) {{\n",
       "    x.observe(outputEl, {childList: true});\n",
       "}}\n",
       "\n",
       "                        })                };                });            </script>        </div>"
      ]
     },
     "metadata": {},
     "output_type": "display_data"
    }
   ],
   "source": [
    "fig = go.Figure(\n",
    "    data=[go.Bar(x=acc_pay.SENADOR, y=acc_pay['VALOR_REEMBOLSADO'])],\n",
    "    layout_title_text=\"Senadores com maiores valores reembolsados entre 2015-2022\")\n",
    "\n",
    "fig.update_traces(textfont_size=20, marker=dict(line=dict(color='#000000', width=2)))\n",
    "fig.show()"
   ]
  },
  {
   "cell_type": "code",
   "execution_count": null,
   "id": "955bbd0a",
   "metadata": {},
   "outputs": [],
   "source": []
  }
 ],
 "metadata": {
  "kernelspec": {
   "display_name": "Python 3 (ipykernel)",
   "language": "python",
   "name": "python3"
  },
  "language_info": {
   "codemirror_mode": {
    "name": "ipython",
    "version": 3
   },
   "file_extension": ".py",
   "mimetype": "text/x-python",
   "name": "python",
   "nbconvert_exporter": "python",
   "pygments_lexer": "ipython3",
   "version": "3.10.6"
  }
 },
 "nbformat": 4,
 "nbformat_minor": 5
}
