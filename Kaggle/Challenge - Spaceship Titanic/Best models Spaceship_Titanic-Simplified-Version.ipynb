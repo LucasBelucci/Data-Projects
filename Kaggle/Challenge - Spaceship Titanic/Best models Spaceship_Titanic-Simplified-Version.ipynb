{
 "cells": [
  {
   "cell_type": "code",
   "execution_count": 1,
   "id": "64d42660",
   "metadata": {},
   "outputs": [
    {
     "name": "stdout",
     "output_type": "stream",
     "text": [
      "Python version: 3.10.6 (tags/v3.10.6:9c7b4bd, Aug  1 2022, 21:53:49) [MSC v.1932 64 bit (AMD64)]\n",
      "pandas version: 1.4.3\n",
      "matplotlib version: 3.6.3\n",
      "NumPy version: 1.23.0\n",
      "SciPy version: 1.10.0\n",
      "IPython version: 8.9.0\n",
      "scikit-learn version: 1.2.1\n",
      "-------------------------\n"
     ]
    }
   ],
   "source": [
    "\"\"\"\n",
    "Python 3.10 Best models Spaceship_Titanic program will you survive on the spaceship titanic or not\n",
    "File name Titanic_eda.py\n",
    "\n",
    "Version: 0.1\n",
    "Author: MLCV\n",
    "Date: 2023-06-25\n",
    "\"\"\"\n",
    "\n",
    "# This Python 3 environment comes with many helpful analytics libraries installed\n",
    "# It is defined by the kaggle/python docker image: https://github.com/kaggle/docker-python\n",
    "\n",
    "#load packages\n",
    "import sys #access to system parameters https://docs.python.org/3/library/sys.html\n",
    "print(\"Python version: {}\". format(sys.version))\n",
    "\n",
    "import pandas as pd #collection of functions for data processing and analysis modeled after R dataframes with SQL like features\n",
    "print(\"pandas version: {}\". format(pd.__version__))\n",
    "\n",
    "import matplotlib #collection of functions for scientific and publication-ready visualization\n",
    "print(\"matplotlib version: {}\". format(matplotlib.__version__))\n",
    "\n",
    "import numpy as np #foundational package for scientific computing\n",
    "print(\"NumPy version: {}\". format(np.__version__))\n",
    "\n",
    "import scipy as sp #collection of functions for scientific computing and advance mathematics\n",
    "print(\"SciPy version: {}\". format(sp.__version__)) \n",
    "\n",
    "import IPython\n",
    "from IPython import display #pretty printing of dataframes in Jupyter notebook\n",
    "print(\"IPython version: {}\". format(IPython.__version__)) \n",
    "\n",
    "import sklearn #collection of machine learning algorithms\n",
    "print(\"scikit-learn version: {}\". format(sklearn.__version__))\n",
    "\n",
    "#misc libraries\n",
    "import random\n",
    "import time\n",
    "\n",
    "\n",
    "#ignore warnings\n",
    "import warnings\n",
    "warnings.filterwarnings('ignore')\n",
    "print('-'*25)"
   ]
  },
  {
   "cell_type": "code",
   "execution_count": 95,
   "id": "036ccb16",
   "metadata": {},
   "outputs": [],
   "source": [
    "#Common Model Algorithms\n",
    "from sklearn import svm, tree, linear_model, neighbors, naive_bayes, ensemble, discriminant_analysis, gaussian_process\n",
    "from xgboost import XGBClassifier\n",
    "\n",
    "#Common Model Helpers\n",
    "from sklearn.preprocessing import OneHotEncoder, LabelEncoder\n",
    "from sklearn import feature_selection\n",
    "from sklearn import model_selection\n",
    "from sklearn import metrics\n",
    "from sklearn.pipeline import Pipeline\n",
    "from sklearn.compose import ColumnTransformer\n",
    "from sklearn.preprocessing import StandardScaler\n",
    "from sklearn.model_selection import train_test_split\n",
    "from sklearn.svm import SVC\n",
    "from sklearn.ensemble import RandomForestClassifier\n",
    "from sklearn.model_selection import KFold\n",
    "from sklearn.model_selection import cross_val_score\n",
    "from sklearn.tree import DecisionTreeClassifier\n",
    "\n",
    "#Visualization\n",
    "import matplotlib as mpl\n",
    "import matplotlib.pyplot as plt\n",
    "import matplotlib.pylab as pylab\n",
    "import seaborn as sns\n",
    "from pandas.plotting import scatter_matrix\n",
    "\n",
    "\n",
    "#Configure Visualization Defaults\n",
    "#%matplotlib inline = show plots in Jupyter Notebook browser\n",
    "%matplotlib inline\n",
    "mpl.style.use('ggplot')\n",
    "sns.set_style('white')\n",
    "pylab.rcParams['figure.figsize'] = 12,8"
   ]
  },
  {
   "cell_type": "code",
   "execution_count": 3,
   "id": "749d563d",
   "metadata": {},
   "outputs": [
    {
     "name": "stdout",
     "output_type": "stream",
     "text": [
      "<class 'pandas.core.frame.DataFrame'>\n",
      "RangeIndex: 8693 entries, 0 to 8692\n",
      "Data columns (total 14 columns):\n",
      " #   Column        Non-Null Count  Dtype  \n",
      "---  ------        --------------  -----  \n",
      " 0   PassengerId   8693 non-null   object \n",
      " 1   HomePlanet    8492 non-null   object \n",
      " 2   CryoSleep     8476 non-null   object \n",
      " 3   Cabin         8494 non-null   object \n",
      " 4   Destination   8511 non-null   object \n",
      " 5   Age           8514 non-null   float64\n",
      " 6   VIP           8490 non-null   object \n",
      " 7   RoomService   8512 non-null   float64\n",
      " 8   FoodCourt     8510 non-null   float64\n",
      " 9   ShoppingMall  8485 non-null   float64\n",
      " 10  Spa           8510 non-null   float64\n",
      " 11  VRDeck        8505 non-null   float64\n",
      " 12  Name          8493 non-null   object \n",
      " 13  Transported   8693 non-null   bool   \n",
      "dtypes: bool(1), float64(6), object(7)\n",
      "memory usage: 891.5+ KB\n",
      "None\n"
     ]
    },
    {
     "data": {
      "text/html": [
       "<div>\n",
       "<style scoped>\n",
       "    .dataframe tbody tr th:only-of-type {\n",
       "        vertical-align: middle;\n",
       "    }\n",
       "\n",
       "    .dataframe tbody tr th {\n",
       "        vertical-align: top;\n",
       "    }\n",
       "\n",
       "    .dataframe thead th {\n",
       "        text-align: right;\n",
       "    }\n",
       "</style>\n",
       "<table border=\"1\" class=\"dataframe\">\n",
       "  <thead>\n",
       "    <tr style=\"text-align: right;\">\n",
       "      <th></th>\n",
       "      <th>PassengerId</th>\n",
       "      <th>HomePlanet</th>\n",
       "      <th>CryoSleep</th>\n",
       "      <th>Cabin</th>\n",
       "      <th>Destination</th>\n",
       "      <th>Age</th>\n",
       "      <th>VIP</th>\n",
       "      <th>RoomService</th>\n",
       "      <th>FoodCourt</th>\n",
       "      <th>ShoppingMall</th>\n",
       "      <th>Spa</th>\n",
       "      <th>VRDeck</th>\n",
       "      <th>Name</th>\n",
       "      <th>Transported</th>\n",
       "    </tr>\n",
       "  </thead>\n",
       "  <tbody>\n",
       "    <tr>\n",
       "      <th>7825</th>\n",
       "      <td>8348_01</td>\n",
       "      <td>Mars</td>\n",
       "      <td>True</td>\n",
       "      <td>E/532/P</td>\n",
       "      <td>TRAPPIST-1e</td>\n",
       "      <td>47.0</td>\n",
       "      <td>False</td>\n",
       "      <td>0.0</td>\n",
       "      <td>NaN</td>\n",
       "      <td>0.0</td>\n",
       "      <td>0.0</td>\n",
       "      <td>0.0</td>\n",
       "      <td>Minies Hotty</td>\n",
       "      <td>True</td>\n",
       "    </tr>\n",
       "    <tr>\n",
       "      <th>4249</th>\n",
       "      <td>4517_01</td>\n",
       "      <td>Earth</td>\n",
       "      <td>False</td>\n",
       "      <td>F/849/S</td>\n",
       "      <td>TRAPPIST-1e</td>\n",
       "      <td>37.0</td>\n",
       "      <td>False</td>\n",
       "      <td>452.0</td>\n",
       "      <td>0.0</td>\n",
       "      <td>234.0</td>\n",
       "      <td>19.0</td>\n",
       "      <td>1290.0</td>\n",
       "      <td>Bara Mcleandez</td>\n",
       "      <td>False</td>\n",
       "    </tr>\n",
       "    <tr>\n",
       "      <th>1862</th>\n",
       "      <td>1984_01</td>\n",
       "      <td>Europa</td>\n",
       "      <td>False</td>\n",
       "      <td>NaN</td>\n",
       "      <td>55 Cancri e</td>\n",
       "      <td>37.0</td>\n",
       "      <td>False</td>\n",
       "      <td>0.0</td>\n",
       "      <td>3166.0</td>\n",
       "      <td>0.0</td>\n",
       "      <td>91.0</td>\n",
       "      <td>6.0</td>\n",
       "      <td>Mesath Wassid</td>\n",
       "      <td>True</td>\n",
       "    </tr>\n",
       "    <tr>\n",
       "      <th>7246</th>\n",
       "      <td>7748_01</td>\n",
       "      <td>Europa</td>\n",
       "      <td>False</td>\n",
       "      <td>A/94/S</td>\n",
       "      <td>TRAPPIST-1e</td>\n",
       "      <td>44.0</td>\n",
       "      <td>False</td>\n",
       "      <td>18.0</td>\n",
       "      <td>1451.0</td>\n",
       "      <td>0.0</td>\n",
       "      <td>279.0</td>\n",
       "      <td>64.0</td>\n",
       "      <td>Alamin Obsentork</td>\n",
       "      <td>False</td>\n",
       "    </tr>\n",
       "    <tr>\n",
       "      <th>2866</th>\n",
       "      <td>3096_01</td>\n",
       "      <td>Mars</td>\n",
       "      <td>False</td>\n",
       "      <td>D/103/S</td>\n",
       "      <td>55 Cancri e</td>\n",
       "      <td>25.0</td>\n",
       "      <td>False</td>\n",
       "      <td>5.0</td>\n",
       "      <td>1.0</td>\n",
       "      <td>633.0</td>\n",
       "      <td>0.0</td>\n",
       "      <td>188.0</td>\n",
       "      <td>Seat Khaf</td>\n",
       "      <td>True</td>\n",
       "    </tr>\n",
       "    <tr>\n",
       "      <th>6309</th>\n",
       "      <td>6672_02</td>\n",
       "      <td>Mars</td>\n",
       "      <td>False</td>\n",
       "      <td>F/1387/P</td>\n",
       "      <td>55 Cancri e</td>\n",
       "      <td>4.0</td>\n",
       "      <td>False</td>\n",
       "      <td>0.0</td>\n",
       "      <td>0.0</td>\n",
       "      <td>0.0</td>\n",
       "      <td>0.0</td>\n",
       "      <td>0.0</td>\n",
       "      <td>Panbug Deva</td>\n",
       "      <td>True</td>\n",
       "    </tr>\n",
       "    <tr>\n",
       "      <th>4559</th>\n",
       "      <td>4850_02</td>\n",
       "      <td>Earth</td>\n",
       "      <td>False</td>\n",
       "      <td>G/792/S</td>\n",
       "      <td>TRAPPIST-1e</td>\n",
       "      <td>55.0</td>\n",
       "      <td>False</td>\n",
       "      <td>330.0</td>\n",
       "      <td>114.0</td>\n",
       "      <td>0.0</td>\n",
       "      <td>2.0</td>\n",
       "      <td>0.0</td>\n",
       "      <td>Billya Shieldson</td>\n",
       "      <td>True</td>\n",
       "    </tr>\n",
       "    <tr>\n",
       "      <th>4864</th>\n",
       "      <td>5188_03</td>\n",
       "      <td>Earth</td>\n",
       "      <td>True</td>\n",
       "      <td>G/838/P</td>\n",
       "      <td>TRAPPIST-1e</td>\n",
       "      <td>12.0</td>\n",
       "      <td>False</td>\n",
       "      <td>0.0</td>\n",
       "      <td>0.0</td>\n",
       "      <td>0.0</td>\n",
       "      <td>0.0</td>\n",
       "      <td>0.0</td>\n",
       "      <td>Wally Bootez</td>\n",
       "      <td>False</td>\n",
       "    </tr>\n",
       "    <tr>\n",
       "      <th>8574</th>\n",
       "      <td>9157_03</td>\n",
       "      <td>Earth</td>\n",
       "      <td>False</td>\n",
       "      <td>G/1476/S</td>\n",
       "      <td>PSO J318.5-22</td>\n",
       "      <td>10.0</td>\n",
       "      <td>False</td>\n",
       "      <td>0.0</td>\n",
       "      <td>0.0</td>\n",
       "      <td>0.0</td>\n",
       "      <td>0.0</td>\n",
       "      <td>0.0</td>\n",
       "      <td>Andrey Navages</td>\n",
       "      <td>True</td>\n",
       "    </tr>\n",
       "    <tr>\n",
       "      <th>425</th>\n",
       "      <td>0459_01</td>\n",
       "      <td>Earth</td>\n",
       "      <td>False</td>\n",
       "      <td>F/84/S</td>\n",
       "      <td>TRAPPIST-1e</td>\n",
       "      <td>15.0</td>\n",
       "      <td>False</td>\n",
       "      <td>2156.0</td>\n",
       "      <td>0.0</td>\n",
       "      <td>0.0</td>\n",
       "      <td>59.0</td>\n",
       "      <td>2.0</td>\n",
       "      <td>Hardy Nichoan</td>\n",
       "      <td>False</td>\n",
       "    </tr>\n",
       "  </tbody>\n",
       "</table>\n",
       "</div>"
      ],
      "text/plain": [
       "     PassengerId HomePlanet CryoSleep     Cabin    Destination   Age    VIP  \\\n",
       "7825     8348_01       Mars      True   E/532/P    TRAPPIST-1e  47.0  False   \n",
       "4249     4517_01      Earth     False   F/849/S    TRAPPIST-1e  37.0  False   \n",
       "1862     1984_01     Europa     False       NaN    55 Cancri e  37.0  False   \n",
       "7246     7748_01     Europa     False    A/94/S    TRAPPIST-1e  44.0  False   \n",
       "2866     3096_01       Mars     False   D/103/S    55 Cancri e  25.0  False   \n",
       "6309     6672_02       Mars     False  F/1387/P    55 Cancri e   4.0  False   \n",
       "4559     4850_02      Earth     False   G/792/S    TRAPPIST-1e  55.0  False   \n",
       "4864     5188_03      Earth      True   G/838/P    TRAPPIST-1e  12.0  False   \n",
       "8574     9157_03      Earth     False  G/1476/S  PSO J318.5-22  10.0  False   \n",
       "425      0459_01      Earth     False    F/84/S    TRAPPIST-1e  15.0  False   \n",
       "\n",
       "      RoomService  FoodCourt  ShoppingMall    Spa  VRDeck              Name  \\\n",
       "7825          0.0        NaN           0.0    0.0     0.0      Minies Hotty   \n",
       "4249        452.0        0.0         234.0   19.0  1290.0    Bara Mcleandez   \n",
       "1862          0.0     3166.0           0.0   91.0     6.0     Mesath Wassid   \n",
       "7246         18.0     1451.0           0.0  279.0    64.0  Alamin Obsentork   \n",
       "2866          5.0        1.0         633.0    0.0   188.0         Seat Khaf   \n",
       "6309          0.0        0.0           0.0    0.0     0.0       Panbug Deva   \n",
       "4559        330.0      114.0           0.0    2.0     0.0  Billya Shieldson   \n",
       "4864          0.0        0.0           0.0    0.0     0.0      Wally Bootez   \n",
       "8574          0.0        0.0           0.0    0.0     0.0    Andrey Navages   \n",
       "425        2156.0        0.0           0.0   59.0     2.0     Hardy Nichoan   \n",
       "\n",
       "      Transported  \n",
       "7825         True  \n",
       "4249        False  \n",
       "1862         True  \n",
       "7246        False  \n",
       "2866         True  \n",
       "6309         True  \n",
       "4559         True  \n",
       "4864        False  \n",
       "8574         True  \n",
       "425         False  "
      ]
     },
     "execution_count": 3,
     "metadata": {},
     "output_type": "execute_result"
    }
   ],
   "source": [
    "data_raw = pd.read_csv('train.csv')\n",
    "data_val = pd.read_csv('test.csv')\n",
    "\n",
    "data1 = data_raw.copy(deep = True)\n",
    "\n",
    "data_cleaner = [data1, data_val]\n",
    "\n",
    "print(data_raw.info())\n",
    "\n",
    "data_raw.sample(10)"
   ]
  },
  {
   "cell_type": "code",
   "execution_count": 4,
   "id": "8e848ae5",
   "metadata": {},
   "outputs": [
    {
     "name": "stdout",
     "output_type": "stream",
     "text": [
      "Duplicates in train set: 0, (0.0%)\n",
      "Duplicates in test set: 0, (0.0%)\n"
     ]
    }
   ],
   "source": [
    "print(f'Duplicates in train set: {data_raw.duplicated().sum()}, ({np.round(100*data_raw.duplicated().sum()/len(data_raw), 1)}%)')\n",
    "\n",
    "print(f'Duplicates in test set: {data_val.duplicated().sum()}, ({np.round(100*data_val.duplicated().sum()/len(data_val), 1)}%)')"
   ]
  },
  {
   "cell_type": "markdown",
   "id": "5b6ee8a9",
   "metadata": {},
   "source": [
    "### Data Cleaning:\n",
    "\n",
    "First of all, it's necessary to review the data to create an accurate model, after that, it's important to fill in the missing values, trying to obtain a better algorithms performance, so for numerical features will be use the median value, instead of the median or mean and for categorical features will fill using mode and convert to dummy variables.\n",
    "\n",
    "So, the age will be filled with the median, the cockpit attribute will be removed, and landing will be imputed using mode."
   ]
  },
  {
   "cell_type": "code",
   "execution_count": 5,
   "id": "47e53f89",
   "metadata": {},
   "outputs": [
    {
     "name": "stdout",
     "output_type": "stream",
     "text": [
      "Train columns with null values:\n",
      " PassengerId       0\n",
      "HomePlanet      201\n",
      "CryoSleep       217\n",
      "Cabin           199\n",
      "Destination     182\n",
      "Age             179\n",
      "VIP             203\n",
      "RoomService     181\n",
      "FoodCourt       183\n",
      "ShoppingMall    208\n",
      "Spa             183\n",
      "VRDeck          188\n",
      "Name            200\n",
      "Transported       0\n",
      "dtype: int64\n",
      "----------\n",
      "Test/Validation columns with null values:\n",
      " PassengerId       0\n",
      "HomePlanet       87\n",
      "CryoSleep        93\n",
      "Cabin           100\n",
      "Destination      92\n",
      "Age              91\n",
      "VIP              93\n",
      "RoomService      82\n",
      "FoodCourt       106\n",
      "ShoppingMall     98\n",
      "Spa             101\n",
      "VRDeck           80\n",
      "Name             94\n",
      "dtype: int64\n",
      "----------\n"
     ]
    },
    {
     "data": {
      "text/html": [
       "<div>\n",
       "<style scoped>\n",
       "    .dataframe tbody tr th:only-of-type {\n",
       "        vertical-align: middle;\n",
       "    }\n",
       "\n",
       "    .dataframe tbody tr th {\n",
       "        vertical-align: top;\n",
       "    }\n",
       "\n",
       "    .dataframe thead th {\n",
       "        text-align: right;\n",
       "    }\n",
       "</style>\n",
       "<table border=\"1\" class=\"dataframe\">\n",
       "  <thead>\n",
       "    <tr style=\"text-align: right;\">\n",
       "      <th></th>\n",
       "      <th>PassengerId</th>\n",
       "      <th>HomePlanet</th>\n",
       "      <th>CryoSleep</th>\n",
       "      <th>Cabin</th>\n",
       "      <th>Destination</th>\n",
       "      <th>Age</th>\n",
       "      <th>VIP</th>\n",
       "      <th>RoomService</th>\n",
       "      <th>FoodCourt</th>\n",
       "      <th>ShoppingMall</th>\n",
       "      <th>Spa</th>\n",
       "      <th>VRDeck</th>\n",
       "      <th>Name</th>\n",
       "      <th>Transported</th>\n",
       "    </tr>\n",
       "  </thead>\n",
       "  <tbody>\n",
       "    <tr>\n",
       "      <th>count</th>\n",
       "      <td>8693</td>\n",
       "      <td>8492</td>\n",
       "      <td>8476</td>\n",
       "      <td>8494</td>\n",
       "      <td>8511</td>\n",
       "      <td>8514.000000</td>\n",
       "      <td>8490</td>\n",
       "      <td>8512.000000</td>\n",
       "      <td>8510.000000</td>\n",
       "      <td>8485.000000</td>\n",
       "      <td>8510.000000</td>\n",
       "      <td>8505.000000</td>\n",
       "      <td>8493</td>\n",
       "      <td>8693</td>\n",
       "    </tr>\n",
       "    <tr>\n",
       "      <th>unique</th>\n",
       "      <td>8693</td>\n",
       "      <td>3</td>\n",
       "      <td>2</td>\n",
       "      <td>6560</td>\n",
       "      <td>3</td>\n",
       "      <td>NaN</td>\n",
       "      <td>2</td>\n",
       "      <td>NaN</td>\n",
       "      <td>NaN</td>\n",
       "      <td>NaN</td>\n",
       "      <td>NaN</td>\n",
       "      <td>NaN</td>\n",
       "      <td>8473</td>\n",
       "      <td>2</td>\n",
       "    </tr>\n",
       "    <tr>\n",
       "      <th>top</th>\n",
       "      <td>0001_01</td>\n",
       "      <td>Earth</td>\n",
       "      <td>False</td>\n",
       "      <td>G/734/S</td>\n",
       "      <td>TRAPPIST-1e</td>\n",
       "      <td>NaN</td>\n",
       "      <td>False</td>\n",
       "      <td>NaN</td>\n",
       "      <td>NaN</td>\n",
       "      <td>NaN</td>\n",
       "      <td>NaN</td>\n",
       "      <td>NaN</td>\n",
       "      <td>Gollux Reedall</td>\n",
       "      <td>True</td>\n",
       "    </tr>\n",
       "    <tr>\n",
       "      <th>freq</th>\n",
       "      <td>1</td>\n",
       "      <td>4602</td>\n",
       "      <td>5439</td>\n",
       "      <td>8</td>\n",
       "      <td>5915</td>\n",
       "      <td>NaN</td>\n",
       "      <td>8291</td>\n",
       "      <td>NaN</td>\n",
       "      <td>NaN</td>\n",
       "      <td>NaN</td>\n",
       "      <td>NaN</td>\n",
       "      <td>NaN</td>\n",
       "      <td>2</td>\n",
       "      <td>4378</td>\n",
       "    </tr>\n",
       "    <tr>\n",
       "      <th>mean</th>\n",
       "      <td>NaN</td>\n",
       "      <td>NaN</td>\n",
       "      <td>NaN</td>\n",
       "      <td>NaN</td>\n",
       "      <td>NaN</td>\n",
       "      <td>28.827930</td>\n",
       "      <td>NaN</td>\n",
       "      <td>224.687617</td>\n",
       "      <td>458.077203</td>\n",
       "      <td>173.729169</td>\n",
       "      <td>311.138778</td>\n",
       "      <td>304.854791</td>\n",
       "      <td>NaN</td>\n",
       "      <td>NaN</td>\n",
       "    </tr>\n",
       "    <tr>\n",
       "      <th>std</th>\n",
       "      <td>NaN</td>\n",
       "      <td>NaN</td>\n",
       "      <td>NaN</td>\n",
       "      <td>NaN</td>\n",
       "      <td>NaN</td>\n",
       "      <td>14.489021</td>\n",
       "      <td>NaN</td>\n",
       "      <td>666.717663</td>\n",
       "      <td>1611.489240</td>\n",
       "      <td>604.696458</td>\n",
       "      <td>1136.705535</td>\n",
       "      <td>1145.717189</td>\n",
       "      <td>NaN</td>\n",
       "      <td>NaN</td>\n",
       "    </tr>\n",
       "    <tr>\n",
       "      <th>min</th>\n",
       "      <td>NaN</td>\n",
       "      <td>NaN</td>\n",
       "      <td>NaN</td>\n",
       "      <td>NaN</td>\n",
       "      <td>NaN</td>\n",
       "      <td>0.000000</td>\n",
       "      <td>NaN</td>\n",
       "      <td>0.000000</td>\n",
       "      <td>0.000000</td>\n",
       "      <td>0.000000</td>\n",
       "      <td>0.000000</td>\n",
       "      <td>0.000000</td>\n",
       "      <td>NaN</td>\n",
       "      <td>NaN</td>\n",
       "    </tr>\n",
       "    <tr>\n",
       "      <th>25%</th>\n",
       "      <td>NaN</td>\n",
       "      <td>NaN</td>\n",
       "      <td>NaN</td>\n",
       "      <td>NaN</td>\n",
       "      <td>NaN</td>\n",
       "      <td>19.000000</td>\n",
       "      <td>NaN</td>\n",
       "      <td>0.000000</td>\n",
       "      <td>0.000000</td>\n",
       "      <td>0.000000</td>\n",
       "      <td>0.000000</td>\n",
       "      <td>0.000000</td>\n",
       "      <td>NaN</td>\n",
       "      <td>NaN</td>\n",
       "    </tr>\n",
       "    <tr>\n",
       "      <th>50%</th>\n",
       "      <td>NaN</td>\n",
       "      <td>NaN</td>\n",
       "      <td>NaN</td>\n",
       "      <td>NaN</td>\n",
       "      <td>NaN</td>\n",
       "      <td>27.000000</td>\n",
       "      <td>NaN</td>\n",
       "      <td>0.000000</td>\n",
       "      <td>0.000000</td>\n",
       "      <td>0.000000</td>\n",
       "      <td>0.000000</td>\n",
       "      <td>0.000000</td>\n",
       "      <td>NaN</td>\n",
       "      <td>NaN</td>\n",
       "    </tr>\n",
       "    <tr>\n",
       "      <th>75%</th>\n",
       "      <td>NaN</td>\n",
       "      <td>NaN</td>\n",
       "      <td>NaN</td>\n",
       "      <td>NaN</td>\n",
       "      <td>NaN</td>\n",
       "      <td>38.000000</td>\n",
       "      <td>NaN</td>\n",
       "      <td>47.000000</td>\n",
       "      <td>76.000000</td>\n",
       "      <td>27.000000</td>\n",
       "      <td>59.000000</td>\n",
       "      <td>46.000000</td>\n",
       "      <td>NaN</td>\n",
       "      <td>NaN</td>\n",
       "    </tr>\n",
       "    <tr>\n",
       "      <th>max</th>\n",
       "      <td>NaN</td>\n",
       "      <td>NaN</td>\n",
       "      <td>NaN</td>\n",
       "      <td>NaN</td>\n",
       "      <td>NaN</td>\n",
       "      <td>79.000000</td>\n",
       "      <td>NaN</td>\n",
       "      <td>14327.000000</td>\n",
       "      <td>29813.000000</td>\n",
       "      <td>23492.000000</td>\n",
       "      <td>22408.000000</td>\n",
       "      <td>24133.000000</td>\n",
       "      <td>NaN</td>\n",
       "      <td>NaN</td>\n",
       "    </tr>\n",
       "  </tbody>\n",
       "</table>\n",
       "</div>"
      ],
      "text/plain": [
       "       PassengerId HomePlanet CryoSleep    Cabin  Destination          Age  \\\n",
       "count         8693       8492      8476     8494         8511  8514.000000   \n",
       "unique        8693          3         2     6560            3          NaN   \n",
       "top        0001_01      Earth     False  G/734/S  TRAPPIST-1e          NaN   \n",
       "freq             1       4602      5439        8         5915          NaN   \n",
       "mean           NaN        NaN       NaN      NaN          NaN    28.827930   \n",
       "std            NaN        NaN       NaN      NaN          NaN    14.489021   \n",
       "min            NaN        NaN       NaN      NaN          NaN     0.000000   \n",
       "25%            NaN        NaN       NaN      NaN          NaN    19.000000   \n",
       "50%            NaN        NaN       NaN      NaN          NaN    27.000000   \n",
       "75%            NaN        NaN       NaN      NaN          NaN    38.000000   \n",
       "max            NaN        NaN       NaN      NaN          NaN    79.000000   \n",
       "\n",
       "          VIP   RoomService     FoodCourt  ShoppingMall           Spa  \\\n",
       "count    8490   8512.000000   8510.000000   8485.000000   8510.000000   \n",
       "unique      2           NaN           NaN           NaN           NaN   \n",
       "top     False           NaN           NaN           NaN           NaN   \n",
       "freq     8291           NaN           NaN           NaN           NaN   \n",
       "mean      NaN    224.687617    458.077203    173.729169    311.138778   \n",
       "std       NaN    666.717663   1611.489240    604.696458   1136.705535   \n",
       "min       NaN      0.000000      0.000000      0.000000      0.000000   \n",
       "25%       NaN      0.000000      0.000000      0.000000      0.000000   \n",
       "50%       NaN      0.000000      0.000000      0.000000      0.000000   \n",
       "75%       NaN     47.000000     76.000000     27.000000     59.000000   \n",
       "max       NaN  14327.000000  29813.000000  23492.000000  22408.000000   \n",
       "\n",
       "              VRDeck            Name Transported  \n",
       "count    8505.000000            8493        8693  \n",
       "unique           NaN            8473           2  \n",
       "top              NaN  Gollux Reedall        True  \n",
       "freq             NaN               2        4378  \n",
       "mean      304.854791             NaN         NaN  \n",
       "std      1145.717189             NaN         NaN  \n",
       "min         0.000000             NaN         NaN  \n",
       "25%         0.000000             NaN         NaN  \n",
       "50%         0.000000             NaN         NaN  \n",
       "75%        46.000000             NaN         NaN  \n",
       "max     24133.000000             NaN         NaN  "
      ]
     },
     "execution_count": 5,
     "metadata": {},
     "output_type": "execute_result"
    }
   ],
   "source": [
    "print('Train columns with null values:\\n', data1.isnull().sum())\n",
    "print('-'*10)\n",
    "\n",
    "print('Test/Validation columns with null values:\\n', data_val.isnull().sum())\n",
    "print('-'*10)\n",
    "\n",
    "data_raw.describe(include='all')"
   ]
  },
  {
   "cell_type": "code",
   "execution_count": 6,
   "id": "69ca9897",
   "metadata": {},
   "outputs": [
    {
     "data": {
      "text/plain": [
       "PassengerId     8693\n",
       "HomePlanet         3\n",
       "CryoSleep          2\n",
       "Cabin           6560\n",
       "Destination        3\n",
       "Age               80\n",
       "VIP                2\n",
       "RoomService     1273\n",
       "FoodCourt       1507\n",
       "ShoppingMall    1115\n",
       "Spa             1327\n",
       "VRDeck          1306\n",
       "Name            8473\n",
       "Transported        2\n",
       "dtype: int64"
      ]
     },
     "execution_count": 6,
     "metadata": {},
     "output_type": "execute_result"
    }
   ],
   "source": [
    "data_raw.nunique()"
   ]
  },
  {
   "cell_type": "code",
   "execution_count": 7,
   "id": "690f25e5",
   "metadata": {},
   "outputs": [
    {
     "data": {
      "text/plain": [
       "PassengerId      object\n",
       "HomePlanet       object\n",
       "CryoSleep        object\n",
       "Cabin            object\n",
       "Destination      object\n",
       "Age             float64\n",
       "VIP              object\n",
       "RoomService     float64\n",
       "FoodCourt       float64\n",
       "ShoppingMall    float64\n",
       "Spa             float64\n",
       "VRDeck          float64\n",
       "Name             object\n",
       "Transported        bool\n",
       "dtype: object"
      ]
     },
     "execution_count": 7,
     "metadata": {},
     "output_type": "execute_result"
    }
   ],
   "source": [
    "data_raw.dtypes"
   ]
  },
  {
   "cell_type": "markdown",
   "id": "162d6b99",
   "metadata": {},
   "source": [
    "There are 6 numerical features, 4 categorical features (excluding the target) and 3 descriptive/qualitative features"
   ]
  },
  {
   "cell_type": "code",
   "execution_count": 8,
   "id": "80042735",
   "metadata": {},
   "outputs": [],
   "source": [
    "num_feats = ['RoomService', 'FoodCourt', 'ShoppingMall', 'Spa', 'VRDeck']\n",
    "\n",
    "cat_feats = ['HomePlanet', 'CryoSleep', 'Destination', 'VIP']\n",
    "\n",
    "qual_feats = ['PassengerId', 'Cabin', 'Name']"
   ]
  },
  {
   "cell_type": "markdown",
   "id": "3fd28026",
   "metadata": {},
   "source": [
    "## Clean Data"
   ]
  },
  {
   "cell_type": "code",
   "execution_count": 9,
   "id": "03f1dd7e",
   "metadata": {},
   "outputs": [
    {
     "data": {
      "text/plain": [
       "Text(0.5, 1.0, 'Age group distribution')"
      ]
     },
     "execution_count": 9,
     "metadata": {},
     "output_type": "execute_result"
    },
    {
     "data": {
      "image/png": "[encoded data removed]",
      "text/plain": [
       "<Figure size 1000x400 with 1 Axes>"
      ]
     },
     "metadata": {},
     "output_type": "display_data"
    }
   ],
   "source": [
    "for dataset in data_cleaner:\n",
    "    dataset['Age_group']=np.nan\n",
    "    dataset.loc[dataset['Age']<=12, 'Age_group']='Age_0-12'\n",
    "    dataset.loc[(dataset['Age']>=13) & (dataset['Age']<=17), 'Age_group']='Age_13-17'\n",
    "    dataset.loc[(dataset['Age']>=18) & (dataset['Age']<=25), 'Age_group']='Age_18-25'\n",
    "    dataset.loc[(dataset['Age']>=26) & (dataset['Age']<=30), 'Age_group']='Age_26-30'\n",
    "    dataset.loc[(dataset['Age']>=31) & (dataset['Age']<=50), 'Age_group']='Age_31-50'\n",
    "    dataset.loc[(dataset['Age']>=51), 'Age_group']='Age_51+'\n",
    "    \n",
    "    \n",
    "plt.figure(figsize=(10,4))\n",
    "g = sns.countplot(data=data1, x='Age_group', hue='Transported', order=['Age_0-12', 'Age_13-17', 'Age_18-25', 'Age_26-30', 'Age_31-50', 'Age_51+'])\n",
    "plt.title('Age group distribution')"
   ]
  },
  {
   "cell_type": "code",
   "execution_count": 10,
   "id": "c5b5657f",
   "metadata": {},
   "outputs": [
    {
     "data": {
      "image/png": "[encoded data removed]",
      "text/plain": [
       "<Figure size 1200x400 with 2 Axes>"
      ]
     },
     "metadata": {},
     "output_type": "display_data"
    }
   ],
   "source": [
    "for dataset in data_cleaner:\n",
    "    dataset['Expenditure']=dataset[num_feats].sum(axis=1)\n",
    "    dataset['No_spending']=(dataset['Expenditure']==0).astype(int)\n",
    "    \n",
    "fig = plt.figure(figsize=(12,4))\n",
    "plt.subplot(1, 2, 1)\n",
    "sns.histplot(data=data1, x='Expenditure', hue='Transported', bins=200)\n",
    "plt.title('Total expenditure (truncated)')\n",
    "plt.ylim([0, 200])\n",
    "plt.xlim([0, 20000])\n",
    "\n",
    "plt.subplot(1, 2, 2)\n",
    "sns.countplot(data=data1, x='No_spending', hue='Transported')\n",
    "plt.title('No spending indicator')\n",
    "fig.tight_layout()"
   ]
  },
  {
   "cell_type": "code",
   "execution_count": 11,
   "id": "6ff439fa",
   "metadata": {},
   "outputs": [
    {
     "data": {
      "image/png": "[encoded data removed]",
      "text/plain": [
       "<Figure size 2000x400 with 2 Axes>"
      ]
     },
     "metadata": {},
     "output_type": "display_data"
    }
   ],
   "source": [
    "for dataset in data_cleaner:\n",
    "    dataset['Group'] = dataset['PassengerId'].apply(lambda x: x.split('_')[0]).astype(int)\n",
    "    dataset['Group_size'] =dataset['Group'].map(lambda x: dataset['Group'].value_counts()[x])\n",
    "\n",
    "plt.figure(figsize=(20,4))\n",
    "plt.subplot(1, 2, 1)\n",
    "sns.histplot(data=data1, x='Group', hue='Transported', binwidth=1)\n",
    "plt.title('Group')\n",
    "\n",
    "plt.subplot(1, 2, 2)\n",
    "sns.countplot(data=data1, x='Group_size', hue='Transported')\n",
    "plt.title('Group size')\n",
    "fig.tight_layout()"
   ]
  },
  {
   "cell_type": "code",
   "execution_count": 12,
   "id": "a97c70b2",
   "metadata": {},
   "outputs": [
    {
     "data": {
      "text/plain": [
       "(0.0, 3000.0)"
      ]
     },
     "execution_count": 12,
     "metadata": {},
     "output_type": "execute_result"
    },
    {
     "data": {
      "image/png": "[encoded data removed]",
      "text/plain": [
       "<Figure size 1000x400 with 1 Axes>"
      ]
     },
     "metadata": {},
     "output_type": "display_data"
    }
   ],
   "source": [
    "for dataset in data_cleaner:\n",
    "    dataset['Solo'] =(dataset['Group_size']==1).astype(int)\n",
    "    \n",
    "    \n",
    "plt.figure(figsize=(10,4))\n",
    "sns.countplot(data=data1, x='Solo', hue='Transported')\n",
    "plt.title('Passenger travelling solo or not')\n",
    "plt.ylim([0, 3000])"
   ]
  },
  {
   "cell_type": "markdown",
   "id": "4ca067d0",
   "metadata": {},
   "source": [
    "# Verifying columns probably will drop from the dataset"
   ]
  },
  {
   "cell_type": "code",
   "execution_count": 13,
   "id": "6272e984",
   "metadata": {},
   "outputs": [
    {
     "data": {
      "image/png": "[encoded data removed]",
      "text/plain": [
       "<Figure size 1000x1200 with 3 Axes>"
      ]
     },
     "metadata": {},
     "output_type": "display_data"
    }
   ],
   "source": [
    "for dataset in data_cleaner:\n",
    "    # Replace NaN's with outliers for now\n",
    "    dataset['Cabin'].fillna('Z/9999/Z', inplace = True)\n",
    "    \n",
    "    # Split the information in Cabin deck/number/side\n",
    "    dataset['Cabin_deck'] = dataset['Cabin'].apply(lambda x: x.split('/')[0])\n",
    "    dataset['Cabin_number'] = dataset['Cabin'].apply(lambda x: x.split('/')[1]).astype(int)\n",
    "    dataset['Cabin_side'] = dataset['Cabin'].apply(lambda x: x.split('/')[2])\n",
    "    \n",
    "    # Put NaN's back in\n",
    "    \n",
    "    dataset.loc[dataset['Cabin_deck'] =='Z', 'Cabin_deck']=np.nan\n",
    "    dataset.loc[dataset['Cabin_number'] =='9999', 'Cabin_number']=np.nan\n",
    "    dataset.loc[dataset['Cabin_side'] =='Z', 'Cabin_side']=np.nan\n",
    "    \n",
    "    # Drop Cabin\n",
    "    dataset.drop('Cabin', axis=1, inplace=True)\n",
    "    \n",
    "    \n",
    "    \n",
    "fig = plt.figure(figsize=(10,12))\n",
    "plt.subplot(3, 1, 1)\n",
    "sns.countplot(data=data1, x='Cabin_deck', hue='Transported', order=['A', 'B', 'C', 'D', 'E', 'F', 'G', 'T'])\n",
    "plt.title('Cabin deck')\n",
    "\n",
    "plt.subplot(3, 1, 2)\n",
    "sns.histplot(data=data1, x='Cabin_number', hue='Transported', binwidth=20)\n",
    "plt.vlines(300, ymin=0, ymax=200, color='black')\n",
    "plt.vlines(600, ymin=0, ymax=200, color='black')\n",
    "plt.vlines(900, ymin=0, ymax=200, color='black')\n",
    "plt.vlines(1200, ymin=0, ymax=200, color='black')\n",
    "plt.vlines(1500, ymin=0, ymax=200, color='black')\n",
    "plt.vlines(1800, ymin=0, ymax=200, color='black')\n",
    "plt.title('Cabin number')\n",
    "plt.xlim([0, 2000])\n",
    "\n",
    "plt.subplot(3, 1, 3)\n",
    "sns.countplot(data=data1, x='Cabin_side', hue='Transported')\n",
    "plt.title('Cabin side')\n",
    "fig.tight_layout()"
   ]
  },
  {
   "cell_type": "code",
   "execution_count": 14,
   "id": "4d5b4747",
   "metadata": {},
   "outputs": [
    {
     "data": {
      "image/png": "[encoded data removed]",
      "text/plain": [
       "<Figure size 1000x400 with 1 Axes>"
      ]
     },
     "metadata": {},
     "output_type": "display_data"
    }
   ],
   "source": [
    "for dataset in data_cleaner:\n",
    "    # New features - training set\n",
    "    dataset['Cabin_region1']=(dataset['Cabin_number']<300).astype(int)   # one-hot encoding\n",
    "    dataset['Cabin_region2']=((dataset['Cabin_number']>=300) & (dataset['Cabin_number']<600)).astype(int)\n",
    "    dataset['Cabin_region3']=((dataset['Cabin_number']>=600) & (dataset['Cabin_number']<900)).astype(int)\n",
    "    dataset['Cabin_region4']=((dataset['Cabin_number']>=900) & (dataset['Cabin_number']<1200)).astype(int)\n",
    "    dataset['Cabin_region5']=((dataset['Cabin_number']>=1200) & (dataset['Cabin_number']<1500)).astype(int)\n",
    "    dataset['Cabin_region6']=((dataset['Cabin_number']>=1500) & (dataset['Cabin_number']<1800)).astype(int)\n",
    "    dataset['Cabin_region7']=(dataset['Cabin_number']>=1800).astype(int)\n",
    "\n",
    "# Plot distribution of new features\n",
    "plt.figure(figsize=(10,4))\n",
    "data1['Cabin_regions_plot']=(data1['Cabin_region1']+2*data1['Cabin_region2']+3*data1['Cabin_region3']+4*data1['Cabin_region4']+5*data1['Cabin_region5']+6*data1['Cabin_region6']+7*data1['Cabin_region7']).astype(int)\n",
    "sns.countplot(data=data1, x='Cabin_regions_plot', hue='Transported')\n",
    "plt.title('Cabin regions')\n",
    "data1.drop('Cabin_regions_plot', axis=1, inplace=True)"
   ]
  },
  {
   "cell_type": "code",
   "execution_count": 15,
   "id": "aede611d",
   "metadata": {},
   "outputs": [
    {
     "data": {
      "text/plain": [
       "Text(0.5, 1.0, 'Family size')"
      ]
     },
     "execution_count": 15,
     "metadata": {},
     "output_type": "execute_result"
    },
    {
     "data": {
      "image/png": "[encoded data removed]",
      "text/plain": [
       "<Figure size 1200x400 with 1 Axes>"
      ]
     },
     "metadata": {},
     "output_type": "display_data"
    }
   ],
   "source": [
    "for dataset in data_cleaner:\n",
    "    # Calculate family size from last name.\n",
    "    # Replace NaN's with outliers for now (so we can split feature)\n",
    "    dataset['Name'].fillna('Unknown Unknown', inplace=True)\n",
    "    # New feature - Surname\n",
    "    dataset['Surname']=dataset['Name'].str.split().str[-1]\n",
    "    # New feature - Family size\n",
    "    dataset['Family_size']=dataset['Surname'].map(lambda x: dataset['Surname'].value_counts()[x])\n",
    "    # Put Nan's back in (we will fill these later)\n",
    "    dataset.loc[dataset['Surname']=='Unknown','Surname']=np.nan\n",
    "    dataset.loc[dataset['Family_size']>100,'Family_size']=np.nan\n",
    "    # Drop name (we don't need it anymore)\n",
    "    dataset.drop('Name', axis=1, inplace=True)\n",
    "\n",
    "# New feature distribution\n",
    "plt.figure(figsize=(12,4))\n",
    "sns.countplot(data=data1, x='Family_size', hue='Transported')\n",
    "plt.title('Family size')"
   ]
  },
  {
   "cell_type": "markdown",
   "id": "f267f3e2",
   "metadata": {},
   "source": [
    "# Missing Values"
   ]
  },
  {
   "cell_type": "code",
   "execution_count": 16,
   "id": "c58b1e59",
   "metadata": {},
   "outputs": [
    {
     "name": "stdout",
     "output_type": "stream",
     "text": [
      "              Number_missing  Percentage_missing\n",
      "HomePlanet               201                2.31\n",
      "CryoSleep                217                2.50\n",
      "Destination              182                2.09\n",
      "Age                      179                2.06\n",
      "VIP                      203                2.34\n",
      "RoomService              181                2.08\n",
      "FoodCourt                183                2.11\n",
      "ShoppingMall             208                2.39\n",
      "Spa                      183                2.11\n",
      "VRDeck                   188                2.16\n",
      "Age_group                179                2.06\n",
      "Cabin_deck               199                2.29\n",
      "Cabin_side               199                2.29\n",
      "Surname                  200                2.30\n",
      "Family_size              200                2.30 \n",
      "\n",
      "              Number_missing  Percentage_missing\n",
      "HomePlanet                87                2.03\n",
      "CryoSleep                 93                2.17\n",
      "Destination               92                2.15\n",
      "Age                       91                2.13\n",
      "VIP                       93                2.17\n",
      "RoomService               82                1.92\n",
      "FoodCourt                106                2.48\n",
      "ShoppingMall              98                2.29\n",
      "Spa                      101                2.36\n",
      "VRDeck                    80                1.87\n",
      "Age_group                 91                2.13\n",
      "Cabin_deck               100                2.34\n",
      "Cabin_side               100                2.34\n",
      "Surname                   94                2.20 \n",
      "\n"
     ]
    }
   ],
   "source": [
    "data1['Transported'].astype(int)\n",
    "\n",
    "for dataset in data_cleaner:\n",
    "    na_cols = dataset.columns[dataset.isna().any()].tolist()\n",
    "    mv=pd.DataFrame(dataset[na_cols].isna().sum(), columns=['Number_missing'])\n",
    "    mv['Percentage_missing']=np.round(100*mv['Number_missing']/len(dataset),2)\n",
    "    print(mv, '\\n')"
   ]
  },
  {
   "cell_type": "code",
   "execution_count": 17,
   "id": "58da155c",
   "metadata": {},
   "outputs": [
    {
     "data": {
      "image/png": "[encoded data removed]",
      "text/plain": [
       "<Figure size 1000x400 with 1 Axes>"
      ]
     },
     "metadata": {},
     "output_type": "display_data"
    }
   ],
   "source": [
    "data1['na_count']=data1.isna().sum(axis=1)\n",
    "plt.figure(figsize=(10,4))\n",
    "sns.countplot(data=data1, x='na_count', hue='Transported')\n",
    "plt.title('Number of missing entries by passenger')\n",
    "data1.drop('na_count', axis=1,inplace=True)"
   ]
  },
  {
   "cell_type": "markdown",
   "id": "e1c9ec27",
   "metadata": {},
   "source": [
    "# Strategy\n",
    "\n",
    "For this notebook, the strategy to deal with missing values is just use the median for continuous features and the mode for categorical features, this will work 'well enough', but the objective is comparate the accuracy with the other strategy much more complexity done in other notebook."
   ]
  },
  {
   "cell_type": "code",
   "execution_count": 18,
   "id": "be783259",
   "metadata": {},
   "outputs": [
    {
     "data": {
      "text/plain": [
       "['HomePlanet', 'CryoSleep', 'Destination', 'VIP']"
      ]
     },
     "execution_count": 18,
     "metadata": {},
     "output_type": "execute_result"
    }
   ],
   "source": [
    "cat_feats"
   ]
  },
  {
   "cell_type": "code",
   "execution_count": 19,
   "id": "acd98e88",
   "metadata": {},
   "outputs": [
    {
     "data": {
      "text/plain": [
       "['RoomService', 'FoodCourt', 'ShoppingMall', 'Spa', 'VRDeck']"
      ]
     },
     "execution_count": 19,
     "metadata": {},
     "output_type": "execute_result"
    }
   ],
   "source": [
    "num_feats"
   ]
  },
  {
   "cell_type": "code",
   "execution_count": 20,
   "id": "90b75cb8",
   "metadata": {},
   "outputs": [
    {
     "data": {
      "text/plain": [
       "['PassengerId', 'Cabin', 'Name']"
      ]
     },
     "execution_count": 20,
     "metadata": {},
     "output_type": "execute_result"
    }
   ],
   "source": [
    "qual_feats"
   ]
  },
  {
   "cell_type": "markdown",
   "id": "08ce8487",
   "metadata": {},
   "source": [
    "# Identify the values most commons\n",
    "\n",
    "Using only train.csv"
   ]
  },
  {
   "cell_type": "code",
   "execution_count": 21,
   "id": "358e13ab",
   "metadata": {},
   "outputs": [
    {
     "data": {
      "text/plain": [
       "'TRAPPIST-1e'"
      ]
     },
     "execution_count": 21,
     "metadata": {},
     "output_type": "execute_result"
    }
   ],
   "source": [
    "string_count_Destination = data1.Destination.value_counts()\n",
    "max_string_Destination = string_count_Destination.idxmax()\n",
    "max_string_Destination"
   ]
  },
  {
   "cell_type": "code",
   "execution_count": 22,
   "id": "67047ae3",
   "metadata": {},
   "outputs": [
    {
     "data": {
      "text/plain": [
       "'Earth'"
      ]
     },
     "execution_count": 22,
     "metadata": {},
     "output_type": "execute_result"
    }
   ],
   "source": [
    "string_count_HomePlanet = data1.HomePlanet.value_counts()\n",
    "max_string_HomePlanet = string_count_HomePlanet.idxmax()\n",
    "max_string_HomePlanet"
   ]
  },
  {
   "cell_type": "code",
   "execution_count": 23,
   "id": "2c0c91be",
   "metadata": {},
   "outputs": [
    {
     "data": {
      "text/plain": [
       "False"
      ]
     },
     "execution_count": 23,
     "metadata": {},
     "output_type": "execute_result"
    }
   ],
   "source": [
    "string_count_VIP = data1.VIP.value_counts()\n",
    "max_string_VIP = string_count_VIP.idxmax()\n",
    "max_string_VIP"
   ]
  },
  {
   "cell_type": "code",
   "execution_count": 24,
   "id": "364ed0e5",
   "metadata": {},
   "outputs": [
    {
     "data": {
      "text/plain": [
       "False"
      ]
     },
     "execution_count": 24,
     "metadata": {},
     "output_type": "execute_result"
    }
   ],
   "source": [
    "string_count_CryoSleep = data1.CryoSleep.value_counts()\n",
    "max_string_CryoSleep = string_count_CryoSleep.idxmax()\n",
    "max_string_CryoSleep"
   ]
  },
  {
   "cell_type": "code",
   "execution_count": 25,
   "id": "a91c8620",
   "metadata": {},
   "outputs": [
    {
     "data": {
      "text/plain": [
       "27.0"
      ]
     },
     "execution_count": 25,
     "metadata": {},
     "output_type": "execute_result"
    }
   ],
   "source": [
    "median_value_Age = data1.Age.median()\n",
    "median_value_Age"
   ]
  },
  {
   "cell_type": "markdown",
   "id": "6afa58a9",
   "metadata": {},
   "source": [
    "# Filling NaN values"
   ]
  },
  {
   "cell_type": "code",
   "execution_count": 26,
   "id": "ac8cb15a",
   "metadata": {},
   "outputs": [],
   "source": [
    "data1.Destination.fillna(max_string_Destination, inplace=True)\n",
    "data1.HomePlanet.fillna(max_string_HomePlanet, inplace=True)\n",
    "data1.VIP.fillna(max_string_VIP, inplace=True)\n",
    "data1.CryoSleep.fillna(max_string_CryoSleep, inplace=True)\n",
    "data1.Age.fillna(median_value_Age, inplace=True)\n",
    "\n",
    "\n",
    "# Converting formats VIP, CryoSleep into DataType\n",
    "data1.VIP = data1.VIP.astype(int)\n",
    "data1.CryoSleep = data1.CryoSleep.astype(int)\n",
    "data1.Transported = data1.Transported.astype(int)"
   ]
  },
  {
   "cell_type": "markdown",
   "id": "9364404f",
   "metadata": {},
   "source": [
    "# Veryfying that NaN Values are Removed"
   ]
  },
  {
   "cell_type": "code",
   "execution_count": 27,
   "id": "4cf14470",
   "metadata": {},
   "outputs": [
    {
     "name": "stdout",
     "output_type": "stream",
     "text": [
      "Train columns with null values:\n",
      " PassengerId        0\n",
      "HomePlanet         0\n",
      "CryoSleep          0\n",
      "Destination        0\n",
      "Age                0\n",
      "VIP                0\n",
      "RoomService      181\n",
      "FoodCourt        183\n",
      "ShoppingMall     208\n",
      "Spa              183\n",
      "VRDeck           188\n",
      "Transported        0\n",
      "Age_group        179\n",
      "Expenditure        0\n",
      "No_spending        0\n",
      "Group              0\n",
      "Group_size         0\n",
      "Solo               0\n",
      "Cabin_deck       199\n",
      "Cabin_number       0\n",
      "Cabin_side       199\n",
      "Cabin_region1      0\n",
      "Cabin_region2      0\n",
      "Cabin_region3      0\n",
      "Cabin_region4      0\n",
      "Cabin_region5      0\n",
      "Cabin_region6      0\n",
      "Cabin_region7      0\n",
      "Surname          200\n",
      "Family_size      200\n",
      "dtype: int64\n"
     ]
    }
   ],
   "source": [
    "print('Train columns with null values:\\n',data1.isna().sum())"
   ]
  },
  {
   "cell_type": "markdown",
   "id": "490e1ed9",
   "metadata": {},
   "source": [
    "# Dummy Variable and Standardization columns\n",
    "\n",
    "Create a DummyVariables for HomePlanet and Destination\n",
    "\n",
    "and standardization RoomService, FoodCourt, ShoppingMall, VRDeck using StandardScaler Library\n",
    "\n",
    "# After that dropping columns\n",
    "\n",
    "PassengerId, Destination, HomePlanet, RoomService, FoodCourt, ShoppingMall, Spa, VRDeck, Age_group, Expenditure, Cabin_deck, Surname, Family_size"
   ]
  },
  {
   "cell_type": "code",
   "execution_count": 28,
   "id": "20abf42b",
   "metadata": {},
   "outputs": [
    {
     "name": "stdout",
     "output_type": "stream",
     "text": [
      "<class 'pandas.core.frame.DataFrame'>\n",
      "RangeIndex: 8693 entries, 0 to 8692\n",
      "Data columns (total 30 columns):\n",
      " #   Column         Non-Null Count  Dtype  \n",
      "---  ------         --------------  -----  \n",
      " 0   PassengerId    8693 non-null   object \n",
      " 1   HomePlanet     8693 non-null   object \n",
      " 2   CryoSleep      8693 non-null   int32  \n",
      " 3   Destination    8693 non-null   object \n",
      " 4   Age            8693 non-null   float64\n",
      " 5   VIP            8693 non-null   int32  \n",
      " 6   RoomService    8512 non-null   float64\n",
      " 7   FoodCourt      8510 non-null   float64\n",
      " 8   ShoppingMall   8485 non-null   float64\n",
      " 9   Spa            8510 non-null   float64\n",
      " 10  VRDeck         8505 non-null   float64\n",
      " 11  Transported    8693 non-null   int32  \n",
      " 12  Age_group      8514 non-null   object \n",
      " 13  Expenditure    8693 non-null   float64\n",
      " 14  No_spending    8693 non-null   int32  \n",
      " 15  Group          8693 non-null   int32  \n",
      " 16  Group_size     8693 non-null   int64  \n",
      " 17  Solo           8693 non-null   int32  \n",
      " 18  Cabin_deck     8494 non-null   object \n",
      " 19  Cabin_number   8693 non-null   float64\n",
      " 20  Cabin_side     8494 non-null   object \n",
      " 21  Cabin_region1  8693 non-null   int32  \n",
      " 22  Cabin_region2  8693 non-null   int32  \n",
      " 23  Cabin_region3  8693 non-null   int32  \n",
      " 24  Cabin_region4  8693 non-null   int32  \n",
      " 25  Cabin_region5  8693 non-null   int32  \n",
      " 26  Cabin_region6  8693 non-null   int32  \n",
      " 27  Cabin_region7  8693 non-null   int32  \n",
      " 28  Surname        8493 non-null   object \n",
      " 29  Family_size    8493 non-null   float64\n",
      "dtypes: float64(9), int32(13), int64(1), object(7)\n",
      "memory usage: 1.6+ MB\n"
     ]
    }
   ],
   "source": [
    "data1.info()"
   ]
  },
  {
   "cell_type": "code",
   "execution_count": 29,
   "id": "73169c70",
   "metadata": {},
   "outputs": [],
   "source": [
    "#data1.drop(['PassengerId', 'RoomService', 'FoodCourt', 'ShoppingMall', 'Spa', 'VRDeck', 'Age_group', 'Expenditure', 'Cabin_deck', 'Surname', 'Family_size'], axis=1,inplace=True)"
   ]
  },
  {
   "cell_type": "code",
   "execution_count": 30,
   "id": "1d77f98d",
   "metadata": {},
   "outputs": [
    {
     "data": {
      "image/png": "[encoded data removed]",
      "text/plain": [
       "<Figure size 1200x400 with 1 Axes>"
      ]
     },
     "metadata": {},
     "output_type": "display_data"
    }
   ],
   "source": [
    "fig = plt.figure(figsize=(12,4))\n",
    "sns.countplot(data=data1, x='Cabin_side', hue='Transported')\n",
    "plt.title('Cabin_side vs Transported')\n",
    "fig.tight_layout()"
   ]
  },
  {
   "cell_type": "code",
   "execution_count": 31,
   "id": "ec661cb0",
   "metadata": {},
   "outputs": [
    {
     "name": "stdout",
     "output_type": "stream",
     "text": [
      "<class 'pandas.core.frame.DataFrame'>\n",
      "RangeIndex: 8693 entries, 0 to 8692\n",
      "Data columns (total 30 columns):\n",
      " #   Column         Non-Null Count  Dtype  \n",
      "---  ------         --------------  -----  \n",
      " 0   PassengerId    8693 non-null   object \n",
      " 1   HomePlanet     8693 non-null   object \n",
      " 2   CryoSleep      8693 non-null   int32  \n",
      " 3   Destination    8693 non-null   object \n",
      " 4   Age            8693 non-null   float64\n",
      " 5   VIP            8693 non-null   int32  \n",
      " 6   RoomService    8512 non-null   float64\n",
      " 7   FoodCourt      8510 non-null   float64\n",
      " 8   ShoppingMall   8485 non-null   float64\n",
      " 9   Spa            8510 non-null   float64\n",
      " 10  VRDeck         8505 non-null   float64\n",
      " 11  Transported    8693 non-null   int32  \n",
      " 12  Age_group      8514 non-null   object \n",
      " 13  Expenditure    8693 non-null   float64\n",
      " 14  No_spending    8693 non-null   int32  \n",
      " 15  Group          8693 non-null   int32  \n",
      " 16  Group_size     8693 non-null   int64  \n",
      " 17  Solo           8693 non-null   int32  \n",
      " 18  Cabin_deck     8494 non-null   object \n",
      " 19  Cabin_number   8693 non-null   float64\n",
      " 20  Cabin_side     8494 non-null   object \n",
      " 21  Cabin_region1  8693 non-null   int32  \n",
      " 22  Cabin_region2  8693 non-null   int32  \n",
      " 23  Cabin_region3  8693 non-null   int32  \n",
      " 24  Cabin_region4  8693 non-null   int32  \n",
      " 25  Cabin_region5  8693 non-null   int32  \n",
      " 26  Cabin_region6  8693 non-null   int32  \n",
      " 27  Cabin_region7  8693 non-null   int32  \n",
      " 28  Surname        8493 non-null   object \n",
      " 29  Family_size    8493 non-null   float64\n",
      "dtypes: float64(9), int32(13), int64(1), object(7)\n",
      "memory usage: 1.6+ MB\n"
     ]
    }
   ],
   "source": [
    "data1.info()"
   ]
  },
  {
   "cell_type": "code",
   "execution_count": 32,
   "id": "d7fe3efd",
   "metadata": {},
   "outputs": [],
   "source": [
    "dummy_home = pd.get_dummies(data1.HomePlanet, dtype=int)\n",
    "home_df = pd.DataFrame(dummy_home)\n",
    "data2 = pd.concat([data1, home_df], axis='columns')"
   ]
  },
  {
   "cell_type": "code",
   "execution_count": 33,
   "id": "baa06994",
   "metadata": {},
   "outputs": [],
   "source": [
    "dummy_dest = pd.get_dummies(data2.Destination, dtype=int)\n",
    "dest_df = pd.DataFrame(dummy_dest)\n",
    "data3 = pd.concat([data2, dest_df], axis='columns')"
   ]
  },
  {
   "cell_type": "markdown",
   "id": "187dbe23",
   "metadata": {},
   "source": [
    "# Dropping HomePlanet and Destination"
   ]
  },
  {
   "cell_type": "code",
   "execution_count": 34,
   "id": "393e63cd",
   "metadata": {},
   "outputs": [
    {
     "name": "stdout",
     "output_type": "stream",
     "text": [
      "<class 'pandas.core.frame.DataFrame'>\n",
      "RangeIndex: 8693 entries, 0 to 8692\n",
      "Data columns (total 36 columns):\n",
      " #   Column         Non-Null Count  Dtype  \n",
      "---  ------         --------------  -----  \n",
      " 0   PassengerId    8693 non-null   object \n",
      " 1   HomePlanet     8693 non-null   object \n",
      " 2   CryoSleep      8693 non-null   int32  \n",
      " 3   Destination    8693 non-null   object \n",
      " 4   Age            8693 non-null   float64\n",
      " 5   VIP            8693 non-null   int32  \n",
      " 6   RoomService    8512 non-null   float64\n",
      " 7   FoodCourt      8510 non-null   float64\n",
      " 8   ShoppingMall   8485 non-null   float64\n",
      " 9   Spa            8510 non-null   float64\n",
      " 10  VRDeck         8505 non-null   float64\n",
      " 11  Transported    8693 non-null   int32  \n",
      " 12  Age_group      8514 non-null   object \n",
      " 13  Expenditure    8693 non-null   float64\n",
      " 14  No_spending    8693 non-null   int32  \n",
      " 15  Group          8693 non-null   int32  \n",
      " 16  Group_size     8693 non-null   int64  \n",
      " 17  Solo           8693 non-null   int32  \n",
      " 18  Cabin_deck     8494 non-null   object \n",
      " 19  Cabin_number   8693 non-null   float64\n",
      " 20  Cabin_side     8494 non-null   object \n",
      " 21  Cabin_region1  8693 non-null   int32  \n",
      " 22  Cabin_region2  8693 non-null   int32  \n",
      " 23  Cabin_region3  8693 non-null   int32  \n",
      " 24  Cabin_region4  8693 non-null   int32  \n",
      " 25  Cabin_region5  8693 non-null   int32  \n",
      " 26  Cabin_region6  8693 non-null   int32  \n",
      " 27  Cabin_region7  8693 non-null   int32  \n",
      " 28  Surname        8493 non-null   object \n",
      " 29  Family_size    8493 non-null   float64\n",
      " 30  Earth          8693 non-null   int32  \n",
      " 31  Europa         8693 non-null   int32  \n",
      " 32  Mars           8693 non-null   int32  \n",
      " 33  55 Cancri e    8693 non-null   int32  \n",
      " 34  PSO J318.5-22  8693 non-null   int32  \n",
      " 35  TRAPPIST-1e    8693 non-null   int32  \n",
      "dtypes: float64(9), int32(19), int64(1), object(7)\n",
      "memory usage: 1.8+ MB\n"
     ]
    }
   ],
   "source": [
    "data3.info()"
   ]
  },
  {
   "cell_type": "code",
   "execution_count": 35,
   "id": "64ea4dc4",
   "metadata": {},
   "outputs": [],
   "source": [
    "data3.drop(['HomePlanet', 'Destination'], axis='columns', inplace=True)"
   ]
  },
  {
   "cell_type": "code",
   "execution_count": 36,
   "id": "a0d7fe9f",
   "metadata": {},
   "outputs": [
    {
     "data": {
      "text/plain": [
       "['HomePlanet', 'CryoSleep', 'Destination', 'VIP']"
      ]
     },
     "execution_count": 36,
     "metadata": {},
     "output_type": "execute_result"
    }
   ],
   "source": [
    "cat_feats"
   ]
  },
  {
   "cell_type": "code",
   "execution_count": 37,
   "id": "a135eac2",
   "metadata": {},
   "outputs": [
    {
     "data": {
      "text/plain": [
       "['PassengerId', 'Cabin', 'Name']"
      ]
     },
     "execution_count": 37,
     "metadata": {},
     "output_type": "execute_result"
    }
   ],
   "source": [
    "qual_feats"
   ]
  },
  {
   "cell_type": "code",
   "execution_count": 38,
   "id": "9c3d90ee",
   "metadata": {},
   "outputs": [
    {
     "data": {
      "text/plain": [
       "['RoomService', 'FoodCourt', 'ShoppingMall', 'Spa', 'VRDeck']"
      ]
     },
     "execution_count": 38,
     "metadata": {},
     "output_type": "execute_result"
    }
   ],
   "source": [
    "num_feats"
   ]
  },
  {
   "cell_type": "code",
   "execution_count": 39,
   "id": "515545b8",
   "metadata": {},
   "outputs": [],
   "source": [
    "subset_cols = [num_feats]"
   ]
  },
  {
   "cell_type": "code",
   "execution_count": 40,
   "id": "1b57fdd0",
   "metadata": {},
   "outputs": [],
   "source": [
    "subset_df = data3[num_feats]"
   ]
  },
  {
   "cell_type": "code",
   "execution_count": 41,
   "id": "c83e5c70",
   "metadata": {},
   "outputs": [],
   "source": [
    "scaler = StandardScaler()"
   ]
  },
  {
   "cell_type": "code",
   "execution_count": 42,
   "id": "a6259ebb",
   "metadata": {},
   "outputs": [
    {
     "data": {
      "text/html": [
       "<style>#sk-container-id-1 {color: black;background-color: white;}#sk-container-id-1 pre{padding: 0;}#sk-container-id-1 div.sk-toggleable {background-color: white;}#sk-container-id-1 label.sk-toggleable__label {cursor: pointer;display: block;width: 100%;margin-bottom: 0;padding: 0.3em;box-sizing: border-box;text-align: center;}#sk-container-id-1 label.sk-toggleable__label-arrow:before {content: \"▸\";float: left;margin-right: 0.25em;color: #696969;}#sk-container-id-1 label.sk-toggleable__label-arrow:hover:before {color: black;}#sk-container-id-1 div.sk-estimator:hover label.sk-toggleable__label-arrow:before {color: black;}#sk-container-id-1 div.sk-toggleable__content {max-height: 0;max-width: 0;overflow: hidden;text-align: left;background-color: #f0f8ff;}#sk-container-id-1 div.sk-toggleable__content pre {margin: 0.2em;color: black;border-radius: 0.25em;background-color: #f0f8ff;}#sk-container-id-1 input.sk-toggleable__control:checked~div.sk-toggleable__content {max-height: 200px;max-width: 100%;overflow: auto;}#sk-container-id-1 input.sk-toggleable__control:checked~label.sk-toggleable__label-arrow:before {content: \"▾\";}#sk-container-id-1 div.sk-estimator input.sk-toggleable__control:checked~label.sk-toggleable__label {background-color: #d4ebff;}#sk-container-id-1 div.sk-label input.sk-toggleable__control:checked~label.sk-toggleable__label {background-color: #d4ebff;}#sk-container-id-1 input.sk-hidden--visually {border: 0;clip: rect(1px 1px 1px 1px);clip: rect(1px, 1px, 1px, 1px);height: 1px;margin: -1px;overflow: hidden;padding: 0;position: absolute;width: 1px;}#sk-container-id-1 div.sk-estimator {font-family: monospace;background-color: #f0f8ff;border: 1px dotted black;border-radius: 0.25em;box-sizing: border-box;margin-bottom: 0.5em;}#sk-container-id-1 div.sk-estimator:hover {background-color: #d4ebff;}#sk-container-id-1 div.sk-parallel-item::after {content: \"\";width: 100%;border-bottom: 1px solid gray;flex-grow: 1;}#sk-container-id-1 div.sk-label:hover label.sk-toggleable__label {background-color: #d4ebff;}#sk-container-id-1 div.sk-serial::before {content: \"\";position: absolute;border-left: 1px solid gray;box-sizing: border-box;top: 0;bottom: 0;left: 50%;z-index: 0;}#sk-container-id-1 div.sk-serial {display: flex;flex-direction: column;align-items: center;background-color: white;padding-right: 0.2em;padding-left: 0.2em;position: relative;}#sk-container-id-1 div.sk-item {position: relative;z-index: 1;}#sk-container-id-1 div.sk-parallel {display: flex;align-items: stretch;justify-content: center;background-color: white;position: relative;}#sk-container-id-1 div.sk-item::before, #sk-container-id-1 div.sk-parallel-item::before {content: \"\";position: absolute;border-left: 1px solid gray;box-sizing: border-box;top: 0;bottom: 0;left: 50%;z-index: -1;}#sk-container-id-1 div.sk-parallel-item {display: flex;flex-direction: column;z-index: 1;position: relative;background-color: white;}#sk-container-id-1 div.sk-parallel-item:first-child::after {align-self: flex-end;width: 50%;}#sk-container-id-1 div.sk-parallel-item:last-child::after {align-self: flex-start;width: 50%;}#sk-container-id-1 div.sk-parallel-item:only-child::after {width: 0;}#sk-container-id-1 div.sk-dashed-wrapped {border: 1px dashed gray;margin: 0 0.4em 0.5em 0.4em;box-sizing: border-box;padding-bottom: 0.4em;background-color: white;}#sk-container-id-1 div.sk-label label {font-family: monospace;font-weight: bold;display: inline-block;line-height: 1.2em;}#sk-container-id-1 div.sk-label-container {text-align: center;}#sk-container-id-1 div.sk-container {/* jupyter's `normalize.less` sets `[hidden] { display: none; }` but bootstrap.min.css set `[hidden] { display: none !important; }` so we also need the `!important` here to be able to override the default hidden behavior on the sphinx rendered scikit-learn.org. See: https://github.com/scikit-learn/scikit-learn/issues/21755 */display: inline-block !important;position: relative;}#sk-container-id-1 div.sk-text-repr-fallback {display: none;}</style><div id=\"sk-container-id-1\" class=\"sk-top-container\"><div class=\"sk-text-repr-fallback\"><pre>StandardScaler()</pre><b>In a Jupyter environment, please rerun this cell to show the HTML representation or trust the notebook. <br />On GitHub, the HTML representation is unable to render, please try loading this page with nbviewer.org.</b></div><div class=\"sk-container\" hidden><div class=\"sk-item\"><div class=\"sk-estimator sk-toggleable\"><input class=\"sk-toggleable__control sk-hidden--visually\" id=\"sk-estimator-id-1\" type=\"checkbox\" checked><label for=\"sk-estimator-id-1\" class=\"sk-toggleable__label sk-toggleable__label-arrow\">StandardScaler</label><div class=\"sk-toggleable__content\"><pre>StandardScaler()</pre></div></div></div></div></div>"
      ],
      "text/plain": [
       "StandardScaler()"
      ]
     },
     "execution_count": 42,
     "metadata": {},
     "output_type": "execute_result"
    }
   ],
   "source": [
    "scaler.fit(subset_df)"
   ]
  },
  {
   "cell_type": "code",
   "execution_count": 43,
   "id": "8323bfa6",
   "metadata": {},
   "outputs": [],
   "source": [
    "scaled_values = scaler.transform(subset_df)"
   ]
  },
  {
   "cell_type": "code",
   "execution_count": 44,
   "id": "49d500f3",
   "metadata": {},
   "outputs": [],
   "source": [
    "data3[num_feats]=scaled_values"
   ]
  },
  {
   "cell_type": "code",
   "execution_count": 45,
   "id": "e30043b1",
   "metadata": {},
   "outputs": [],
   "source": [
    "#data3.drop(num_feats, axis='columns', inplace=True)"
   ]
  },
  {
   "cell_type": "code",
   "execution_count": 46,
   "id": "dc22b128",
   "metadata": {},
   "outputs": [
    {
     "data": {
      "text/html": [
       "<div>\n",
       "<style scoped>\n",
       "    .dataframe tbody tr th:only-of-type {\n",
       "        vertical-align: middle;\n",
       "    }\n",
       "\n",
       "    .dataframe tbody tr th {\n",
       "        vertical-align: top;\n",
       "    }\n",
       "\n",
       "    .dataframe thead th {\n",
       "        text-align: right;\n",
       "    }\n",
       "</style>\n",
       "<table border=\"1\" class=\"dataframe\">\n",
       "  <thead>\n",
       "    <tr style=\"text-align: right;\">\n",
       "      <th></th>\n",
       "      <th>PassengerId</th>\n",
       "      <th>CryoSleep</th>\n",
       "      <th>Age</th>\n",
       "      <th>VIP</th>\n",
       "      <th>RoomService</th>\n",
       "      <th>FoodCourt</th>\n",
       "      <th>ShoppingMall</th>\n",
       "      <th>Spa</th>\n",
       "      <th>VRDeck</th>\n",
       "      <th>Transported</th>\n",
       "      <th>...</th>\n",
       "      <th>Cabin_region6</th>\n",
       "      <th>Cabin_region7</th>\n",
       "      <th>Surname</th>\n",
       "      <th>Family_size</th>\n",
       "      <th>Earth</th>\n",
       "      <th>Europa</th>\n",
       "      <th>Mars</th>\n",
       "      <th>55 Cancri e</th>\n",
       "      <th>PSO J318.5-22</th>\n",
       "      <th>TRAPPIST-1e</th>\n",
       "    </tr>\n",
       "  </thead>\n",
       "  <tbody>\n",
       "    <tr>\n",
       "      <th>0</th>\n",
       "      <td>0001_01</td>\n",
       "      <td>0</td>\n",
       "      <td>39.0</td>\n",
       "      <td>0</td>\n",
       "      <td>-0.337025</td>\n",
       "      <td>-0.284274</td>\n",
       "      <td>-0.287317</td>\n",
       "      <td>-0.273736</td>\n",
       "      <td>-0.266098</td>\n",
       "      <td>0</td>\n",
       "      <td>...</td>\n",
       "      <td>0</td>\n",
       "      <td>0</td>\n",
       "      <td>Ofracculy</td>\n",
       "      <td>1.0</td>\n",
       "      <td>0</td>\n",
       "      <td>1</td>\n",
       "      <td>0</td>\n",
       "      <td>0</td>\n",
       "      <td>0</td>\n",
       "      <td>1</td>\n",
       "    </tr>\n",
       "    <tr>\n",
       "      <th>1</th>\n",
       "      <td>0002_01</td>\n",
       "      <td>0</td>\n",
       "      <td>24.0</td>\n",
       "      <td>0</td>\n",
       "      <td>-0.173528</td>\n",
       "      <td>-0.278689</td>\n",
       "      <td>-0.245971</td>\n",
       "      <td>0.209267</td>\n",
       "      <td>-0.227692</td>\n",
       "      <td>1</td>\n",
       "      <td>...</td>\n",
       "      <td>0</td>\n",
       "      <td>0</td>\n",
       "      <td>Vines</td>\n",
       "      <td>4.0</td>\n",
       "      <td>1</td>\n",
       "      <td>0</td>\n",
       "      <td>0</td>\n",
       "      <td>0</td>\n",
       "      <td>0</td>\n",
       "      <td>1</td>\n",
       "    </tr>\n",
       "    <tr>\n",
       "      <th>2</th>\n",
       "      <td>0003_01</td>\n",
       "      <td>0</td>\n",
       "      <td>58.0</td>\n",
       "      <td>1</td>\n",
       "      <td>-0.272527</td>\n",
       "      <td>1.934922</td>\n",
       "      <td>-0.287317</td>\n",
       "      <td>5.634034</td>\n",
       "      <td>-0.223327</td>\n",
       "      <td>0</td>\n",
       "      <td>...</td>\n",
       "      <td>0</td>\n",
       "      <td>0</td>\n",
       "      <td>Susent</td>\n",
       "      <td>6.0</td>\n",
       "      <td>0</td>\n",
       "      <td>1</td>\n",
       "      <td>0</td>\n",
       "      <td>0</td>\n",
       "      <td>0</td>\n",
       "      <td>1</td>\n",
       "    </tr>\n",
       "    <tr>\n",
       "      <th>3</th>\n",
       "      <td>0003_02</td>\n",
       "      <td>0</td>\n",
       "      <td>33.0</td>\n",
       "      <td>0</td>\n",
       "      <td>-0.337025</td>\n",
       "      <td>0.511931</td>\n",
       "      <td>0.326250</td>\n",
       "      <td>2.655075</td>\n",
       "      <td>-0.097634</td>\n",
       "      <td>0</td>\n",
       "      <td>...</td>\n",
       "      <td>0</td>\n",
       "      <td>0</td>\n",
       "      <td>Susent</td>\n",
       "      <td>6.0</td>\n",
       "      <td>0</td>\n",
       "      <td>1</td>\n",
       "      <td>0</td>\n",
       "      <td>0</td>\n",
       "      <td>0</td>\n",
       "      <td>1</td>\n",
       "    </tr>\n",
       "    <tr>\n",
       "      <th>4</th>\n",
       "      <td>0004_01</td>\n",
       "      <td>0</td>\n",
       "      <td>16.0</td>\n",
       "      <td>0</td>\n",
       "      <td>0.117466</td>\n",
       "      <td>-0.240833</td>\n",
       "      <td>-0.037590</td>\n",
       "      <td>0.223344</td>\n",
       "      <td>-0.264352</td>\n",
       "      <td>1</td>\n",
       "      <td>...</td>\n",
       "      <td>0</td>\n",
       "      <td>0</td>\n",
       "      <td>Santantines</td>\n",
       "      <td>6.0</td>\n",
       "      <td>1</td>\n",
       "      <td>0</td>\n",
       "      <td>0</td>\n",
       "      <td>0</td>\n",
       "      <td>0</td>\n",
       "      <td>1</td>\n",
       "    </tr>\n",
       "  </tbody>\n",
       "</table>\n",
       "<p>5 rows × 34 columns</p>\n",
       "</div>"
      ],
      "text/plain": [
       "  PassengerId  CryoSleep   Age  VIP  RoomService  FoodCourt  ShoppingMall  \\\n",
       "0     0001_01          0  39.0    0    -0.337025  -0.284274     -0.287317   \n",
       "1     0002_01          0  24.0    0    -0.173528  -0.278689     -0.245971   \n",
       "2     0003_01          0  58.0    1    -0.272527   1.934922     -0.287317   \n",
       "3     0003_02          0  33.0    0    -0.337025   0.511931      0.326250   \n",
       "4     0004_01          0  16.0    0     0.117466  -0.240833     -0.037590   \n",
       "\n",
       "        Spa    VRDeck  Transported  ... Cabin_region6  Cabin_region7  \\\n",
       "0 -0.273736 -0.266098            0  ...             0              0   \n",
       "1  0.209267 -0.227692            1  ...             0              0   \n",
       "2  5.634034 -0.223327            0  ...             0              0   \n",
       "3  2.655075 -0.097634            0  ...             0              0   \n",
       "4  0.223344 -0.264352            1  ...             0              0   \n",
       "\n",
       "       Surname  Family_size  Earth  Europa Mars  55 Cancri e PSO J318.5-22  \\\n",
       "0    Ofracculy          1.0      0       1    0            0             0   \n",
       "1        Vines          4.0      1       0    0            0             0   \n",
       "2       Susent          6.0      0       1    0            0             0   \n",
       "3       Susent          6.0      0       1    0            0             0   \n",
       "4  Santantines          6.0      1       0    0            0             0   \n",
       "\n",
       "   TRAPPIST-1e  \n",
       "0            1  \n",
       "1            1  \n",
       "2            1  \n",
       "3            1  \n",
       "4            1  \n",
       "\n",
       "[5 rows x 34 columns]"
      ]
     },
     "execution_count": 46,
     "metadata": {},
     "output_type": "execute_result"
    }
   ],
   "source": [
    "data3.head(5)"
   ]
  },
  {
   "cell_type": "code",
   "execution_count": 49,
   "id": "9d1c4597",
   "metadata": {},
   "outputs": [],
   "source": [
    "data3.drop(['PassengerId', 'Age_group', 'No_spending', 'Group', 'Cabin_deck', 'Cabin_number' ,'Expenditure', 'Cabin_region1', 'Cabin_region1', 'Cabin_region2', 'Cabin_region3', 'Cabin_region4', 'Cabin_region5', 'Cabin_region6', 'Cabin_region7', 'Surname', 'Family_size' ], axis='columns', inplace=True)"
   ]
  },
  {
   "cell_type": "code",
   "execution_count": 50,
   "id": "571edfdf",
   "metadata": {},
   "outputs": [
    {
     "name": "stdout",
     "output_type": "stream",
     "text": [
      "<class 'pandas.core.frame.DataFrame'>\n",
      "RangeIndex: 8693 entries, 0 to 8692\n",
      "Data columns (total 18 columns):\n",
      " #   Column         Non-Null Count  Dtype  \n",
      "---  ------         --------------  -----  \n",
      " 0   CryoSleep      8693 non-null   int32  \n",
      " 1   Age            8693 non-null   float64\n",
      " 2   VIP            8693 non-null   int32  \n",
      " 3   RoomService    8512 non-null   float64\n",
      " 4   FoodCourt      8510 non-null   float64\n",
      " 5   ShoppingMall   8485 non-null   float64\n",
      " 6   Spa            8510 non-null   float64\n",
      " 7   VRDeck         8505 non-null   float64\n",
      " 8   Transported    8693 non-null   int32  \n",
      " 9   Group_size     8693 non-null   int64  \n",
      " 10  Solo           8693 non-null   int32  \n",
      " 11  Cabin_side     8494 non-null   object \n",
      " 12  Earth          8693 non-null   int32  \n",
      " 13  Europa         8693 non-null   int32  \n",
      " 14  Mars           8693 non-null   int32  \n",
      " 15  55 Cancri e    8693 non-null   int32  \n",
      " 16  PSO J318.5-22  8693 non-null   int32  \n",
      " 17  TRAPPIST-1e    8693 non-null   int32  \n",
      "dtypes: float64(6), int32(10), int64(1), object(1)\n",
      "memory usage: 883.0+ KB\n"
     ]
    }
   ],
   "source": [
    "data3.info()"
   ]
  },
  {
   "cell_type": "code",
   "execution_count": 51,
   "id": "b7687610",
   "metadata": {},
   "outputs": [
    {
     "data": {
      "image/png": "[encoded data removed]",
      "text/plain": [
       "<Figure size 1200x400 with 3 Axes>"
      ]
     },
     "metadata": {},
     "output_type": "display_data"
    }
   ],
   "source": [
    "fig = plt.figure(figsize=(12,4))\n",
    "plt.subplot(1, 3, 1)\n",
    "sns.countplot(data=data3, x='Cabin_side', hue='Transported')\n",
    "plt.title('Cabin_side vs Transported')\n",
    "\n",
    "plt.subplot(1, 3, 2)\n",
    "sns.countplot(data=data3, x='VIP', hue='Transported')\n",
    "plt.title('VIP vs Transported')\n",
    "\n",
    "plt.subplot(1, 3, 3)\n",
    "sns.countplot(data=data3, x='VIP')\n",
    "plt.title('VIP')\n",
    "fig.tight_layout()"
   ]
  },
  {
   "cell_type": "code",
   "execution_count": 53,
   "id": "379e72c6",
   "metadata": {},
   "outputs": [],
   "source": [
    "label = LabelEncoder()\n",
    "data3['Cabin_side_Code'] = label.fit_transform(data3['Cabin_side'])"
   ]
  },
  {
   "cell_type": "code",
   "execution_count": 54,
   "id": "61d98361",
   "metadata": {},
   "outputs": [
    {
     "name": "stdout",
     "output_type": "stream",
     "text": [
      "<class 'pandas.core.frame.DataFrame'>\n",
      "RangeIndex: 8693 entries, 0 to 8692\n",
      "Data columns (total 19 columns):\n",
      " #   Column           Non-Null Count  Dtype  \n",
      "---  ------           --------------  -----  \n",
      " 0   CryoSleep        8693 non-null   int32  \n",
      " 1   Age              8693 non-null   float64\n",
      " 2   VIP              8693 non-null   int32  \n",
      " 3   RoomService      8512 non-null   float64\n",
      " 4   FoodCourt        8510 non-null   float64\n",
      " 5   ShoppingMall     8485 non-null   float64\n",
      " 6   Spa              8510 non-null   float64\n",
      " 7   VRDeck           8505 non-null   float64\n",
      " 8   Transported      8693 non-null   int32  \n",
      " 9   Group_size       8693 non-null   int64  \n",
      " 10  Solo             8693 non-null   int32  \n",
      " 11  Cabin_side       8494 non-null   object \n",
      " 12  Earth            8693 non-null   int32  \n",
      " 13  Europa           8693 non-null   int32  \n",
      " 14  Mars             8693 non-null   int32  \n",
      " 15  55 Cancri e      8693 non-null   int32  \n",
      " 16  PSO J318.5-22    8693 non-null   int32  \n",
      " 17  TRAPPIST-1e      8693 non-null   int32  \n",
      " 18  Cabin_side_Code  8693 non-null   int32  \n",
      "dtypes: float64(6), int32(11), int64(1), object(1)\n",
      "memory usage: 917.0+ KB\n"
     ]
    }
   ],
   "source": [
    "data3.info()"
   ]
  },
  {
   "cell_type": "code",
   "execution_count": 55,
   "id": "f0190b5e",
   "metadata": {},
   "outputs": [],
   "source": [
    "data3.drop(['Cabin_side'], axis='columns', inplace=True)"
   ]
  },
  {
   "cell_type": "code",
   "execution_count": 56,
   "id": "c91c3d6e",
   "metadata": {},
   "outputs": [
    {
     "name": "stdout",
     "output_type": "stream",
     "text": [
      "<class 'pandas.core.frame.DataFrame'>\n",
      "RangeIndex: 8693 entries, 0 to 8692\n",
      "Data columns (total 18 columns):\n",
      " #   Column           Non-Null Count  Dtype  \n",
      "---  ------           --------------  -----  \n",
      " 0   CryoSleep        8693 non-null   int32  \n",
      " 1   Age              8693 non-null   float64\n",
      " 2   VIP              8693 non-null   int32  \n",
      " 3   RoomService      8512 non-null   float64\n",
      " 4   FoodCourt        8510 non-null   float64\n",
      " 5   ShoppingMall     8485 non-null   float64\n",
      " 6   Spa              8510 non-null   float64\n",
      " 7   VRDeck           8505 non-null   float64\n",
      " 8   Transported      8693 non-null   int32  \n",
      " 9   Group_size       8693 non-null   int64  \n",
      " 10  Solo             8693 non-null   int32  \n",
      " 11  Earth            8693 non-null   int32  \n",
      " 12  Europa           8693 non-null   int32  \n",
      " 13  Mars             8693 non-null   int32  \n",
      " 14  55 Cancri e      8693 non-null   int32  \n",
      " 15  PSO J318.5-22    8693 non-null   int32  \n",
      " 16  TRAPPIST-1e      8693 non-null   int32  \n",
      " 17  Cabin_side_Code  8693 non-null   int32  \n",
      "dtypes: float64(6), int32(11), int64(1)\n",
      "memory usage: 849.1 KB\n"
     ]
    }
   ],
   "source": [
    "data3.info()"
   ]
  },
  {
   "cell_type": "code",
   "execution_count": 57,
   "id": "b5b6a137",
   "metadata": {},
   "outputs": [
    {
     "data": {
      "text/plain": [
       "CryoSleep            0\n",
       "Age                  0\n",
       "VIP                  0\n",
       "RoomService        181\n",
       "FoodCourt          183\n",
       "ShoppingMall       208\n",
       "Spa                183\n",
       "VRDeck             188\n",
       "Transported          0\n",
       "Group_size           0\n",
       "Solo                 0\n",
       "Earth                0\n",
       "Europa               0\n",
       "Mars                 0\n",
       "55 Cancri e          0\n",
       "PSO J318.5-22        0\n",
       "TRAPPIST-1e          0\n",
       "Cabin_side_Code      0\n",
       "dtype: int64"
      ]
     },
     "execution_count": 57,
     "metadata": {},
     "output_type": "execute_result"
    }
   ],
   "source": [
    "data3.isna().sum()"
   ]
  },
  {
   "cell_type": "code",
   "execution_count": 59,
   "id": "94265bc0",
   "metadata": {},
   "outputs": [],
   "source": [
    "median_value_RoomService = data3.RoomService.median()\n",
    "median_value_FoodCourt = data3.FoodCourt.median()\n",
    "median_value_ShoppingMall = data3.ShoppingMall.median()\n",
    "median_value_Spa = data3.Spa.median()\n",
    "median_value_VRDeck = data3.VRDeck.median()\n",
    "\n",
    "data3.RoomService.fillna(median_value_RoomService, inplace=True)\n",
    "data3.FoodCourt.fillna(median_value_FoodCourt, inplace=True)\n",
    "data3.ShoppingMall.fillna(median_value_ShoppingMall, inplace=True)\n",
    "data3.Spa.fillna(median_value_Spa, inplace=True)\n",
    "data3.VRDeck.fillna(median_value_VRDeck, inplace=True)\n"
   ]
  },
  {
   "cell_type": "code",
   "execution_count": 60,
   "id": "e5613cfc",
   "metadata": {},
   "outputs": [
    {
     "data": {
      "text/plain": [
       "CryoSleep          0\n",
       "Age                0\n",
       "VIP                0\n",
       "RoomService        0\n",
       "FoodCourt          0\n",
       "ShoppingMall       0\n",
       "Spa                0\n",
       "VRDeck             0\n",
       "Transported        0\n",
       "Group_size         0\n",
       "Solo               0\n",
       "Earth              0\n",
       "Europa             0\n",
       "Mars               0\n",
       "55 Cancri e        0\n",
       "PSO J318.5-22      0\n",
       "TRAPPIST-1e        0\n",
       "Cabin_side_Code    0\n",
       "dtype: int64"
      ]
     },
     "execution_count": 60,
     "metadata": {},
     "output_type": "execute_result"
    }
   ],
   "source": [
    "data3.isna().sum()"
   ]
  },
  {
   "cell_type": "markdown",
   "id": "eb8f0fbb",
   "metadata": {},
   "source": [
    "# Model Creation - Dropping the target column"
   ]
  },
  {
   "cell_type": "code",
   "execution_count": 102,
   "id": "3391dc89",
   "metadata": {},
   "outputs": [],
   "source": [
    "X = data3.drop('Transported', axis='columns')\n",
    "y = data3['Transported']"
   ]
  },
  {
   "cell_type": "markdown",
   "id": "8f2edab9",
   "metadata": {},
   "source": [
    "# Split the dataset into train and test\n",
    "\n",
    "Verifying the length in every piece"
   ]
  },
  {
   "cell_type": "code",
   "execution_count": 64,
   "id": "574538a7",
   "metadata": {},
   "outputs": [
    {
     "name": "stdout",
     "output_type": "stream",
     "text": [
      "X_train Shape: (5824, 17)\n",
      "X_test Shape: (2869, 17)\n",
      "y_train Shape: (5824,)\n",
      "y_test Shape: (2869,)\n"
     ]
    }
   ],
   "source": [
    "X_train, X_test, y_train, y_test = train_test_split(X, y, test_size=0.33, random_state=42)\n",
    "\n",
    "print('X_train Shape: {}'.format(X_train.shape))\n",
    "print('X_test Shape: {}'.format(X_test.shape))\n",
    "print('y_train Shape: {}'.format(y_train.shape))\n",
    "print('y_test Shape: {}'.format(y_test.shape))"
   ]
  },
  {
   "cell_type": "markdown",
   "id": "e62b00b6",
   "metadata": {},
   "source": [
    "#### Importing SVM (Support Vector Machine) and Fitting data with model"
   ]
  },
  {
   "cell_type": "code",
   "execution_count": 66,
   "id": "02aa4cf8",
   "metadata": {},
   "outputs": [],
   "source": [
    "svm = SVC()"
   ]
  },
  {
   "cell_type": "code",
   "execution_count": 67,
   "id": "5ac737c6",
   "metadata": {},
   "outputs": [
    {
     "data": {
      "text/html": [
       "<style>#sk-container-id-2 {color: black;background-color: white;}#sk-container-id-2 pre{padding: 0;}#sk-container-id-2 div.sk-toggleable {background-color: white;}#sk-container-id-2 label.sk-toggleable__label {cursor: pointer;display: block;width: 100%;margin-bottom: 0;padding: 0.3em;box-sizing: border-box;text-align: center;}#sk-container-id-2 label.sk-toggleable__label-arrow:before {content: \"▸\";float: left;margin-right: 0.25em;color: #696969;}#sk-container-id-2 label.sk-toggleable__label-arrow:hover:before {color: black;}#sk-container-id-2 div.sk-estimator:hover label.sk-toggleable__label-arrow:before {color: black;}#sk-container-id-2 div.sk-toggleable__content {max-height: 0;max-width: 0;overflow: hidden;text-align: left;background-color: #f0f8ff;}#sk-container-id-2 div.sk-toggleable__content pre {margin: 0.2em;color: black;border-radius: 0.25em;background-color: #f0f8ff;}#sk-container-id-2 input.sk-toggleable__control:checked~div.sk-toggleable__content {max-height: 200px;max-width: 100%;overflow: auto;}#sk-container-id-2 input.sk-toggleable__control:checked~label.sk-toggleable__label-arrow:before {content: \"▾\";}#sk-container-id-2 div.sk-estimator input.sk-toggleable__control:checked~label.sk-toggleable__label {background-color: #d4ebff;}#sk-container-id-2 div.sk-label input.sk-toggleable__control:checked~label.sk-toggleable__label {background-color: #d4ebff;}#sk-container-id-2 input.sk-hidden--visually {border: 0;clip: rect(1px 1px 1px 1px);clip: rect(1px, 1px, 1px, 1px);height: 1px;margin: -1px;overflow: hidden;padding: 0;position: absolute;width: 1px;}#sk-container-id-2 div.sk-estimator {font-family: monospace;background-color: #f0f8ff;border: 1px dotted black;border-radius: 0.25em;box-sizing: border-box;margin-bottom: 0.5em;}#sk-container-id-2 div.sk-estimator:hover {background-color: #d4ebff;}#sk-container-id-2 div.sk-parallel-item::after {content: \"\";width: 100%;border-bottom: 1px solid gray;flex-grow: 1;}#sk-container-id-2 div.sk-label:hover label.sk-toggleable__label {background-color: #d4ebff;}#sk-container-id-2 div.sk-serial::before {content: \"\";position: absolute;border-left: 1px solid gray;box-sizing: border-box;top: 0;bottom: 0;left: 50%;z-index: 0;}#sk-container-id-2 div.sk-serial {display: flex;flex-direction: column;align-items: center;background-color: white;padding-right: 0.2em;padding-left: 0.2em;position: relative;}#sk-container-id-2 div.sk-item {position: relative;z-index: 1;}#sk-container-id-2 div.sk-parallel {display: flex;align-items: stretch;justify-content: center;background-color: white;position: relative;}#sk-container-id-2 div.sk-item::before, #sk-container-id-2 div.sk-parallel-item::before {content: \"\";position: absolute;border-left: 1px solid gray;box-sizing: border-box;top: 0;bottom: 0;left: 50%;z-index: -1;}#sk-container-id-2 div.sk-parallel-item {display: flex;flex-direction: column;z-index: 1;position: relative;background-color: white;}#sk-container-id-2 div.sk-parallel-item:first-child::after {align-self: flex-end;width: 50%;}#sk-container-id-2 div.sk-parallel-item:last-child::after {align-self: flex-start;width: 50%;}#sk-container-id-2 div.sk-parallel-item:only-child::after {width: 0;}#sk-container-id-2 div.sk-dashed-wrapped {border: 1px dashed gray;margin: 0 0.4em 0.5em 0.4em;box-sizing: border-box;padding-bottom: 0.4em;background-color: white;}#sk-container-id-2 div.sk-label label {font-family: monospace;font-weight: bold;display: inline-block;line-height: 1.2em;}#sk-container-id-2 div.sk-label-container {text-align: center;}#sk-container-id-2 div.sk-container {/* jupyter's `normalize.less` sets `[hidden] { display: none; }` but bootstrap.min.css set `[hidden] { display: none !important; }` so we also need the `!important` here to be able to override the default hidden behavior on the sphinx rendered scikit-learn.org. See: https://github.com/scikit-learn/scikit-learn/issues/21755 */display: inline-block !important;position: relative;}#sk-container-id-2 div.sk-text-repr-fallback {display: none;}</style><div id=\"sk-container-id-2\" class=\"sk-top-container\"><div class=\"sk-text-repr-fallback\"><pre>SVC()</pre><b>In a Jupyter environment, please rerun this cell to show the HTML representation or trust the notebook. <br />On GitHub, the HTML representation is unable to render, please try loading this page with nbviewer.org.</b></div><div class=\"sk-container\" hidden><div class=\"sk-item\"><div class=\"sk-estimator sk-toggleable\"><input class=\"sk-toggleable__control sk-hidden--visually\" id=\"sk-estimator-id-2\" type=\"checkbox\" checked><label for=\"sk-estimator-id-2\" class=\"sk-toggleable__label sk-toggleable__label-arrow\">SVC</label><div class=\"sk-toggleable__content\"><pre>SVC()</pre></div></div></div></div></div>"
      ],
      "text/plain": [
       "SVC()"
      ]
     },
     "execution_count": 67,
     "metadata": {},
     "output_type": "execute_result"
    }
   ],
   "source": [
    "svm.fit(X_train, y_train)"
   ]
  },
  {
   "cell_type": "markdown",
   "id": "96cdaf18",
   "metadata": {},
   "source": [
    "#### Score of the Model"
   ]
  },
  {
   "cell_type": "code",
   "execution_count": 68,
   "id": "5bcbfc59",
   "metadata": {},
   "outputs": [
    {
     "data": {
      "text/plain": [
       "0.7821085164835165"
      ]
     },
     "execution_count": 68,
     "metadata": {},
     "output_type": "execute_result"
    }
   ],
   "source": [
    "svm.score(X_train, y_train)"
   ]
  },
  {
   "cell_type": "markdown",
   "id": "473f562a",
   "metadata": {},
   "source": [
    "#### Predicting Values from our Trained Model"
   ]
  },
  {
   "cell_type": "code",
   "execution_count": 69,
   "id": "b13282c4",
   "metadata": {},
   "outputs": [
    {
     "data": {
      "text/plain": [
       "array([0, 0, 1, ..., 0, 0, 1])"
      ]
     },
     "execution_count": 69,
     "metadata": {},
     "output_type": "execute_result"
    }
   ],
   "source": [
    "svm.predict(X_test)"
   ]
  },
  {
   "cell_type": "markdown",
   "id": "a79230f7",
   "metadata": {},
   "source": [
    "### Random Forest"
   ]
  },
  {
   "cell_type": "code",
   "execution_count": 72,
   "id": "10a4c753",
   "metadata": {},
   "outputs": [],
   "source": [
    "rf = RandomForestClassifier()"
   ]
  },
  {
   "cell_type": "code",
   "execution_count": 73,
   "id": "002a16ad",
   "metadata": {},
   "outputs": [
    {
     "data": {
      "text/html": [
       "<style>#sk-container-id-3 {color: black;background-color: white;}#sk-container-id-3 pre{padding: 0;}#sk-container-id-3 div.sk-toggleable {background-color: white;}#sk-container-id-3 label.sk-toggleable__label {cursor: pointer;display: block;width: 100%;margin-bottom: 0;padding: 0.3em;box-sizing: border-box;text-align: center;}#sk-container-id-3 label.sk-toggleable__label-arrow:before {content: \"▸\";float: left;margin-right: 0.25em;color: #696969;}#sk-container-id-3 label.sk-toggleable__label-arrow:hover:before {color: black;}#sk-container-id-3 div.sk-estimator:hover label.sk-toggleable__label-arrow:before {color: black;}#sk-container-id-3 div.sk-toggleable__content {max-height: 0;max-width: 0;overflow: hidden;text-align: left;background-color: #f0f8ff;}#sk-container-id-3 div.sk-toggleable__content pre {margin: 0.2em;color: black;border-radius: 0.25em;background-color: #f0f8ff;}#sk-container-id-3 input.sk-toggleable__control:checked~div.sk-toggleable__content {max-height: 200px;max-width: 100%;overflow: auto;}#sk-container-id-3 input.sk-toggleable__control:checked~label.sk-toggleable__label-arrow:before {content: \"▾\";}#sk-container-id-3 div.sk-estimator input.sk-toggleable__control:checked~label.sk-toggleable__label {background-color: #d4ebff;}#sk-container-id-3 div.sk-label input.sk-toggleable__control:checked~label.sk-toggleable__label {background-color: #d4ebff;}#sk-container-id-3 input.sk-hidden--visually {border: 0;clip: rect(1px 1px 1px 1px);clip: rect(1px, 1px, 1px, 1px);height: 1px;margin: -1px;overflow: hidden;padding: 0;position: absolute;width: 1px;}#sk-container-id-3 div.sk-estimator {font-family: monospace;background-color: #f0f8ff;border: 1px dotted black;border-radius: 0.25em;box-sizing: border-box;margin-bottom: 0.5em;}#sk-container-id-3 div.sk-estimator:hover {background-color: #d4ebff;}#sk-container-id-3 div.sk-parallel-item::after {content: \"\";width: 100%;border-bottom: 1px solid gray;flex-grow: 1;}#sk-container-id-3 div.sk-label:hover label.sk-toggleable__label {background-color: #d4ebff;}#sk-container-id-3 div.sk-serial::before {content: \"\";position: absolute;border-left: 1px solid gray;box-sizing: border-box;top: 0;bottom: 0;left: 50%;z-index: 0;}#sk-container-id-3 div.sk-serial {display: flex;flex-direction: column;align-items: center;background-color: white;padding-right: 0.2em;padding-left: 0.2em;position: relative;}#sk-container-id-3 div.sk-item {position: relative;z-index: 1;}#sk-container-id-3 div.sk-parallel {display: flex;align-items: stretch;justify-content: center;background-color: white;position: relative;}#sk-container-id-3 div.sk-item::before, #sk-container-id-3 div.sk-parallel-item::before {content: \"\";position: absolute;border-left: 1px solid gray;box-sizing: border-box;top: 0;bottom: 0;left: 50%;z-index: -1;}#sk-container-id-3 div.sk-parallel-item {display: flex;flex-direction: column;z-index: 1;position: relative;background-color: white;}#sk-container-id-3 div.sk-parallel-item:first-child::after {align-self: flex-end;width: 50%;}#sk-container-id-3 div.sk-parallel-item:last-child::after {align-self: flex-start;width: 50%;}#sk-container-id-3 div.sk-parallel-item:only-child::after {width: 0;}#sk-container-id-3 div.sk-dashed-wrapped {border: 1px dashed gray;margin: 0 0.4em 0.5em 0.4em;box-sizing: border-box;padding-bottom: 0.4em;background-color: white;}#sk-container-id-3 div.sk-label label {font-family: monospace;font-weight: bold;display: inline-block;line-height: 1.2em;}#sk-container-id-3 div.sk-label-container {text-align: center;}#sk-container-id-3 div.sk-container {/* jupyter's `normalize.less` sets `[hidden] { display: none; }` but bootstrap.min.css set `[hidden] { display: none !important; }` so we also need the `!important` here to be able to override the default hidden behavior on the sphinx rendered scikit-learn.org. See: https://github.com/scikit-learn/scikit-learn/issues/21755 */display: inline-block !important;position: relative;}#sk-container-id-3 div.sk-text-repr-fallback {display: none;}</style><div id=\"sk-container-id-3\" class=\"sk-top-container\"><div class=\"sk-text-repr-fallback\"><pre>RandomForestClassifier()</pre><b>In a Jupyter environment, please rerun this cell to show the HTML representation or trust the notebook. <br />On GitHub, the HTML representation is unable to render, please try loading this page with nbviewer.org.</b></div><div class=\"sk-container\" hidden><div class=\"sk-item\"><div class=\"sk-estimator sk-toggleable\"><input class=\"sk-toggleable__control sk-hidden--visually\" id=\"sk-estimator-id-3\" type=\"checkbox\" checked><label for=\"sk-estimator-id-3\" class=\"sk-toggleable__label sk-toggleable__label-arrow\">RandomForestClassifier</label><div class=\"sk-toggleable__content\"><pre>RandomForestClassifier()</pre></div></div></div></div></div>"
      ],
      "text/plain": [
       "RandomForestClassifier()"
      ]
     },
     "execution_count": 73,
     "metadata": {},
     "output_type": "execute_result"
    }
   ],
   "source": [
    "rf.fit(X_train, y_train)"
   ]
  },
  {
   "cell_type": "code",
   "execution_count": 74,
   "id": "3fcd1a39",
   "metadata": {},
   "outputs": [
    {
     "data": {
      "text/plain": [
       "0.7706517950505403"
      ]
     },
     "execution_count": 74,
     "metadata": {},
     "output_type": "execute_result"
    }
   ],
   "source": [
    "rf.score(X_test,y_test)"
   ]
  },
  {
   "cell_type": "code",
   "execution_count": 75,
   "id": "58d7b548",
   "metadata": {},
   "outputs": [
    {
     "data": {
      "text/plain": [
       "array([0, 1, 0, ..., 0, 0, 1])"
      ]
     },
     "execution_count": 75,
     "metadata": {},
     "output_type": "execute_result"
    }
   ],
   "source": [
    "rf.predict(X_test)"
   ]
  },
  {
   "cell_type": "markdown",
   "id": "0ea9126e",
   "metadata": {},
   "source": [
    "# Cross Validation\n",
    "\n",
    "Importing K-Fold Cross Validation and dividing data based on n_splits"
   ]
  },
  {
   "cell_type": "code",
   "execution_count": 77,
   "id": "7fc97a0d",
   "metadata": {},
   "outputs": [
    {
     "data": {
      "text/plain": [
       "KFold(n_splits=5, random_state=None, shuffle=False)"
      ]
     },
     "execution_count": 77,
     "metadata": {},
     "output_type": "execute_result"
    }
   ],
   "source": [
    "kf = KFold(n_splits=5)\n",
    "kf"
   ]
  },
  {
   "cell_type": "markdown",
   "id": "e535b8a2",
   "metadata": {},
   "source": [
    "#### Cross Val Score of Support Vector Machine"
   ]
  },
  {
   "cell_type": "code",
   "execution_count": 79,
   "id": "dc7cb064",
   "metadata": {},
   "outputs": [
    {
     "data": {
      "text/plain": [
       "0.7762588580794884"
      ]
     },
     "execution_count": 79,
     "metadata": {},
     "output_type": "execute_result"
    }
   ],
   "source": [
    "cross_val_score(SVC(), X, y).mean()"
   ]
  },
  {
   "cell_type": "markdown",
   "id": "61c7ce65",
   "metadata": {},
   "source": [
    "#### Cross Val Score of Random Forest Classifier"
   ]
  },
  {
   "cell_type": "code",
   "execution_count": 80,
   "id": "b3e828df",
   "metadata": {},
   "outputs": [
    {
     "data": {
      "text/plain": [
       "0.7761431215511474"
      ]
     },
     "execution_count": 80,
     "metadata": {},
     "output_type": "execute_result"
    }
   ],
   "source": [
    "cross_val_score(RandomForestClassifier(), X,y).mean()"
   ]
  },
  {
   "cell_type": "markdown",
   "id": "12215f84",
   "metadata": {},
   "source": [
    "# Verifying and preparing the file submit.csv"
   ]
  },
  {
   "cell_type": "code",
   "execution_count": 83,
   "id": "4a239830",
   "metadata": {},
   "outputs": [
    {
     "name": "stdout",
     "output_type": "stream",
     "text": [
      "<class 'pandas.core.frame.DataFrame'>\n",
      "RangeIndex: 4277 entries, 0 to 4276\n",
      "Data columns (total 29 columns):\n",
      " #   Column         Non-Null Count  Dtype  \n",
      "---  ------         --------------  -----  \n",
      " 0   PassengerId    4277 non-null   object \n",
      " 1   HomePlanet     4190 non-null   object \n",
      " 2   CryoSleep      4184 non-null   object \n",
      " 3   Destination    4185 non-null   object \n",
      " 4   Age            4186 non-null   float64\n",
      " 5   VIP            4184 non-null   object \n",
      " 6   RoomService    4195 non-null   float64\n",
      " 7   FoodCourt      4171 non-null   float64\n",
      " 8   ShoppingMall   4179 non-null   float64\n",
      " 9   Spa            4176 non-null   float64\n",
      " 10  VRDeck         4197 non-null   float64\n",
      " 11  Age_group      4186 non-null   object \n",
      " 12  Expenditure    4277 non-null   float64\n",
      " 13  No_spending    4277 non-null   int32  \n",
      " 14  Group          4277 non-null   int32  \n",
      " 15  Group_size     4277 non-null   int64  \n",
      " 16  Solo           4277 non-null   int32  \n",
      " 17  Cabin_deck     4177 non-null   object \n",
      " 18  Cabin_number   4277 non-null   float64\n",
      " 19  Cabin_side     4177 non-null   object \n",
      " 20  Cabin_region1  4277 non-null   int32  \n",
      " 21  Cabin_region2  4277 non-null   int32  \n",
      " 22  Cabin_region3  4277 non-null   int32  \n",
      " 23  Cabin_region4  4277 non-null   int32  \n",
      " 24  Cabin_region5  4277 non-null   int32  \n",
      " 25  Cabin_region6  4277 non-null   int32  \n",
      " 26  Cabin_region7  4277 non-null   int32  \n",
      " 27  Surname        4183 non-null   object \n",
      " 28  Family_size    4277 non-null   float64\n",
      "dtypes: float64(9), int32(10), int64(1), object(9)\n",
      "memory usage: 802.1+ KB\n"
     ]
    }
   ],
   "source": [
    "data_val.info()"
   ]
  },
  {
   "cell_type": "code",
   "execution_count": 98,
   "id": "22e4609d",
   "metadata": {},
   "outputs": [],
   "source": [
    "data_val['Transported']= data3.Transported.astype(bool)"
   ]
  },
  {
   "cell_type": "code",
   "execution_count": 99,
   "id": "c61469d7",
   "metadata": {},
   "outputs": [
    {
     "name": "stdout",
     "output_type": "stream",
     "text": [
      "<class 'pandas.core.frame.DataFrame'>\n",
      "RangeIndex: 4277 entries, 0 to 4276\n",
      "Data columns (total 30 columns):\n",
      " #   Column         Non-Null Count  Dtype  \n",
      "---  ------         --------------  -----  \n",
      " 0   PassengerId    4277 non-null   object \n",
      " 1   HomePlanet     4190 non-null   object \n",
      " 2   CryoSleep      4184 non-null   object \n",
      " 3   Destination    4185 non-null   object \n",
      " 4   Age            4186 non-null   float64\n",
      " 5   VIP            4184 non-null   object \n",
      " 6   RoomService    4195 non-null   float64\n",
      " 7   FoodCourt      4171 non-null   float64\n",
      " 8   ShoppingMall   4179 non-null   float64\n",
      " 9   Spa            4176 non-null   float64\n",
      " 10  VRDeck         4197 non-null   float64\n",
      " 11  Age_group      4186 non-null   object \n",
      " 12  Expenditure    4277 non-null   float64\n",
      " 13  No_spending    4277 non-null   int32  \n",
      " 14  Group          4277 non-null   int32  \n",
      " 15  Group_size     4277 non-null   int64  \n",
      " 16  Solo           4277 non-null   int32  \n",
      " 17  Cabin_deck     4177 non-null   object \n",
      " 18  Cabin_number   4277 non-null   float64\n",
      " 19  Cabin_side     4177 non-null   object \n",
      " 20  Cabin_region1  4277 non-null   int32  \n",
      " 21  Cabin_region2  4277 non-null   int32  \n",
      " 22  Cabin_region3  4277 non-null   int32  \n",
      " 23  Cabin_region4  4277 non-null   int32  \n",
      " 24  Cabin_region5  4277 non-null   int32  \n",
      " 25  Cabin_region6  4277 non-null   int32  \n",
      " 26  Cabin_region7  4277 non-null   int32  \n",
      " 27  Surname        4183 non-null   object \n",
      " 28  Family_size    4277 non-null   float64\n",
      " 29  Transported    4277 non-null   bool   \n",
      "dtypes: bool(1), float64(9), int32(10), int64(1), object(9)\n",
      "memory usage: 806.2+ KB\n"
     ]
    }
   ],
   "source": [
    "data_val.info()"
   ]
  },
  {
   "cell_type": "markdown",
   "id": "819b82f4",
   "metadata": {},
   "source": [
    "# Create and insert the predictions on the file"
   ]
  },
  {
   "cell_type": "code",
   "execution_count": 100,
   "id": "536f4a38",
   "metadata": {},
   "outputs": [
    {
     "name": "stdout",
     "output_type": "stream",
     "text": [
      "Validation Data Distribution: \n",
      " False    0.516717\n",
      "True     0.483283\n",
      "Name: Transported, dtype: float64\n"
     ]
    },
    {
     "data": {
      "text/html": [
       "<div>\n",
       "<style scoped>\n",
       "    .dataframe tbody tr th:only-of-type {\n",
       "        vertical-align: middle;\n",
       "    }\n",
       "\n",
       "    .dataframe tbody tr th {\n",
       "        vertical-align: top;\n",
       "    }\n",
       "\n",
       "    .dataframe thead th {\n",
       "        text-align: right;\n",
       "    }\n",
       "</style>\n",
       "<table border=\"1\" class=\"dataframe\">\n",
       "  <thead>\n",
       "    <tr style=\"text-align: right;\">\n",
       "      <th></th>\n",
       "      <th>PassengerId</th>\n",
       "      <th>Transported</th>\n",
       "    </tr>\n",
       "  </thead>\n",
       "  <tbody>\n",
       "    <tr>\n",
       "      <th>230</th>\n",
       "      <td>0495_01</td>\n",
       "      <td>False</td>\n",
       "    </tr>\n",
       "    <tr>\n",
       "      <th>3619</th>\n",
       "      <td>7893_05</td>\n",
       "      <td>False</td>\n",
       "    </tr>\n",
       "    <tr>\n",
       "      <th>2447</th>\n",
       "      <td>5335_03</td>\n",
       "      <td>False</td>\n",
       "    </tr>\n",
       "    <tr>\n",
       "      <th>1966</th>\n",
       "      <td>4236_02</td>\n",
       "      <td>True</td>\n",
       "    </tr>\n",
       "    <tr>\n",
       "      <th>3625</th>\n",
       "      <td>7909_02</td>\n",
       "      <td>True</td>\n",
       "    </tr>\n",
       "    <tr>\n",
       "      <th>1756</th>\n",
       "      <td>3721_01</td>\n",
       "      <td>False</td>\n",
       "    </tr>\n",
       "    <tr>\n",
       "      <th>2935</th>\n",
       "      <td>6469_01</td>\n",
       "      <td>True</td>\n",
       "    </tr>\n",
       "    <tr>\n",
       "      <th>2864</th>\n",
       "      <td>6298_01</td>\n",
       "      <td>True</td>\n",
       "    </tr>\n",
       "    <tr>\n",
       "      <th>3186</th>\n",
       "      <td>6974_01</td>\n",
       "      <td>False</td>\n",
       "    </tr>\n",
       "    <tr>\n",
       "      <th>3060</th>\n",
       "      <td>6705_01</td>\n",
       "      <td>True</td>\n",
       "    </tr>\n",
       "  </tbody>\n",
       "</table>\n",
       "</div>"
      ],
      "text/plain": [
       "     PassengerId  Transported\n",
       "230      0495_01        False\n",
       "3619     7893_05        False\n",
       "2447     5335_03        False\n",
       "1966     4236_02         True\n",
       "3625     7909_02         True\n",
       "1756     3721_01        False\n",
       "2935     6469_01         True\n",
       "2864     6298_01         True\n",
       "3186     6974_01        False\n",
       "3060     6705_01         True"
      ]
     },
     "execution_count": 100,
     "metadata": {},
     "output_type": "execute_result"
    }
   ],
   "source": [
    "#submit file\n",
    "submit = data_val[['PassengerId','Transported']]\n",
    "submit.to_csv(\"submission_2.csv\", index=False)\n",
    "\n",
    "print('Validation Data Distribution: \\n', data_val['Transported'].value_counts(normalize = True))\n",
    "submit.sample(10)"
   ]
  },
  {
   "cell_type": "code",
   "execution_count": 101,
   "id": "aafad61d",
   "metadata": {},
   "outputs": [
    {
     "name": "stdout",
     "output_type": "stream",
     "text": [
      "<class 'pandas.core.frame.DataFrame'>\n",
      "RangeIndex: 4277 entries, 0 to 4276\n",
      "Data columns (total 2 columns):\n",
      " #   Column       Non-Null Count  Dtype \n",
      "---  ------       --------------  ----- \n",
      " 0   PassengerId  4277 non-null   object\n",
      " 1   Transported  4277 non-null   bool  \n",
      "dtypes: bool(1), object(1)\n",
      "memory usage: 37.7+ KB\n"
     ]
    }
   ],
   "source": [
    "submit.info()"
   ]
  },
  {
   "cell_type": "code",
   "execution_count": null,
   "id": "285e0905",
   "metadata": {},
   "outputs": [],
   "source": []
  }
 ],
 "metadata": {
  "kernelspec": {
   "display_name": "Python 3 (ipykernel)",
   "language": "python",
   "name": "python3"
  },
  "language_info": {
   "codemirror_mode": {
    "name": "ipython",
    "version": 3
   },
   "file_extension": ".py",
   "mimetype": "text/x-python",
   "name": "python",
   "nbconvert_exporter": "python",
   "pygments_lexer": "ipython3",
   "version": "3.10.6"
  }
 },
 "nbformat": 4,
 "nbformat_minor": 5
}
